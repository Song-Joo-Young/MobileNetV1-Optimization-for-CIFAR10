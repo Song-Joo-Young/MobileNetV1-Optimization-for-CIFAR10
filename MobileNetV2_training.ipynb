{
  "nbformat": 4,
  "nbformat_minor": 0,
  "metadata": {
    "colab": {
      "provenance": [],
      "gpuType": "T4"
    },
    "kernelspec": {
      "name": "python3",
      "display_name": "Python 3"
    },
    "language_info": {
      "name": "python"
    },
    "accelerator": "GPU"
  },
  "cells": [
    {
      "cell_type": "markdown",
      "source": [
        "### **MobileNetV2**\n",
        "* **Model**\n",
        "  * MobileNetV2 from: https://github.com/chenhang98/mobileNet-v2_cifar10/blob/master\n",
        "* **Best accuracy** : [Test set] Average loss: 0.0040, Accuracy: 8735/10000 (87.35%)\n",
        "* **FLOPS** : 319,015,424\n",
        "\n",
        "\n",
        "* **hyperparameter**\n",
        "  * lr=0.1\n",
        "  * weight_decay=4e-5\n",
        "  * batch size = 100\n",
        "  * momentum = 0.9\n",
        "  * epoch = 25\n",
        "  * training time : 3439.5674\n",
        "\n",
        "* **optimizer**\n",
        "  * SGD\n",
        "\n",
        "* **Data augmentation**\n",
        "  *   \n",
        "          transforms.Pad(4),\n",
        "          transforms.RandomHorizontalFlip(),\n",
        "          transforms.RandomCrop(32),\n",
        "          transforms.ToTensor()"
      ],
      "metadata": {
        "id": "p1iew_TQtV2-"
      }
    },
    {
      "cell_type": "code",
      "source": [
        "from google.colab import drive\n",
        "drive.mount('/content/drive')"
      ],
      "metadata": {
        "colab": {
          "base_uri": "https://localhost:8080/"
        },
        "id": "2AI4a_dZaBSK",
        "outputId": "d00da5fb-f4ef-4e26-a0f1-d97302be9843"
      },
      "execution_count": null,
      "outputs": [
        {
          "output_type": "stream",
          "name": "stdout",
          "text": [
            "Mounted at /content/drive\n"
          ]
        }
      ]
    },
    {
      "cell_type": "code",
      "source": [
        "save_path = \"/content/drive/MyDrive/ML Project/MobileNetV2/model\""
      ],
      "metadata": {
        "id": "cIYHQYIwadOX"
      },
      "execution_count": null,
      "outputs": []
    },
    {
      "cell_type": "code",
      "source": [
        "import torch\n",
        "import torch.nn as nn\n",
        "from torch.optim import Optimizer\n",
        "from torch.utils.data import DataLoader\n",
        "from torchvision import datasets\n",
        "from torchvision.transforms import transforms\n",
        "import torch.nn.functional as F\n",
        "\n",
        "device = torch.device(\"cuda:0\" if torch.cuda.is_available() else \"cpu\")\n",
        "\n",
        "if torch.cuda.is_available():\n",
        "    print(\"Current GPU Index:\", torch.cuda.current_device())\n",
        "    print(\"Current GPU Name:\", torch.cuda.get_device_name(torch.cuda.current_device()))"
      ],
      "metadata": {
        "colab": {
          "base_uri": "https://localhost:8080/"
        },
        "id": "o_K9X9LIsQzH",
        "outputId": "28154ef3-fcf8-4eee-ac66-9ad8e5add17b"
      },
      "execution_count": null,
      "outputs": [
        {
          "output_type": "stream",
          "name": "stdout",
          "text": [
            "Current GPU Index: 0\n",
            "Current GPU Name: Tesla T4\n"
          ]
        }
      ]
    },
    {
      "cell_type": "code",
      "source": [
        "transform = transforms.Compose([\n",
        "    transforms.Pad(4),\n",
        "    transforms.RandomHorizontalFlip(),\n",
        "    transforms.RandomCrop(32),\n",
        "    transforms.ToTensor()])\n",
        "\n",
        "train_dataset = datasets.CIFAR10(root='./cifar_10data/',\n",
        "                                 train=True,\n",
        "                                 transform=transform,\n",
        "                                 download=True)\n",
        "\n",
        "test_dataset = datasets.CIFAR10(root='./cifar_10data/',\n",
        "                                train=False,\n",
        "                                transform=transforms.ToTensor())"
      ],
      "metadata": {
        "id": "J7KM3WnqsUAs",
        "colab": {
          "base_uri": "https://localhost:8080/"
        },
        "outputId": "a9086279-021a-4365-ff01-a55f3558319f"
      },
      "execution_count": null,
      "outputs": [
        {
          "output_type": "stream",
          "name": "stdout",
          "text": [
            "Downloading https://www.cs.toronto.edu/~kriz/cifar-10-python.tar.gz to ./cifar_10data/cifar-10-python.tar.gz\n"
          ]
        },
        {
          "output_type": "stream",
          "name": "stderr",
          "text": [
            "100%|██████████| 170498071/170498071 [00:04<00:00, 42014643.37it/s]\n"
          ]
        },
        {
          "output_type": "stream",
          "name": "stdout",
          "text": [
            "Extracting ./cifar_10data/cifar-10-python.tar.gz to ./cifar_10data/\n"
          ]
        }
      ]
    },
    {
      "cell_type": "code",
      "source": [
        "import math\n",
        "\n",
        "class BaseBlock(nn.Module):\n",
        "    alpha = 1\n",
        "\n",
        "    def __init__(self, input_channel, output_channel, t = 6, downsample = False):\n",
        "        \"\"\"\n",
        "            t:  expansion factor, t*input_channel is channel of expansion layer\n",
        "            alpha:  width multiplier, to get thinner models\n",
        "            rho:    resolution multiplier, to get reduced representation\n",
        "        \"\"\"\n",
        "        super(BaseBlock, self).__init__()\n",
        "        self.stride = 2 if downsample else 1\n",
        "        self.downsample = downsample\n",
        "        self.shortcut = (not downsample) and (input_channel == output_channel)\n",
        "\n",
        "        # apply alpha\n",
        "        input_channel = int(self.alpha * input_channel)\n",
        "        output_channel = int(self.alpha * output_channel)\n",
        "\n",
        "        # for main path:\n",
        "        c  = t * input_channel\n",
        "        # 1x1   point wise conv\n",
        "        self.conv1 = nn.Conv2d(input_channel, c, kernel_size = 1, bias = False)\n",
        "        self.bn1 = nn.BatchNorm2d(c)\n",
        "        # 3x3   depth wise conv\n",
        "        self.conv2 = nn.Conv2d(c, c, kernel_size = 3, stride = self.stride, padding = 1, groups = c, bias = False)\n",
        "        self.bn2 = nn.BatchNorm2d(c)\n",
        "        # 1x1   point wise conv\n",
        "        self.conv3 = nn.Conv2d(c, output_channel, kernel_size = 1, bias = False)\n",
        "        self.bn3 = nn.BatchNorm2d(output_channel)\n",
        "\n",
        "\n",
        "    def forward(self, inputs):\n",
        "        # main path\n",
        "        x = F.relu6(self.bn1(self.conv1(inputs)), inplace = True)\n",
        "        x = F.relu6(self.bn2(self.conv2(x)), inplace = True)\n",
        "        x = self.bn3(self.conv3(x))\n",
        "\n",
        "        # shortcut path\n",
        "        x = x + inputs if self.shortcut else x\n",
        "\n",
        "        return x\n",
        "\n",
        "class MobileNetV2(nn.Module):\n",
        "    def __init__(self, output_size, alpha = 1):\n",
        "        super(MobileNetV2, self).__init__()\n",
        "        self.output_size = output_size\n",
        "\n",
        "        # first conv layer\n",
        "        self.conv0 = nn.Conv2d(3, int(32*alpha), kernel_size = 3, stride = 1, padding = 1, bias = False)\n",
        "        self.bn0 = nn.BatchNorm2d(int(32*alpha))\n",
        "\n",
        "        # build bottlenecks\n",
        "        BaseBlock.alpha = alpha\n",
        "        self.bottlenecks = nn.Sequential(\n",
        "            BaseBlock(32, 16, t = 1, downsample = False),\n",
        "            BaseBlock(16, 24, downsample = False),\n",
        "            BaseBlock(24, 24),\n",
        "            BaseBlock(24, 32, downsample = False),\n",
        "            BaseBlock(32, 32),\n",
        "            BaseBlock(32, 32),\n",
        "            BaseBlock(32, 64, downsample = True),\n",
        "            BaseBlock(64, 64),\n",
        "            BaseBlock(64, 64),\n",
        "            BaseBlock(64, 64),\n",
        "            BaseBlock(64, 96, downsample = False),\n",
        "            BaseBlock(96, 96),\n",
        "            BaseBlock(96, 96),\n",
        "            BaseBlock(96, 160, downsample = True),\n",
        "            BaseBlock(160, 160),\n",
        "            BaseBlock(160, 160),\n",
        "            BaseBlock(160, 320, downsample = False))\n",
        "\n",
        "        # last conv layers and fc layer\n",
        "        self.conv1 = nn.Conv2d(int(320*alpha), 1280, kernel_size = 1, bias = False)\n",
        "        self.bn1 = nn.BatchNorm2d(1280)\n",
        "        self.fc = nn.Linear(1280, output_size)\n",
        "\n",
        "        # weights init\n",
        "        self.weights_init()\n",
        "\n",
        "\n",
        "    def weights_init(self):\n",
        "        for m in self.modules():\n",
        "            if isinstance(m, nn.Conv2d):\n",
        "                n = m.kernel_size[0] * m.kernel_size[1] * m.out_channels\n",
        "                m.weight.data.normal_(0, math.sqrt(2. / n))\n",
        "\n",
        "            elif isinstance(m, nn.BatchNorm2d):\n",
        "                m.weight.data.fill_(1)\n",
        "                m.bias.data.zero_()\n",
        "\n",
        "\n",
        "    def forward(self, inputs):\n",
        "\n",
        "        # first conv layer\n",
        "        x = F.relu6(self.bn0(self.conv0(inputs)), inplace = True)\n",
        "        # assert x.shape[1:] == torch.Size([32, 32, 32])\n",
        "\n",
        "        # bottlenecks\n",
        "        x = self.bottlenecks(x)\n",
        "        # assert x.shape[1:] == torch.Size([320, 8, 8])\n",
        "\n",
        "        # last conv layer\n",
        "        x = F.relu6(self.bn1(self.conv1(x)), inplace = True)\n",
        "        # assert x.shape[1:] == torch.Size([1280,8,8])\n",
        "\n",
        "        # global pooling and fc (in place of conv 1x1 in paper)\n",
        "        x = F.adaptive_avg_pool2d(x, 1)\n",
        "        x = x.view(x.shape[0], -1)\n",
        "        x = self.fc(x)\n",
        "\n",
        "        return x"
      ],
      "metadata": {
        "id": "C0qb-jecwyYJ"
      },
      "execution_count": null,
      "outputs": []
    },
    {
      "cell_type": "code",
      "source": [
        "from torchsummary import summary\n",
        "\n",
        "model = MobileNetV2(10, alpha = 1).to(device)\n",
        "\n",
        "print(\"MobileNetV2 torchsummary\")\n",
        "summary(model, (3, 32, 32))"
      ],
      "metadata": {
        "colab": {
          "base_uri": "https://localhost:8080/"
        },
        "id": "g3FTMKk4y2LB",
        "outputId": "067c0770-4762-4c9a-cedc-eb9b345c41aa"
      },
      "execution_count": null,
      "outputs": [
        {
          "output_type": "stream",
          "name": "stdout",
          "text": [
            "MobileNetV2 torchsummary\n",
            "----------------------------------------------------------------\n",
            "        Layer (type)               Output Shape         Param #\n",
            "================================================================\n",
            "            Conv2d-1           [-1, 32, 32, 32]             864\n",
            "       BatchNorm2d-2           [-1, 32, 32, 32]              64\n",
            "            Conv2d-3           [-1, 32, 32, 32]           1,024\n",
            "       BatchNorm2d-4           [-1, 32, 32, 32]              64\n",
            "            Conv2d-5           [-1, 32, 32, 32]             288\n",
            "       BatchNorm2d-6           [-1, 32, 32, 32]              64\n",
            "            Conv2d-7           [-1, 16, 32, 32]             512\n",
            "       BatchNorm2d-8           [-1, 16, 32, 32]              32\n",
            "         BaseBlock-9           [-1, 16, 32, 32]               0\n",
            "           Conv2d-10           [-1, 96, 32, 32]           1,536\n",
            "      BatchNorm2d-11           [-1, 96, 32, 32]             192\n",
            "           Conv2d-12           [-1, 96, 32, 32]             864\n",
            "      BatchNorm2d-13           [-1, 96, 32, 32]             192\n",
            "           Conv2d-14           [-1, 24, 32, 32]           2,304\n",
            "      BatchNorm2d-15           [-1, 24, 32, 32]              48\n",
            "        BaseBlock-16           [-1, 24, 32, 32]               0\n",
            "           Conv2d-17          [-1, 144, 32, 32]           3,456\n",
            "      BatchNorm2d-18          [-1, 144, 32, 32]             288\n",
            "           Conv2d-19          [-1, 144, 32, 32]           1,296\n",
            "      BatchNorm2d-20          [-1, 144, 32, 32]             288\n",
            "           Conv2d-21           [-1, 24, 32, 32]           3,456\n",
            "      BatchNorm2d-22           [-1, 24, 32, 32]              48\n",
            "        BaseBlock-23           [-1, 24, 32, 32]               0\n",
            "           Conv2d-24          [-1, 144, 32, 32]           3,456\n",
            "      BatchNorm2d-25          [-1, 144, 32, 32]             288\n",
            "           Conv2d-26          [-1, 144, 32, 32]           1,296\n",
            "      BatchNorm2d-27          [-1, 144, 32, 32]             288\n",
            "           Conv2d-28           [-1, 32, 32, 32]           4,608\n",
            "      BatchNorm2d-29           [-1, 32, 32, 32]              64\n",
            "        BaseBlock-30           [-1, 32, 32, 32]               0\n",
            "           Conv2d-31          [-1, 192, 32, 32]           6,144\n",
            "      BatchNorm2d-32          [-1, 192, 32, 32]             384\n",
            "           Conv2d-33          [-1, 192, 32, 32]           1,728\n",
            "      BatchNorm2d-34          [-1, 192, 32, 32]             384\n",
            "           Conv2d-35           [-1, 32, 32, 32]           6,144\n",
            "      BatchNorm2d-36           [-1, 32, 32, 32]              64\n",
            "        BaseBlock-37           [-1, 32, 32, 32]               0\n",
            "           Conv2d-38          [-1, 192, 32, 32]           6,144\n",
            "      BatchNorm2d-39          [-1, 192, 32, 32]             384\n",
            "           Conv2d-40          [-1, 192, 32, 32]           1,728\n",
            "      BatchNorm2d-41          [-1, 192, 32, 32]             384\n",
            "           Conv2d-42           [-1, 32, 32, 32]           6,144\n",
            "      BatchNorm2d-43           [-1, 32, 32, 32]              64\n",
            "        BaseBlock-44           [-1, 32, 32, 32]               0\n",
            "           Conv2d-45          [-1, 192, 32, 32]           6,144\n",
            "      BatchNorm2d-46          [-1, 192, 32, 32]             384\n",
            "           Conv2d-47          [-1, 192, 16, 16]           1,728\n",
            "      BatchNorm2d-48          [-1, 192, 16, 16]             384\n",
            "           Conv2d-49           [-1, 64, 16, 16]          12,288\n",
            "      BatchNorm2d-50           [-1, 64, 16, 16]             128\n",
            "        BaseBlock-51           [-1, 64, 16, 16]               0\n",
            "           Conv2d-52          [-1, 384, 16, 16]          24,576\n",
            "      BatchNorm2d-53          [-1, 384, 16, 16]             768\n",
            "           Conv2d-54          [-1, 384, 16, 16]           3,456\n",
            "      BatchNorm2d-55          [-1, 384, 16, 16]             768\n",
            "           Conv2d-56           [-1, 64, 16, 16]          24,576\n",
            "      BatchNorm2d-57           [-1, 64, 16, 16]             128\n",
            "        BaseBlock-58           [-1, 64, 16, 16]               0\n",
            "           Conv2d-59          [-1, 384, 16, 16]          24,576\n",
            "      BatchNorm2d-60          [-1, 384, 16, 16]             768\n",
            "           Conv2d-61          [-1, 384, 16, 16]           3,456\n",
            "      BatchNorm2d-62          [-1, 384, 16, 16]             768\n",
            "           Conv2d-63           [-1, 64, 16, 16]          24,576\n",
            "      BatchNorm2d-64           [-1, 64, 16, 16]             128\n",
            "        BaseBlock-65           [-1, 64, 16, 16]               0\n",
            "           Conv2d-66          [-1, 384, 16, 16]          24,576\n",
            "      BatchNorm2d-67          [-1, 384, 16, 16]             768\n",
            "           Conv2d-68          [-1, 384, 16, 16]           3,456\n",
            "      BatchNorm2d-69          [-1, 384, 16, 16]             768\n",
            "           Conv2d-70           [-1, 64, 16, 16]          24,576\n",
            "      BatchNorm2d-71           [-1, 64, 16, 16]             128\n",
            "        BaseBlock-72           [-1, 64, 16, 16]               0\n",
            "           Conv2d-73          [-1, 384, 16, 16]          24,576\n",
            "      BatchNorm2d-74          [-1, 384, 16, 16]             768\n",
            "           Conv2d-75          [-1, 384, 16, 16]           3,456\n",
            "      BatchNorm2d-76          [-1, 384, 16, 16]             768\n",
            "           Conv2d-77           [-1, 96, 16, 16]          36,864\n",
            "      BatchNorm2d-78           [-1, 96, 16, 16]             192\n",
            "        BaseBlock-79           [-1, 96, 16, 16]               0\n",
            "           Conv2d-80          [-1, 576, 16, 16]          55,296\n",
            "      BatchNorm2d-81          [-1, 576, 16, 16]           1,152\n",
            "           Conv2d-82          [-1, 576, 16, 16]           5,184\n",
            "      BatchNorm2d-83          [-1, 576, 16, 16]           1,152\n",
            "           Conv2d-84           [-1, 96, 16, 16]          55,296\n",
            "      BatchNorm2d-85           [-1, 96, 16, 16]             192\n",
            "        BaseBlock-86           [-1, 96, 16, 16]               0\n",
            "           Conv2d-87          [-1, 576, 16, 16]          55,296\n",
            "      BatchNorm2d-88          [-1, 576, 16, 16]           1,152\n",
            "           Conv2d-89          [-1, 576, 16, 16]           5,184\n",
            "      BatchNorm2d-90          [-1, 576, 16, 16]           1,152\n",
            "           Conv2d-91           [-1, 96, 16, 16]          55,296\n",
            "      BatchNorm2d-92           [-1, 96, 16, 16]             192\n",
            "        BaseBlock-93           [-1, 96, 16, 16]               0\n",
            "           Conv2d-94          [-1, 576, 16, 16]          55,296\n",
            "      BatchNorm2d-95          [-1, 576, 16, 16]           1,152\n",
            "           Conv2d-96            [-1, 576, 8, 8]           5,184\n",
            "      BatchNorm2d-97            [-1, 576, 8, 8]           1,152\n",
            "           Conv2d-98            [-1, 160, 8, 8]          92,160\n",
            "      BatchNorm2d-99            [-1, 160, 8, 8]             320\n",
            "       BaseBlock-100            [-1, 160, 8, 8]               0\n",
            "          Conv2d-101            [-1, 960, 8, 8]         153,600\n",
            "     BatchNorm2d-102            [-1, 960, 8, 8]           1,920\n",
            "          Conv2d-103            [-1, 960, 8, 8]           8,640\n",
            "     BatchNorm2d-104            [-1, 960, 8, 8]           1,920\n",
            "          Conv2d-105            [-1, 160, 8, 8]         153,600\n",
            "     BatchNorm2d-106            [-1, 160, 8, 8]             320\n",
            "       BaseBlock-107            [-1, 160, 8, 8]               0\n",
            "          Conv2d-108            [-1, 960, 8, 8]         153,600\n",
            "     BatchNorm2d-109            [-1, 960, 8, 8]           1,920\n",
            "          Conv2d-110            [-1, 960, 8, 8]           8,640\n",
            "     BatchNorm2d-111            [-1, 960, 8, 8]           1,920\n",
            "          Conv2d-112            [-1, 160, 8, 8]         153,600\n",
            "     BatchNorm2d-113            [-1, 160, 8, 8]             320\n",
            "       BaseBlock-114            [-1, 160, 8, 8]               0\n",
            "          Conv2d-115            [-1, 960, 8, 8]         153,600\n",
            "     BatchNorm2d-116            [-1, 960, 8, 8]           1,920\n",
            "          Conv2d-117            [-1, 960, 8, 8]           8,640\n",
            "     BatchNorm2d-118            [-1, 960, 8, 8]           1,920\n",
            "          Conv2d-119            [-1, 320, 8, 8]         307,200\n",
            "     BatchNorm2d-120            [-1, 320, 8, 8]             640\n",
            "       BaseBlock-121            [-1, 320, 8, 8]               0\n",
            "          Conv2d-122           [-1, 1280, 8, 8]         409,600\n",
            "     BatchNorm2d-123           [-1, 1280, 8, 8]           2,560\n",
            "          Linear-124                   [-1, 10]          12,810\n",
            "================================================================\n",
            "Total params: 2,237,770\n",
            "Trainable params: 2,237,770\n",
            "Non-trainable params: 0\n",
            "----------------------------------------------------------------\n",
            "Input size (MB): 0.01\n",
            "Forward/backward pass size (MB): 68.05\n",
            "Params size (MB): 8.54\n",
            "Estimated Total Size (MB): 76.60\n",
            "----------------------------------------------------------------\n"
          ]
        }
      ]
    },
    {
      "cell_type": "code",
      "source": [
        "!pip install fvcore"
      ],
      "metadata": {
        "id": "Ajf3BBbg6a-1",
        "colab": {
          "base_uri": "https://localhost:8080/"
        },
        "outputId": "bf6eb960-c03e-4c8e-a13c-3272cca61c7c"
      },
      "execution_count": null,
      "outputs": [
        {
          "output_type": "stream",
          "name": "stdout",
          "text": [
            "Collecting fvcore\n",
            "  Downloading fvcore-0.1.5.post20221221.tar.gz (50 kB)\n",
            "\u001b[2K     \u001b[90m━━━━━━━━━━━━━━━━━━━━━━━━━━━━━━━━━━━━━━━━\u001b[0m \u001b[32m50.2/50.2 kB\u001b[0m \u001b[31m1.9 MB/s\u001b[0m eta \u001b[36m0:00:00\u001b[0m\n",
            "\u001b[?25h  Preparing metadata (setup.py) ... \u001b[?25l\u001b[?25hdone\n",
            "Requirement already satisfied: numpy in /usr/local/lib/python3.10/dist-packages (from fvcore) (1.23.5)\n",
            "Collecting yacs>=0.1.6 (from fvcore)\n",
            "  Downloading yacs-0.1.8-py3-none-any.whl (14 kB)\n",
            "Requirement already satisfied: pyyaml>=5.1 in /usr/local/lib/python3.10/dist-packages (from fvcore) (6.0.1)\n",
            "Requirement already satisfied: tqdm in /usr/local/lib/python3.10/dist-packages (from fvcore) (4.66.1)\n",
            "Requirement already satisfied: termcolor>=1.1 in /usr/local/lib/python3.10/dist-packages (from fvcore) (2.3.0)\n",
            "Requirement already satisfied: Pillow in /usr/local/lib/python3.10/dist-packages (from fvcore) (9.4.0)\n",
            "Requirement already satisfied: tabulate in /usr/local/lib/python3.10/dist-packages (from fvcore) (0.9.0)\n",
            "Collecting iopath>=0.1.7 (from fvcore)\n",
            "  Downloading iopath-0.1.10.tar.gz (42 kB)\n",
            "\u001b[2K     \u001b[90m━━━━━━━━━━━━━━━━━━━━━━━━━━━━━━━━━━━━━━━━\u001b[0m \u001b[32m42.2/42.2 kB\u001b[0m \u001b[31m4.2 MB/s\u001b[0m eta \u001b[36m0:00:00\u001b[0m\n",
            "\u001b[?25h  Preparing metadata (setup.py) ... \u001b[?25l\u001b[?25hdone\n",
            "Requirement already satisfied: typing_extensions in /usr/local/lib/python3.10/dist-packages (from iopath>=0.1.7->fvcore) (4.5.0)\n",
            "Collecting portalocker (from iopath>=0.1.7->fvcore)\n",
            "  Downloading portalocker-2.8.2-py3-none-any.whl (17 kB)\n",
            "Building wheels for collected packages: fvcore, iopath\n",
            "  Building wheel for fvcore (setup.py) ... \u001b[?25l\u001b[?25hdone\n",
            "  Created wheel for fvcore: filename=fvcore-0.1.5.post20221221-py3-none-any.whl size=61400 sha256=7ae51109bfb41dd357a0c93b90bd0d73ce85d5616de3acc37632e77179ca7a53\n",
            "  Stored in directory: /root/.cache/pip/wheels/01/c0/af/77c1cf53a1be9e42a52b48e5af2169d40ec2e89f7362489dd0\n",
            "  Building wheel for iopath (setup.py) ... \u001b[?25l\u001b[?25hdone\n",
            "  Created wheel for iopath: filename=iopath-0.1.10-py3-none-any.whl size=31532 sha256=a5088bf3cb01834664ea9dc652cc1ba9f9000f5cfcd8292c47c2e551106fd997\n",
            "  Stored in directory: /root/.cache/pip/wheels/9a/a3/b6/ac0fcd1b4ed5cfeb3db92e6a0e476cfd48ed0df92b91080c1d\n",
            "Successfully built fvcore iopath\n",
            "Installing collected packages: yacs, portalocker, iopath, fvcore\n",
            "Successfully installed fvcore-0.1.5.post20221221 iopath-0.1.10 portalocker-2.8.2 yacs-0.1.8\n"
          ]
        }
      ]
    },
    {
      "cell_type": "code",
      "source": [
        "from fvcore.nn import FlopCountAnalysis\n",
        "\n",
        "inputs = torch.randn(1, 3, 32, 32).to(device)\n",
        "\n",
        "flops = FlopCountAnalysis(model, inputs)\n",
        "print(flops.total())  # 총 FLOPS 출력"
      ],
      "metadata": {
        "id": "s3OrYQ076X2U",
        "colab": {
          "base_uri": "https://localhost:8080/"
        },
        "outputId": "a689cd08-8f1d-4770-dc8e-91aea51d8824"
      },
      "execution_count": null,
      "outputs": [
        {
          "output_type": "stream",
          "name": "stderr",
          "text": [
            "WARNING:fvcore.nn.jit_analysis:Unsupported operator aten::add_ encountered 53 time(s)\n",
            "WARNING:fvcore.nn.jit_analysis:Unsupported operator aten::relu6_ encountered 36 time(s)\n",
            "WARNING:fvcore.nn.jit_analysis:Unsupported operator aten::add encountered 10 time(s)\n"
          ]
        },
        {
          "output_type": "stream",
          "name": "stdout",
          "text": [
            "319015424\n"
          ]
        }
      ]
    },
    {
      "cell_type": "code",
      "source": [
        "loss_function = torch.nn.CrossEntropyLoss()\n",
        "optimizer = torch.optim.SGD(model.parameters(), lr = 1e-1, weight_decay = 4e-5, momentum = 0.9)"
      ],
      "metadata": {
        "id": "p4eTvfE-sULa"
      },
      "execution_count": null,
      "outputs": []
    },
    {
      "cell_type": "code",
      "source": [
        "from tqdm import tqdm\n",
        "import torch\n",
        "import os\n",
        "\n",
        "model.train()\n",
        "train_loader = torch.utils.data.DataLoader(dataset=train_dataset, batch_size=100, shuffle=True)\n",
        "test_loader = torch.utils.data.DataLoader(dataset=test_dataset, batch_size=100, shuffle=False)\n",
        "\n",
        "best_accuracy = 0.0\n",
        "accuracy_list = []\n",
        "test_loss_list = []\n",
        "train_loss_list = []\n",
        "\n",
        "import time\n",
        "start = time.time()\n",
        "\n",
        "\n",
        "for epoch in range(25):\n",
        "    print(f\"{epoch}th epoch starting.\")\n",
        "    batch_num = len(train_loader)\n",
        "\n",
        "    train_loss_epoch, test_loss, correct, total = 0, 0, 0, 0\n",
        "\n",
        "\n",
        "    pbar = tqdm(enumerate(train_loader), total=batch_num, dynamic_ncols=True, position=0, leave=True)\n",
        "    for i, (images, labels) in pbar:\n",
        "        images, labels = images.to(device), labels.to(device)\n",
        "\n",
        "        optimizer.zero_grad()\n",
        "        train_loss = loss_function(model(images), labels)\n",
        "        train_loss.backward()\n",
        "\n",
        "        optimizer.step()\n",
        "        train_loss_epoch += train_loss.item()\n",
        "\n",
        "        # 현재 배치의 Loss 값 표시\n",
        "        pbar.set_description(f\"Epoch {epoch + 1}, Batch {i + 1}, Loss: {train_loss.item():.4f}\")\n",
        "\n",
        "    train_loss_list.append(train_loss_epoch / batch_num)\n",
        "\n",
        "    with torch.no_grad():\n",
        "        for images, labels in test_loader:\n",
        "            images, labels = images.to(device), labels.to(device)\n",
        "\n",
        "            output = model(images)\n",
        "            test_loss += loss_function(output, labels).item()\n",
        "\n",
        "            pred = output.max(1, keepdim=True)[1]\n",
        "            correct += pred.eq(labels.view_as(pred)).sum().item()\n",
        "\n",
        "            total += labels.size(0)\n",
        "\n",
        "    accuracy = 100. * correct / total\n",
        "    test_loss_list.append(test_loss / batch_num)\n",
        "    accuracy_list.append(accuracy)\n",
        "\n",
        "    # 최고 성능 모델 저장\n",
        "    if accuracy > best_accuracy:\n",
        "        best_accuracy = accuracy\n",
        "        model_filename = f\"best_model_epoch_{epoch+1}.pkt\"\n",
        "        model_save_path = os.path.join(save_path, model_filename)\n",
        "\n",
        "        torch.save(model.state_dict(), model_save_path)\n",
        "        # print(f\"Epoch {epoch + 1}: Best model saved with accuracy: {accuracy:.4f}\")\n",
        "\n",
        "end = time.time()\n",
        "print(\"Time elapsed in training is: {}\".format(end - start))"
      ],
      "metadata": {
        "id": "ki74sNzbsUVQ",
        "colab": {
          "base_uri": "https://localhost:8080/"
        },
        "outputId": "8aeb177d-d760-4a50-f7d6-ebb51e978173"
      },
      "execution_count": null,
      "outputs": [
        {
          "output_type": "stream",
          "name": "stdout",
          "text": [
            "0th epoch starting.\n"
          ]
        },
        {
          "output_type": "stream",
          "name": "stderr",
          "text": [
            "Epoch 1, Batch 500, Loss: 0.6833: 100%|██████████| 500/500 [02:09<00:00,  3.87it/s]\n"
          ]
        },
        {
          "output_type": "stream",
          "name": "stdout",
          "text": [
            "1th epoch starting.\n"
          ]
        },
        {
          "output_type": "stream",
          "name": "stderr",
          "text": [
            "Epoch 2, Batch 500, Loss: 0.6235: 100%|██████████| 500/500 [02:08<00:00,  3.88it/s]\n"
          ]
        },
        {
          "output_type": "stream",
          "name": "stdout",
          "text": [
            "2th epoch starting.\n"
          ]
        },
        {
          "output_type": "stream",
          "name": "stderr",
          "text": [
            "Epoch 3, Batch 500, Loss: 0.5327: 100%|██████████| 500/500 [02:08<00:00,  3.88it/s]\n"
          ]
        },
        {
          "output_type": "stream",
          "name": "stdout",
          "text": [
            "3th epoch starting.\n"
          ]
        },
        {
          "output_type": "stream",
          "name": "stderr",
          "text": [
            "Epoch 4, Batch 500, Loss: 0.6964: 100%|██████████| 500/500 [02:08<00:00,  3.88it/s]\n"
          ]
        },
        {
          "output_type": "stream",
          "name": "stdout",
          "text": [
            "4th epoch starting.\n"
          ]
        },
        {
          "output_type": "stream",
          "name": "stderr",
          "text": [
            "Epoch 5, Batch 500, Loss: 0.5760: 100%|██████████| 500/500 [02:09<00:00,  3.85it/s]\n"
          ]
        },
        {
          "output_type": "stream",
          "name": "stdout",
          "text": [
            "5th epoch starting.\n"
          ]
        },
        {
          "output_type": "stream",
          "name": "stderr",
          "text": [
            "Epoch 6, Batch 500, Loss: 0.3473: 100%|██████████| 500/500 [02:08<00:00,  3.88it/s]\n"
          ]
        },
        {
          "output_type": "stream",
          "name": "stdout",
          "text": [
            "6th epoch starting.\n"
          ]
        },
        {
          "output_type": "stream",
          "name": "stderr",
          "text": [
            "Epoch 7, Batch 500, Loss: 0.4383: 100%|██████████| 500/500 [02:08<00:00,  3.88it/s]\n"
          ]
        },
        {
          "output_type": "stream",
          "name": "stdout",
          "text": [
            "7th epoch starting.\n"
          ]
        },
        {
          "output_type": "stream",
          "name": "stderr",
          "text": [
            "Epoch 8, Batch 500, Loss: 0.5628: 100%|██████████| 500/500 [02:14<00:00,  3.71it/s]\n"
          ]
        },
        {
          "output_type": "stream",
          "name": "stdout",
          "text": [
            "8th epoch starting.\n"
          ]
        },
        {
          "output_type": "stream",
          "name": "stderr",
          "text": [
            "Epoch 9, Batch 500, Loss: 0.2947: 100%|██████████| 500/500 [02:08<00:00,  3.88it/s]\n"
          ]
        },
        {
          "output_type": "stream",
          "name": "stdout",
          "text": [
            "9th epoch starting.\n"
          ]
        },
        {
          "output_type": "stream",
          "name": "stderr",
          "text": [
            "Epoch 10, Batch 500, Loss: 0.3070: 100%|██████████| 500/500 [02:08<00:00,  3.88it/s]\n"
          ]
        },
        {
          "output_type": "stream",
          "name": "stdout",
          "text": [
            "10th epoch starting.\n"
          ]
        },
        {
          "output_type": "stream",
          "name": "stderr",
          "text": [
            "Epoch 11, Batch 500, Loss: 0.4127: 100%|██████████| 500/500 [02:08<00:00,  3.89it/s]\n"
          ]
        },
        {
          "output_type": "stream",
          "name": "stdout",
          "text": [
            "11th epoch starting.\n"
          ]
        },
        {
          "output_type": "stream",
          "name": "stderr",
          "text": [
            "Epoch 12, Batch 500, Loss: 0.3240: 100%|██████████| 500/500 [02:08<00:00,  3.88it/s]\n"
          ]
        },
        {
          "output_type": "stream",
          "name": "stdout",
          "text": [
            "12th epoch starting.\n"
          ]
        },
        {
          "output_type": "stream",
          "name": "stderr",
          "text": [
            "Epoch 13, Batch 500, Loss: 0.4166: 100%|██████████| 500/500 [02:13<00:00,  3.76it/s]\n"
          ]
        },
        {
          "output_type": "stream",
          "name": "stdout",
          "text": [
            "13th epoch starting.\n"
          ]
        },
        {
          "output_type": "stream",
          "name": "stderr",
          "text": [
            "Epoch 14, Batch 500, Loss: 0.2908: 100%|██████████| 500/500 [02:09<00:00,  3.85it/s]\n"
          ]
        },
        {
          "output_type": "stream",
          "name": "stdout",
          "text": [
            "14th epoch starting.\n"
          ]
        },
        {
          "output_type": "stream",
          "name": "stderr",
          "text": [
            "Epoch 15, Batch 500, Loss: 0.2312: 100%|██████████| 500/500 [02:08<00:00,  3.88it/s]\n"
          ]
        },
        {
          "output_type": "stream",
          "name": "stdout",
          "text": [
            "15th epoch starting.\n"
          ]
        },
        {
          "output_type": "stream",
          "name": "stderr",
          "text": [
            "Epoch 16, Batch 500, Loss: 0.1362: 100%|██████████| 500/500 [02:08<00:00,  3.88it/s]\n"
          ]
        },
        {
          "output_type": "stream",
          "name": "stdout",
          "text": [
            "16th epoch starting.\n"
          ]
        },
        {
          "output_type": "stream",
          "name": "stderr",
          "text": [
            "Epoch 17, Batch 500, Loss: 0.1938: 100%|██████████| 500/500 [02:11<00:00,  3.80it/s]\n"
          ]
        },
        {
          "output_type": "stream",
          "name": "stdout",
          "text": [
            "17th epoch starting.\n"
          ]
        },
        {
          "output_type": "stream",
          "name": "stderr",
          "text": [
            "Epoch 18, Batch 500, Loss: 0.1897: 100%|██████████| 500/500 [02:08<00:00,  3.88it/s]\n"
          ]
        },
        {
          "output_type": "stream",
          "name": "stdout",
          "text": [
            "18th epoch starting.\n"
          ]
        },
        {
          "output_type": "stream",
          "name": "stderr",
          "text": [
            "Epoch 19, Batch 500, Loss: 0.2487: 100%|██████████| 500/500 [02:09<00:00,  3.87it/s]\n"
          ]
        },
        {
          "output_type": "stream",
          "name": "stdout",
          "text": [
            "19th epoch starting.\n"
          ]
        },
        {
          "output_type": "stream",
          "name": "stderr",
          "text": [
            "Epoch 20, Batch 500, Loss: 0.1415: 100%|██████████| 500/500 [02:08<00:00,  3.88it/s]\n"
          ]
        },
        {
          "output_type": "stream",
          "name": "stdout",
          "text": [
            "20th epoch starting.\n"
          ]
        },
        {
          "output_type": "stream",
          "name": "stderr",
          "text": [
            "Epoch 21, Batch 500, Loss: 0.3649: 100%|██████████| 500/500 [02:08<00:00,  3.89it/s]\n"
          ]
        },
        {
          "output_type": "stream",
          "name": "stdout",
          "text": [
            "21th epoch starting.\n"
          ]
        },
        {
          "output_type": "stream",
          "name": "stderr",
          "text": [
            "Epoch 22, Batch 500, Loss: 0.2110: 100%|██████████| 500/500 [02:08<00:00,  3.89it/s]\n"
          ]
        },
        {
          "output_type": "stream",
          "name": "stdout",
          "text": [
            "22th epoch starting.\n"
          ]
        },
        {
          "output_type": "stream",
          "name": "stderr",
          "text": [
            "Epoch 23, Batch 500, Loss: 0.1503: 100%|██████████| 500/500 [02:08<00:00,  3.89it/s]\n"
          ]
        },
        {
          "output_type": "stream",
          "name": "stdout",
          "text": [
            "23th epoch starting.\n"
          ]
        },
        {
          "output_type": "stream",
          "name": "stderr",
          "text": [
            "Epoch 24, Batch 500, Loss: 0.1949: 100%|██████████| 500/500 [02:08<00:00,  3.88it/s]\n"
          ]
        },
        {
          "output_type": "stream",
          "name": "stdout",
          "text": [
            "24th epoch starting.\n"
          ]
        },
        {
          "output_type": "stream",
          "name": "stderr",
          "text": [
            "Epoch 25, Batch 500, Loss: 0.2097: 100%|██████████| 500/500 [02:08<00:00,  3.89it/s]\n"
          ]
        },
        {
          "output_type": "stream",
          "name": "stdout",
          "text": [
            "Time elapsed in training is: 3439.5674891471863\n"
          ]
        }
      ]
    },
    {
      "cell_type": "code",
      "source": [
        "import pandas as pd\n",
        "\n",
        "df = pd.DataFrame({\n",
        "    'Accuracy': accuracy_list,\n",
        "    'Test Loss': test_loss_list,\n",
        "    'Train Loss' : train_loss_list\n",
        "})\n",
        "\n",
        "df.to_csv('/content/drive/MyDrive/ML Project/MobileNetV2/metrics.csv', index=False)"
      ],
      "metadata": {
        "id": "BO7fZVK3tFBO"
      },
      "execution_count": null,
      "outputs": []
    },
    {
      "cell_type": "code",
      "source": [
        "import matplotlib.pyplot as plt\n",
        "\n",
        "# 데이터 로드\n",
        "df = pd.read_csv('/content/drive/MyDrive/ML Project/MobileNetV2/metrics.csv')\n",
        "\n",
        "# 그래프 크기 설정\n",
        "plt.figure(figsize=(12, 4))\n",
        "\n",
        "# Train Loss\n",
        "plt.subplot(1, 3, 1)\n",
        "plt.plot(df['Train Loss'], label='Train Loss', color='blue')\n",
        "plt.xlabel('Epoch')\n",
        "plt.ylabel('Loss')\n",
        "plt.title('Train Loss')\n",
        "plt.legend()\n",
        "\n",
        "# Test Loss\n",
        "plt.subplot(1, 3, 2)\n",
        "plt.plot(df['Test Loss'], label='Test Loss', color='red')\n",
        "plt.xlabel('Epoch')\n",
        "plt.ylabel('Loss')\n",
        "plt.title('Test Loss')\n",
        "plt.legend()\n",
        "\n",
        "# Accuracy\n",
        "plt.subplot(1, 3, 3)\n",
        "plt.plot(df['Accuracy'], label='Accuracy', color='green')\n",
        "plt.xlabel('Epoch')\n",
        "plt.ylabel('Accuracy (%)')\n",
        "plt.title('Accuracy')\n",
        "plt.legend()\n",
        "\n",
        "plt.tight_layout()\n",
        "plt.show()"
      ],
      "metadata": {
        "colab": {
          "base_uri": "https://localhost:8080/",
          "height": 276
        },
        "id": "sjmNXG7_Ukjj",
        "outputId": "4a22ab59-4a4c-47d2-da0a-70ccf103f87c"
      },
      "execution_count": null,
      "outputs": [
        {
          "output_type": "display_data",
          "data": {
            "text/plain": [
              "<Figure size 1200x400 with 3 Axes>"
            ],
            "image/png": "[encoded data removed]"
          },
          "metadata": {}
        }
      ]
    },
    {
      "cell_type": "code",
      "source": [
        "model = MobileNetV2(10, alpha = 1).to(device)\n",
        "\n",
        "# 저장된 Best 가중치 불러오기\n",
        "model_path = '/content/drive/MyDrive/ML Project/MobileNetV2/model/best_model_epoch_25.pkt'\n",
        "model.load_state_dict(torch.load(model_path))"
      ],
      "metadata": {
        "colab": {
          "base_uri": "https://localhost:8080/"
        },
        "id": "lVLYgFs1o-fx",
        "outputId": "0e21dd4c-93a6-46ac-ed02-c3fab70aa8a6"
      },
      "execution_count": null,
      "outputs": [
        {
          "output_type": "execute_result",
          "data": {
            "text/plain": [
              "<All keys matched successfully>"
            ]
          },
          "metadata": {},
          "execution_count": 29
        }
      ]
    },
    {
      "cell_type": "code",
      "source": [
        "model.eval()\n",
        "test_loss, correct, total = 0, 0, 0\n",
        "\n",
        "test_loader = torch.utils.data.DataLoader(dataset=test_dataset, batch_size=100, shuffle=False)\n",
        "with torch.no_grad():  #using context manager\n",
        "    for images, labels in test_loader :\n",
        "        images, labels = images.to(device), labels.to(device)\n",
        "\n",
        "        output = model(images)\n",
        "        test_loss += loss_function(output, labels).item()\n",
        "\n",
        "        pred = output.max(1, keepdim=True)[1]\n",
        "        correct += pred.eq(labels.view_as(pred)).sum().item()\n",
        "\n",
        "        total += labels.size(0)\n",
        "\n",
        "print('[Test set] Average loss: {:.4f}, Accuracy: {}/{} ({:.2f}%)\\n'.format(\n",
        "        test_loss /total, correct, total,\n",
        "        100. * correct / total))"
      ],
      "metadata": {
        "colab": {
          "base_uri": "https://localhost:8080/"
        },
        "id": "12R099LFs3RJ",
        "outputId": "116eeb4e-042c-4abb-a366-8236322d1c7c"
      },
      "execution_count": null,
      "outputs": [
        {
          "output_type": "stream",
          "name": "stdout",
          "text": [
            "[Test set] Average loss: 0.0040, Accuracy: 8735/10000 (87.35%)\n",
            "\n"
          ]
        }
      ]
    },
    {
      "cell_type": "code",
      "source": [
        "# Best 가중치 상위 폴더 저장\n",
        "import shutil\n",
        "\n",
        "source_path = '/content/drive/MyDrive/ML Project/MobileNetV2/model/best_model_epoch_25.pkt'\n",
        "destination_path = '/content/drive/MyDrive/ML Project/MobileNetV2'\n",
        "\n",
        "shutil.move(source_path, destination_path)"
      ],
      "metadata": {
        "colab": {
          "base_uri": "https://localhost:8080/",
          "height": 35
        },
        "id": "4gDcy6cdvxWl",
        "outputId": "402c5f43-0627-404c-bfef-eba056dccca3"
      },
      "execution_count": null,
      "outputs": [
        {
          "output_type": "execute_result",
          "data": {
            "text/plain": [
              "'/content/drive/MyDrive/ML Project/MobileNetV2/best_model_epoch_25.pkt'"
            ],
            "application/vnd.google.colaboratory.intrinsic+json": {
              "type": "string"
            }
          },
          "metadata": {},
          "execution_count": 31
        }
      ]
    }
  ]
}