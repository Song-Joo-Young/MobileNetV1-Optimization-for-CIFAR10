{
  "nbformat": 4,
  "nbformat_minor": 0,
  "metadata": {
    "colab": {
      "provenance": [],
      "gpuType": "T4"
    },
    "kernelspec": {
      "name": "python3",
      "display_name": "Python 3"
    },
    "language_info": {
      "name": "python"
    },
    "accelerator": "GPU"
  },
  "cells": [
    {
      "cell_type": "markdown",
      "source": [
        "### **CustomMobileNet - Final version**\n",
        "* **Model**\n",
        "  * Architecture Adjustments\n",
        "    * cfg = [32, 32, 32, (64,2), 64, 64, 64, (128,2), 128, 128, 128, 128, 128, 128, 128, 128, (256,2), 256, 256, 256, (512,2), 512]\n",
        "    * Residual connection\n",
        "  * Hyperparameter Tuning\n",
        "  * Scheduler\n",
        "  * Data Augmentation Techniques\n",
        "    * Mix-up\n",
        "  * Regularization Strategies\n",
        "    * Drop out\n",
        "    * Weight initialization\n",
        "  \n",
        "* **Best accuracy** :\n",
        "  * Baseline : [Test set] Average loss: 0.0056, Accuracy: 8426/10000 (84.26%)\n",
        "  * CustomMobileNet : [Test set] Average loss: 0.0032, Accuracy: 9185/10000 (91.85%) **[ +7.59% ]**\n",
        "\n",
        "* **FLOPS** : 48,412,672 → 28,963,840 **[ -19,448,832 ]**\n",
        "* **Total parameters** : 3,217,226 → 1,002,218 **[ -2,215,008 ]**\n",
        "\n",
        "* **hyperparameter**\n",
        "  * lr=(0.1), 0.94 * epoch\n",
        "  * weight_decay=2.5e-3\n",
        "  * momentum=0.9\n",
        "  * batch size = 500\n",
        "  * epoch = 95 + 10 = 105\n",
        "  * training time : 3544.60\n",
        "\n",
        "* **optimizer**\n",
        "  * SGD\n",
        "\n",
        "* **Data augmentation**\n",
        "  * **mix-up(alpha = 1.0)**\n",
        "  * Reference: Facebookreseach mixup-cifar10 (https://github.com/facebookresearch/mixup-cifar10)\n",
        "  *   \n",
        "          transforms.Pad(4),\n",
        "          transforms.RandomHorizontalFlip(),\n",
        "          transforms.RandomCrop(32),\n",
        "          transforms.ToTensor()"
      ],
      "metadata": {
        "id": "p1iew_TQtV2-"
      }
    },
    {
      "cell_type": "code",
      "source": [
        "from google.colab import drive\n",
        "drive.mount('/content/drive')"
      ],
      "metadata": {
        "colab": {
          "base_uri": "https://localhost:8080/"
        },
        "id": "2AI4a_dZaBSK",
        "outputId": "99a61d92-6a08-4198-99cf-52304377763e"
      },
      "execution_count": null,
      "outputs": [
        {
          "output_type": "stream",
          "name": "stdout",
          "text": [
            "Mounted at /content/drive\n"
          ]
        }
      ]
    },
    {
      "cell_type": "code",
      "source": [
        "save_path = \"/content/drive/MyDrive/ML Project/CustomMobileNet_18_(91.81%)_CustomMobileNet13 batch 500/model\""
      ],
      "metadata": {
        "id": "cIYHQYIwadOX"
      },
      "execution_count": null,
      "outputs": []
    },
    {
      "cell_type": "code",
      "source": [
        "import torch\n",
        "import torch.nn as nn\n",
        "from torch.optim import Optimizer\n",
        "from torch.utils.data import DataLoader\n",
        "from torchvision import datasets\n",
        "from torchvision.transforms import transforms\n",
        "import torch.nn.functional as F\n",
        "\n",
        "device = torch.device(\"cuda:0\" if torch.cuda.is_available() else \"cpu\")\n",
        "\n",
        "if torch.cuda.is_available():\n",
        "    print(\"Current GPU Index:\", torch.cuda.current_device())\n",
        "    print(\"Current GPU Name:\", torch.cuda.get_device_name(torch.cuda.current_device()))"
      ],
      "metadata": {
        "colab": {
          "base_uri": "https://localhost:8080/"
        },
        "id": "o_K9X9LIsQzH",
        "outputId": "5e9b43b8-7b34-4983-de75-5bcc3e303eb1"
      },
      "execution_count": null,
      "outputs": [
        {
          "output_type": "stream",
          "name": "stdout",
          "text": [
            "Current GPU Index: 0\n",
            "Current GPU Name: Tesla T4\n"
          ]
        }
      ]
    },
    {
      "cell_type": "code",
      "source": [
        "transform = transforms.Compose([\n",
        "    transforms.Pad(4),\n",
        "    transforms.RandomHorizontalFlip(),\n",
        "    transforms.RandomCrop(32),\n",
        "    transforms.ToTensor()])\n",
        "\n",
        "train_dataset = datasets.CIFAR10(root='./cifar_10data/',\n",
        "                                 train=True,\n",
        "                                 transform=transform,\n",
        "                                 download=True)\n",
        "\n",
        "test_dataset = datasets.CIFAR10(root='./cifar_10data/',\n",
        "                                train=False,\n",
        "                                transform=transforms.ToTensor())"
      ],
      "metadata": {
        "id": "J7KM3WnqsUAs",
        "colab": {
          "base_uri": "https://localhost:8080/"
        },
        "outputId": "9dec7813-9cd6-470d-d017-ada3bd73efbf"
      },
      "execution_count": null,
      "outputs": [
        {
          "output_type": "stream",
          "name": "stdout",
          "text": [
            "Downloading https://www.cs.toronto.edu/~kriz/cifar-10-python.tar.gz to ./cifar_10data/cifar-10-python.tar.gz\n"
          ]
        },
        {
          "output_type": "stream",
          "name": "stderr",
          "text": [
            "100%|██████████| 170498071/170498071 [00:13<00:00, 12499463.25it/s]\n"
          ]
        },
        {
          "output_type": "stream",
          "name": "stdout",
          "text": [
            "Extracting ./cifar_10data/cifar-10-python.tar.gz to ./cifar_10data/\n"
          ]
        }
      ]
    },
    {
      "cell_type": "code",
      "execution_count": null,
      "metadata": {
        "id": "yLsbebkYr7su",
        "colab": {
          "base_uri": "https://localhost:8080/"
        },
        "outputId": "642533d7-066f-4d50-bdc7-7aad4d34dcb4"
      },
      "outputs": [
        {
          "output_type": "stream",
          "name": "stdout",
          "text": [
            "torch.Size([1, 10])\n"
          ]
        }
      ],
      "source": [
        "import math\n",
        "\n",
        "class Block(nn.Module):\n",
        "    '''Depthwise conv + Pointwise conv'''\n",
        "    # with residual connection\n",
        "    def __init__(self, in_planes, out_planes, stride=1):\n",
        "        super(Block, self).__init__()\n",
        "        self.stride = stride\n",
        "        self.in_planes = in_planes\n",
        "        self.out_planes = out_planes\n",
        "\n",
        "        self.conv1 = nn.Conv2d(in_planes, in_planes, kernel_size=3, stride=stride, padding=1, groups=in_planes, bias=False)\n",
        "        self.bn1 = nn.BatchNorm2d(in_planes)\n",
        "        self.conv2 = nn.Conv2d(in_planes, out_planes, kernel_size=1, stride=1, padding=0, bias=False)\n",
        "        self.bn2 = nn.BatchNorm2d(out_planes)\n",
        "\n",
        "        # 입력과 출력의 차원이 다른 경우 Residual connection을 위한 1x1 컨볼루션\n",
        "        if stride != 1 or in_planes != out_planes:\n",
        "            self.shortcut = nn.Sequential(\n",
        "                nn.Conv2d(in_planes, out_planes, kernel_size=1, stride=stride, bias=False),\n",
        "                nn.BatchNorm2d(out_planes)\n",
        "            )\n",
        "        else:\n",
        "            self.shortcut = None\n",
        "\n",
        "    def forward(self, x):\n",
        "        out = F.relu(self.bn1(self.conv1(x)))\n",
        "        out = F.relu(self.bn2(self.conv2(out)))\n",
        "        if self.shortcut is not None:\n",
        "            x = self.shortcut(x)\n",
        "        out = out + x  # Residual connection 추가\n",
        "        return out\n",
        "\n",
        "\n",
        "class MobileNet(nn.Module):\n",
        "    cfg = [32, 32, 32, (64,2), 64, 64, 64, (128,2), 128, 128, 128, 128, 128, 128, 128, 128, (256,2), 256, 256, 256, (512,2), 512]\n",
        "\n",
        "    def __init__(self, num_classes=10):\n",
        "        super(MobileNet, self).__init__()\n",
        "        self.conv1 = nn.Conv2d(3, 16, kernel_size=3, stride=1, padding=1, bias=False)\n",
        "        self.bn1 = nn.BatchNorm2d(16)\n",
        "        self.layers = self._make_layers(in_planes=16)\n",
        "        self.linear = nn.Linear(512, num_classes)\n",
        "        self.dropout = nn.Dropout(0.5)  # 드롭아웃 추가\n",
        "        # 가중치 초기화 함수 호출\n",
        "        self._initialize_weights()\n",
        "\n",
        "    def _make_layers(self, in_planes):\n",
        "        layers = []\n",
        "        for x in self.cfg:\n",
        "            out_planes = x if isinstance(x, int) else x[0]\n",
        "            stride = 1 if isinstance(x, int) else x[1]\n",
        "            layers.append(Block(in_planes, out_planes, stride))\n",
        "            in_planes = out_planes\n",
        "        return nn.Sequential(*layers)\n",
        "\n",
        "    def forward(self, x):\n",
        "        out = F.relu(self.bn1(self.conv1(x)))\n",
        "        out = self.layers(out)\n",
        "        out = F.avg_pool2d(out, 2)\n",
        "        out = out.view(out.size(0), -1)\n",
        "\n",
        "        # 드롭아웃 추가\n",
        "        out = self.dropout(out)\n",
        "        out = self.linear(out)\n",
        "        return out\n",
        "\n",
        "    # 가중치 초기화 추가\n",
        "    # from: https://github.com/2KangHo/mobilenet_cifar10_pytorch/blob/master/mobilenet.py\n",
        "    def _initialize_weights(self):\n",
        "        for m in self.modules():\n",
        "            if isinstance(m, nn.Conv2d):\n",
        "                # He 초기화\n",
        "                n = m.kernel_size[0] * m.kernel_size[1] * m.out_channels\n",
        "                # 평균이 0이고 표준편차가 sqrt(2/n)인 정규 분포로 초기화\n",
        "                m.weight.data.normal_(0, math.sqrt(2. / n))\n",
        "                if m.bias is not None:\n",
        "                    m.bias.data.zero_()\n",
        "            elif isinstance(m, nn.BatchNorm2d):\n",
        "                # 배치 정규화 레이어의 가중치를 1로 초기화\n",
        "                m.weight.data.fill_(1)\n",
        "                # 배치 정규화 레이어의 편향을 0으로 초기화\n",
        "                m.bias.data.zero_()\n",
        "            elif isinstance(m, nn.Linear):\n",
        "                n = m.weight.size(1)\n",
        "                # FC 레이어의 가중치를 평균이 0이고 표준편차가 0.01인 정규 분포로 초기화\n",
        "                m.weight.data.normal_(0, 0.01)\n",
        "                m.bias.data.zero_()\n",
        "\n",
        "\n",
        "def test():\n",
        "    net = MobileNet()\n",
        "    x = torch.randn(1,3,32,32)\n",
        "    y = net(x)\n",
        "    print(y.size())\n",
        "\n",
        "test()"
      ]
    },
    {
      "cell_type": "code",
      "source": [
        "from torchsummary import summary\n",
        "\n",
        "model = MobileNet().to(device)\n",
        "\n",
        "print(\"CustomMobileNet torchsummary\")\n",
        "summary(model, (3, 32, 32))"
      ],
      "metadata": {
        "colab": {
          "base_uri": "https://localhost:8080/"
        },
        "id": "g3FTMKk4y2LB",
        "outputId": "402aff89-cc09-4c64-c5df-f33f1d24494c"
      },
      "execution_count": null,
      "outputs": [
        {
          "output_type": "stream",
          "name": "stdout",
          "text": [
            "CustomMobileNet torchsummary\n",
            "----------------------------------------------------------------\n",
            "        Layer (type)               Output Shape         Param #\n",
            "================================================================\n",
            "            Conv2d-1           [-1, 16, 32, 32]             432\n",
            "       BatchNorm2d-2           [-1, 16, 32, 32]              32\n",
            "            Conv2d-3           [-1, 16, 32, 32]             144\n",
            "       BatchNorm2d-4           [-1, 16, 32, 32]              32\n",
            "            Conv2d-5           [-1, 32, 32, 32]             512\n",
            "       BatchNorm2d-6           [-1, 32, 32, 32]              64\n",
            "            Conv2d-7           [-1, 32, 32, 32]             512\n",
            "       BatchNorm2d-8           [-1, 32, 32, 32]              64\n",
            "             Block-9           [-1, 32, 32, 32]               0\n",
            "           Conv2d-10           [-1, 32, 32, 32]             288\n",
            "      BatchNorm2d-11           [-1, 32, 32, 32]              64\n",
            "           Conv2d-12           [-1, 32, 32, 32]           1,024\n",
            "      BatchNorm2d-13           [-1, 32, 32, 32]              64\n",
            "            Block-14           [-1, 32, 32, 32]               0\n",
            "           Conv2d-15           [-1, 32, 32, 32]             288\n",
            "      BatchNorm2d-16           [-1, 32, 32, 32]              64\n",
            "           Conv2d-17           [-1, 32, 32, 32]           1,024\n",
            "      BatchNorm2d-18           [-1, 32, 32, 32]              64\n",
            "            Block-19           [-1, 32, 32, 32]               0\n",
            "           Conv2d-20           [-1, 32, 16, 16]             288\n",
            "      BatchNorm2d-21           [-1, 32, 16, 16]              64\n",
            "           Conv2d-22           [-1, 64, 16, 16]           2,048\n",
            "      BatchNorm2d-23           [-1, 64, 16, 16]             128\n",
            "           Conv2d-24           [-1, 64, 16, 16]           2,048\n",
            "      BatchNorm2d-25           [-1, 64, 16, 16]             128\n",
            "            Block-26           [-1, 64, 16, 16]               0\n",
            "           Conv2d-27           [-1, 64, 16, 16]             576\n",
            "      BatchNorm2d-28           [-1, 64, 16, 16]             128\n",
            "           Conv2d-29           [-1, 64, 16, 16]           4,096\n",
            "      BatchNorm2d-30           [-1, 64, 16, 16]             128\n",
            "            Block-31           [-1, 64, 16, 16]               0\n",
            "           Conv2d-32           [-1, 64, 16, 16]             576\n",
            "      BatchNorm2d-33           [-1, 64, 16, 16]             128\n",
            "           Conv2d-34           [-1, 64, 16, 16]           4,096\n",
            "      BatchNorm2d-35           [-1, 64, 16, 16]             128\n",
            "            Block-36           [-1, 64, 16, 16]               0\n",
            "           Conv2d-37           [-1, 64, 16, 16]             576\n",
            "      BatchNorm2d-38           [-1, 64, 16, 16]             128\n",
            "           Conv2d-39           [-1, 64, 16, 16]           4,096\n",
            "      BatchNorm2d-40           [-1, 64, 16, 16]             128\n",
            "            Block-41           [-1, 64, 16, 16]               0\n",
            "           Conv2d-42             [-1, 64, 8, 8]             576\n",
            "      BatchNorm2d-43             [-1, 64, 8, 8]             128\n",
            "           Conv2d-44            [-1, 128, 8, 8]           8,192\n",
            "      BatchNorm2d-45            [-1, 128, 8, 8]             256\n",
            "           Conv2d-46            [-1, 128, 8, 8]           8,192\n",
            "      BatchNorm2d-47            [-1, 128, 8, 8]             256\n",
            "            Block-48            [-1, 128, 8, 8]               0\n",
            "           Conv2d-49            [-1, 128, 8, 8]           1,152\n",
            "      BatchNorm2d-50            [-1, 128, 8, 8]             256\n",
            "           Conv2d-51            [-1, 128, 8, 8]          16,384\n",
            "      BatchNorm2d-52            [-1, 128, 8, 8]             256\n",
            "            Block-53            [-1, 128, 8, 8]               0\n",
            "           Conv2d-54            [-1, 128, 8, 8]           1,152\n",
            "      BatchNorm2d-55            [-1, 128, 8, 8]             256\n",
            "           Conv2d-56            [-1, 128, 8, 8]          16,384\n",
            "      BatchNorm2d-57            [-1, 128, 8, 8]             256\n",
            "            Block-58            [-1, 128, 8, 8]               0\n",
            "           Conv2d-59            [-1, 128, 8, 8]           1,152\n",
            "      BatchNorm2d-60            [-1, 128, 8, 8]             256\n",
            "           Conv2d-61            [-1, 128, 8, 8]          16,384\n",
            "      BatchNorm2d-62            [-1, 128, 8, 8]             256\n",
            "            Block-63            [-1, 128, 8, 8]               0\n",
            "           Conv2d-64            [-1, 128, 8, 8]           1,152\n",
            "      BatchNorm2d-65            [-1, 128, 8, 8]             256\n",
            "           Conv2d-66            [-1, 128, 8, 8]          16,384\n",
            "      BatchNorm2d-67            [-1, 128, 8, 8]             256\n",
            "            Block-68            [-1, 128, 8, 8]               0\n",
            "           Conv2d-69            [-1, 128, 8, 8]           1,152\n",
            "      BatchNorm2d-70            [-1, 128, 8, 8]             256\n",
            "           Conv2d-71            [-1, 128, 8, 8]          16,384\n",
            "      BatchNorm2d-72            [-1, 128, 8, 8]             256\n",
            "            Block-73            [-1, 128, 8, 8]               0\n",
            "           Conv2d-74            [-1, 128, 8, 8]           1,152\n",
            "      BatchNorm2d-75            [-1, 128, 8, 8]             256\n",
            "           Conv2d-76            [-1, 128, 8, 8]          16,384\n",
            "      BatchNorm2d-77            [-1, 128, 8, 8]             256\n",
            "            Block-78            [-1, 128, 8, 8]               0\n",
            "           Conv2d-79            [-1, 128, 8, 8]           1,152\n",
            "      BatchNorm2d-80            [-1, 128, 8, 8]             256\n",
            "           Conv2d-81            [-1, 128, 8, 8]          16,384\n",
            "      BatchNorm2d-82            [-1, 128, 8, 8]             256\n",
            "            Block-83            [-1, 128, 8, 8]               0\n",
            "           Conv2d-84            [-1, 128, 8, 8]           1,152\n",
            "      BatchNorm2d-85            [-1, 128, 8, 8]             256\n",
            "           Conv2d-86            [-1, 128, 8, 8]          16,384\n",
            "      BatchNorm2d-87            [-1, 128, 8, 8]             256\n",
            "            Block-88            [-1, 128, 8, 8]               0\n",
            "           Conv2d-89            [-1, 128, 4, 4]           1,152\n",
            "      BatchNorm2d-90            [-1, 128, 4, 4]             256\n",
            "           Conv2d-91            [-1, 256, 4, 4]          32,768\n",
            "      BatchNorm2d-92            [-1, 256, 4, 4]             512\n",
            "           Conv2d-93            [-1, 256, 4, 4]          32,768\n",
            "      BatchNorm2d-94            [-1, 256, 4, 4]             512\n",
            "            Block-95            [-1, 256, 4, 4]               0\n",
            "           Conv2d-96            [-1, 256, 4, 4]           2,304\n",
            "      BatchNorm2d-97            [-1, 256, 4, 4]             512\n",
            "           Conv2d-98            [-1, 256, 4, 4]          65,536\n",
            "      BatchNorm2d-99            [-1, 256, 4, 4]             512\n",
            "           Block-100            [-1, 256, 4, 4]               0\n",
            "          Conv2d-101            [-1, 256, 4, 4]           2,304\n",
            "     BatchNorm2d-102            [-1, 256, 4, 4]             512\n",
            "          Conv2d-103            [-1, 256, 4, 4]          65,536\n",
            "     BatchNorm2d-104            [-1, 256, 4, 4]             512\n",
            "           Block-105            [-1, 256, 4, 4]               0\n",
            "          Conv2d-106            [-1, 256, 4, 4]           2,304\n",
            "     BatchNorm2d-107            [-1, 256, 4, 4]             512\n",
            "          Conv2d-108            [-1, 256, 4, 4]          65,536\n",
            "     BatchNorm2d-109            [-1, 256, 4, 4]             512\n",
            "           Block-110            [-1, 256, 4, 4]               0\n",
            "          Conv2d-111            [-1, 256, 2, 2]           2,304\n",
            "     BatchNorm2d-112            [-1, 256, 2, 2]             512\n",
            "          Conv2d-113            [-1, 512, 2, 2]         131,072\n",
            "     BatchNorm2d-114            [-1, 512, 2, 2]           1,024\n",
            "          Conv2d-115            [-1, 512, 2, 2]         131,072\n",
            "     BatchNorm2d-116            [-1, 512, 2, 2]           1,024\n",
            "           Block-117            [-1, 512, 2, 2]               0\n",
            "          Conv2d-118            [-1, 512, 2, 2]           4,608\n",
            "     BatchNorm2d-119            [-1, 512, 2, 2]           1,024\n",
            "          Conv2d-120            [-1, 512, 2, 2]         262,144\n",
            "     BatchNorm2d-121            [-1, 512, 2, 2]           1,024\n",
            "           Block-122            [-1, 512, 2, 2]               0\n",
            "         Dropout-123                  [-1, 512]               0\n",
            "          Linear-124                   [-1, 10]           5,130\n",
            "================================================================\n",
            "Total params: 1,001,642\n",
            "Trainable params: 1,001,642\n",
            "Non-trainable params: 0\n",
            "----------------------------------------------------------------\n",
            "Input size (MB): 0.01\n",
            "Forward/backward pass size (MB): 10.58\n",
            "Params size (MB): 3.82\n",
            "Estimated Total Size (MB): 14.41\n",
            "----------------------------------------------------------------\n"
          ]
        }
      ]
    },
    {
      "cell_type": "code",
      "source": [
        "!pip install fvcore"
      ],
      "metadata": {
        "colab": {
          "base_uri": "https://localhost:8080/"
        },
        "id": "k98csg0QEMV4",
        "outputId": "853877b3-9ae2-46d7-af29-12afd87e78d1"
      },
      "execution_count": null,
      "outputs": [
        {
          "output_type": "stream",
          "name": "stdout",
          "text": [
            "Collecting fvcore\n",
            "  Downloading fvcore-0.1.5.post20221221.tar.gz (50 kB)\n",
            "\u001b[2K     \u001b[90m━━━━━━━━━━━━━━━━━━━━━━━━━━━━━━━━━━━━━━━━\u001b[0m \u001b[32m50.2/50.2 kB\u001b[0m \u001b[31m661.4 kB/s\u001b[0m eta \u001b[36m0:00:00\u001b[0m\n",
            "\u001b[?25h  Preparing metadata (setup.py) ... \u001b[?25l\u001b[?25hdone\n",
            "Requirement already satisfied: numpy in /usr/local/lib/python3.10/dist-packages (from fvcore) (1.23.5)\n",
            "Collecting yacs>=0.1.6 (from fvcore)\n",
            "  Downloading yacs-0.1.8-py3-none-any.whl (14 kB)\n",
            "Requirement already satisfied: pyyaml>=5.1 in /usr/local/lib/python3.10/dist-packages (from fvcore) (6.0.1)\n",
            "Requirement already satisfied: tqdm in /usr/local/lib/python3.10/dist-packages (from fvcore) (4.66.1)\n",
            "Requirement already satisfied: termcolor>=1.1 in /usr/local/lib/python3.10/dist-packages (from fvcore) (2.4.0)\n",
            "Requirement already satisfied: Pillow in /usr/local/lib/python3.10/dist-packages (from fvcore) (9.4.0)\n",
            "Requirement already satisfied: tabulate in /usr/local/lib/python3.10/dist-packages (from fvcore) (0.9.0)\n",
            "Collecting iopath>=0.1.7 (from fvcore)\n",
            "  Downloading iopath-0.1.10.tar.gz (42 kB)\n",
            "\u001b[2K     \u001b[90m━━━━━━━━━━━━━━━━━━━━━━━━━━━━━━━━━━━━━━━━\u001b[0m \u001b[32m42.2/42.2 kB\u001b[0m \u001b[31m1.6 MB/s\u001b[0m eta \u001b[36m0:00:00\u001b[0m\n",
            "\u001b[?25h  Preparing metadata (setup.py) ... \u001b[?25l\u001b[?25hdone\n",
            "Requirement already satisfied: typing_extensions in /usr/local/lib/python3.10/dist-packages (from iopath>=0.1.7->fvcore) (4.5.0)\n",
            "Collecting portalocker (from iopath>=0.1.7->fvcore)\n",
            "  Downloading portalocker-2.8.2-py3-none-any.whl (17 kB)\n",
            "Building wheels for collected packages: fvcore, iopath\n",
            "  Building wheel for fvcore (setup.py) ... \u001b[?25l\u001b[?25hdone\n",
            "  Created wheel for fvcore: filename=fvcore-0.1.5.post20221221-py3-none-any.whl size=61400 sha256=9ffb8ab6748015c4c0c2b47cac0f5461b275c0d784c676f7eaa7dbda85cbbebe\n",
            "  Stored in directory: /root/.cache/pip/wheels/01/c0/af/77c1cf53a1be9e42a52b48e5af2169d40ec2e89f7362489dd0\n",
            "  Building wheel for iopath (setup.py) ... \u001b[?25l\u001b[?25hdone\n",
            "  Created wheel for iopath: filename=iopath-0.1.10-py3-none-any.whl size=31532 sha256=ec42456ab1d2557d2e0023b726dd1ffb5b413cb7994e0f85ef8939a57fbf985f\n",
            "  Stored in directory: /root/.cache/pip/wheels/9a/a3/b6/ac0fcd1b4ed5cfeb3db92e6a0e476cfd48ed0df92b91080c1d\n",
            "Successfully built fvcore iopath\n",
            "Installing collected packages: yacs, portalocker, iopath, fvcore\n",
            "Successfully installed fvcore-0.1.5.post20221221 iopath-0.1.10 portalocker-2.8.2 yacs-0.1.8\n"
          ]
        }
      ]
    },
    {
      "cell_type": "code",
      "source": [
        "from fvcore.nn import FlopCountAnalysis\n",
        "\n",
        "inputs = torch.randn(1, 3, 32, 32).to(device)\n",
        "\n",
        "flops = FlopCountAnalysis(model, inputs)\n",
        "print(flops.total())  # 총 FLOPS 출력"
      ],
      "metadata": {
        "colab": {
          "base_uri": "https://localhost:8080/"
        },
        "id": "IMgSJYacEPh9",
        "outputId": "38ff8b0b-b50d-4a95-f131-93c70020e0f4"
      },
      "execution_count": null,
      "outputs": [
        {
          "output_type": "stream",
          "name": "stderr",
          "text": [
            "WARNING:fvcore.nn.jit_analysis:Unsupported operator aten::add_ encountered 50 time(s)\n",
            "WARNING:fvcore.nn.jit_analysis:Unsupported operator aten::add encountered 22 time(s)\n",
            "WARNING:fvcore.nn.jit_analysis:Unsupported operator aten::avg_pool2d encountered 1 time(s)\n"
          ]
        },
        {
          "output_type": "stream",
          "name": "stdout",
          "text": [
            "28374016\n"
          ]
        }
      ]
    },
    {
      "cell_type": "markdown",
      "source": [
        "### **95 epoch train**"
      ],
      "metadata": {
        "id": "VOTbJmhwWpzp"
      }
    },
    {
      "cell_type": "code",
      "source": [
        "loss_function = nn.CrossEntropyLoss()\n",
        "optimizer = torch.optim.SGD(model.parameters(), lr=0.1, momentum=0.9, weight_decay=2.5e-3)\n",
        "scheduler = torch.optim.lr_scheduler.LambdaLR(optimizer, lr_lambda=lambda epoch: 0.94 ** epoch)"
      ],
      "metadata": {
        "id": "p4eTvfE-sULa"
      },
      "execution_count": null,
      "outputs": []
    },
    {
      "cell_type": "code",
      "source": [
        "import numpy as np\n",
        "\n",
        "torch.manual_seed(42)\n",
        "np.random.seed(42)\n",
        "\n",
        "if torch.cuda.is_available():\n",
        "    torch.cuda.manual_seed(42)\n",
        "\n",
        "def mixup_data(x, y, alpha=1.0, use_cuda=True):\n",
        "    '''Returns mixed inputs, pairs of targets, and lambda'''\n",
        "    if alpha > 0:\n",
        "        lam = np.random.beta(alpha, alpha)\n",
        "    else:\n",
        "        lam = 1\n",
        "\n",
        "    batch_size = x.size()[0]\n",
        "    if use_cuda:\n",
        "        index = torch.randperm(batch_size).cuda()\n",
        "    else:\n",
        "        index = torch.randperm(batch_size)\n",
        "\n",
        "    mixed_x = lam * x + (1 - lam) * x[index, :]\n",
        "    y_a, y_b = y, y[index]\n",
        "    return mixed_x, y_a, y_b, lam\n",
        "\n",
        "\n",
        "def mixup_criterion(criterion, pred, y_a, y_b, lam):\n",
        "    return lam * criterion(pred, y_a) + (1 - lam) * criterion(pred, y_b)"
      ],
      "metadata": {
        "id": "XR_J4JaUH-Xi"
      },
      "execution_count": null,
      "outputs": []
    },
    {
      "cell_type": "code",
      "source": [
        "from tqdm import tqdm\n",
        "import torch\n",
        "import os\n",
        "\n",
        "model.train()\n",
        "train_loader = torch.utils.data.DataLoader(dataset=train_dataset, batch_size=500, shuffle=True)\n",
        "test_loader = torch.utils.data.DataLoader(dataset=test_dataset, batch_size=100, shuffle=False)\n",
        "\n",
        "best_accuracy = 0.0\n",
        "accuracy_list = []\n",
        "test_loss_list = []\n",
        "train_loss_list = []\n",
        "\n",
        "import time\n",
        "start = time.time()\n",
        "\n",
        "\n",
        "for epoch in range(95):\n",
        "    # print(f\"{epoch}th epoch starting.\")\n",
        "    batch_num = len(train_loader)\n",
        "\n",
        "    train_loss_epoch, test_loss, correct = 0, 0, 0\n",
        "\n",
        "    pbar = tqdm(enumerate(train_loader), total=batch_num, dynamic_ncols=True, position=0, leave=True)\n",
        "    for i, (images, labels) in pbar:\n",
        "        images, labels = images.to(device), labels.to(device)\n",
        "\n",
        "        optimizer.zero_grad()\n",
        "\n",
        "        # MixUp을 적용하여 데이터를 섞음\n",
        "        mixed_images, target_a, target_b, lam = mixup_data(images, labels, alpha=1.0)\n",
        "\n",
        "        # 모델에 MixUp된 데이터를 입력으로 전달\n",
        "        output = model(mixed_images)\n",
        "\n",
        "        # MixUp된 데이터에 대한 손실을 계산\n",
        "        train_loss = mixup_criterion(loss_function, output, target_a, target_b, lam)\n",
        "\n",
        "        train_loss.backward()\n",
        "        optimizer.step()\n",
        "        train_loss_epoch += train_loss.item()\n",
        "\n",
        "        # 현재 배치의 Loss 값 표시\n",
        "        pbar.set_description(f\"Epoch {epoch + 1}, Batch {i + 1}, Loss: {train_loss.item():.4f}\")\n",
        "\n",
        "    train_loss_list.append(train_loss_epoch / batch_num)\n",
        "\n",
        "    scheduler.step()  # 에폭마다 스케줄러 호출\n",
        "    # 현재 에폭에서의 학습률 출력\n",
        "    current_lr = optimizer.param_groups[0]['lr']\n",
        "    print(f\"Epoch {epoch + 1}, Current Learning Rate: {current_lr:.6f}\")\n",
        "\n",
        "    with torch.no_grad():\n",
        "        total = 0\n",
        "        for images, labels in test_loader:\n",
        "            images, labels = images.to(device), labels.to(device)\n",
        "\n",
        "            output = model(images)\n",
        "            test_loss += loss_function(output, labels).item()\n",
        "\n",
        "            pred = output.max(1, keepdim=True)[1]\n",
        "            correct += pred.eq(labels.view_as(pred)).sum().item()\n",
        "\n",
        "            total += labels.size(0)\n",
        "\n",
        "    accuracy = 100. * correct / total\n",
        "    # test_loss_list.append(test_loss / total)\n",
        "    test_loss_list.append(test_loss / len(test_loader))\n",
        "    accuracy_list.append(accuracy)\n",
        "\n",
        "    # 최고 성능 모델 저장\n",
        "    if accuracy > best_accuracy:\n",
        "        best_accuracy = accuracy\n",
        "        model_filename = f\"best_model_epoch_{epoch+1}.pkt\"\n",
        "        model_save_path = os.path.join(save_path, model_filename)\n",
        "\n",
        "        torch.save(model.state_dict(), model_save_path)\n",
        "        print(f\"Epoch {epoch + 1}: Best model saved with accuracy: {accuracy:.4f}\")\n",
        "\n",
        "end = time.time()\n",
        "print(\"Time elapsed in training is: {}\".format(end - start))"
      ],
      "metadata": {
        "id": "ki74sNzbsUVQ",
        "colab": {
          "base_uri": "https://localhost:8080/"
        },
        "outputId": "380344ee-0b49-4117-d156-560ca85f4fff"
      },
      "execution_count": null,
      "outputs": [
        {
          "output_type": "stream",
          "name": "stderr",
          "text": [
            "Epoch 1, Batch 100, Loss: 2.1352: 100%|██████████| 100/100 [00:31<00:00,  3.22it/s]\n"
          ]
        },
        {
          "output_type": "stream",
          "name": "stdout",
          "text": [
            "Epoch 1, Current Learning Rate: 0.094000\n",
            "Epoch 1: Best model saved with accuracy: 35.3600\n"
          ]
        },
        {
          "output_type": "stream",
          "name": "stderr",
          "text": [
            "Epoch 2, Batch 100, Loss: 1.9770: 100%|██████████| 100/100 [00:32<00:00,  3.04it/s]\n"
          ]
        },
        {
          "output_type": "stream",
          "name": "stdout",
          "text": [
            "Epoch 2, Current Learning Rate: 0.088360\n",
            "Epoch 2: Best model saved with accuracy: 43.7200\n"
          ]
        },
        {
          "output_type": "stream",
          "name": "stderr",
          "text": [
            "Epoch 3, Batch 100, Loss: 1.8446: 100%|██████████| 100/100 [00:32<00:00,  3.07it/s]\n"
          ]
        },
        {
          "output_type": "stream",
          "name": "stdout",
          "text": [
            "Epoch 3, Current Learning Rate: 0.083058\n",
            "Epoch 3: Best model saved with accuracy: 49.0900\n"
          ]
        },
        {
          "output_type": "stream",
          "name": "stderr",
          "text": [
            "Epoch 4, Batch 100, Loss: 1.6853: 100%|██████████| 100/100 [00:31<00:00,  3.19it/s]\n"
          ]
        },
        {
          "output_type": "stream",
          "name": "stdout",
          "text": [
            "Epoch 4, Current Learning Rate: 0.078075\n",
            "Epoch 4: Best model saved with accuracy: 54.8300\n"
          ]
        },
        {
          "output_type": "stream",
          "name": "stderr",
          "text": [
            "Epoch 5, Batch 100, Loss: 1.9138: 100%|██████████| 100/100 [00:31<00:00,  3.21it/s]\n"
          ]
        },
        {
          "output_type": "stream",
          "name": "stdout",
          "text": [
            "Epoch 5, Current Learning Rate: 0.073390\n",
            "Epoch 5: Best model saved with accuracy: 62.1500\n"
          ]
        },
        {
          "output_type": "stream",
          "name": "stderr",
          "text": [
            "Epoch 6, Batch 100, Loss: 1.2413: 100%|██████████| 100/100 [00:31<00:00,  3.20it/s]\n"
          ]
        },
        {
          "output_type": "stream",
          "name": "stdout",
          "text": [
            "Epoch 6, Current Learning Rate: 0.068987\n",
            "Epoch 6: Best model saved with accuracy: 62.8300\n"
          ]
        },
        {
          "output_type": "stream",
          "name": "stderr",
          "text": [
            "Epoch 7, Batch 100, Loss: 1.0819: 100%|██████████| 100/100 [00:31<00:00,  3.19it/s]\n"
          ]
        },
        {
          "output_type": "stream",
          "name": "stdout",
          "text": [
            "Epoch 7, Current Learning Rate: 0.064848\n",
            "Epoch 7: Best model saved with accuracy: 68.4200\n"
          ]
        },
        {
          "output_type": "stream",
          "name": "stderr",
          "text": [
            "Epoch 8, Batch 100, Loss: 1.3563: 100%|██████████| 100/100 [00:31<00:00,  3.22it/s]\n"
          ]
        },
        {
          "output_type": "stream",
          "name": "stdout",
          "text": [
            "Epoch 8, Current Learning Rate: 0.060957\n",
            "Epoch 8: Best model saved with accuracy: 71.3000\n"
          ]
        },
        {
          "output_type": "stream",
          "name": "stderr",
          "text": [
            "Epoch 9, Batch 100, Loss: 1.6721: 100%|██████████| 100/100 [00:31<00:00,  3.21it/s]\n"
          ]
        },
        {
          "output_type": "stream",
          "name": "stdout",
          "text": [
            "Epoch 9, Current Learning Rate: 0.057299\n",
            "Epoch 9: Best model saved with accuracy: 75.0700\n"
          ]
        },
        {
          "output_type": "stream",
          "name": "stderr",
          "text": [
            "Epoch 10, Batch 100, Loss: 0.9691: 100%|██████████| 100/100 [00:31<00:00,  3.18it/s]\n"
          ]
        },
        {
          "output_type": "stream",
          "name": "stdout",
          "text": [
            "Epoch 10, Current Learning Rate: 0.053862\n",
            "Epoch 10: Best model saved with accuracy: 76.6500\n"
          ]
        },
        {
          "output_type": "stream",
          "name": "stderr",
          "text": [
            "Epoch 11, Batch 100, Loss: 1.2307: 100%|██████████| 100/100 [00:31<00:00,  3.20it/s]\n"
          ]
        },
        {
          "output_type": "stream",
          "name": "stdout",
          "text": [
            "Epoch 11, Current Learning Rate: 0.050630\n",
            "Epoch 11: Best model saved with accuracy: 76.7500\n"
          ]
        },
        {
          "output_type": "stream",
          "name": "stderr",
          "text": [
            "Epoch 12, Batch 100, Loss: 1.1623: 100%|██████████| 100/100 [00:30<00:00,  3.23it/s]\n"
          ]
        },
        {
          "output_type": "stream",
          "name": "stdout",
          "text": [
            "Epoch 12, Current Learning Rate: 0.047592\n",
            "Epoch 12: Best model saved with accuracy: 77.8400\n"
          ]
        },
        {
          "output_type": "stream",
          "name": "stderr",
          "text": [
            "Epoch 13, Batch 100, Loss: 1.7022: 100%|██████████| 100/100 [00:33<00:00,  3.02it/s]\n"
          ]
        },
        {
          "output_type": "stream",
          "name": "stdout",
          "text": [
            "Epoch 13, Current Learning Rate: 0.044737\n",
            "Epoch 13: Best model saved with accuracy: 78.7700\n"
          ]
        },
        {
          "output_type": "stream",
          "name": "stderr",
          "text": [
            "Epoch 14, Batch 100, Loss: 1.1100: 100%|██████████| 100/100 [00:31<00:00,  3.17it/s]\n"
          ]
        },
        {
          "output_type": "stream",
          "name": "stdout",
          "text": [
            "Epoch 14, Current Learning Rate: 0.042052\n",
            "Epoch 14: Best model saved with accuracy: 79.8100\n"
          ]
        },
        {
          "output_type": "stream",
          "name": "stderr",
          "text": [
            "Epoch 15, Batch 100, Loss: 0.6603: 100%|██████████| 100/100 [00:31<00:00,  3.22it/s]\n"
          ]
        },
        {
          "output_type": "stream",
          "name": "stdout",
          "text": [
            "Epoch 15, Current Learning Rate: 0.039529\n",
            "Epoch 15: Best model saved with accuracy: 80.8500\n"
          ]
        },
        {
          "output_type": "stream",
          "name": "stderr",
          "text": [
            "Epoch 16, Batch 100, Loss: 1.6710: 100%|██████████| 100/100 [00:30<00:00,  3.24it/s]\n"
          ]
        },
        {
          "output_type": "stream",
          "name": "stdout",
          "text": [
            "Epoch 16, Current Learning Rate: 0.037157\n",
            "Epoch 16: Best model saved with accuracy: 81.1300\n"
          ]
        },
        {
          "output_type": "stream",
          "name": "stderr",
          "text": [
            "Epoch 17, Batch 100, Loss: 0.6640: 100%|██████████| 100/100 [00:31<00:00,  3.19it/s]\n"
          ]
        },
        {
          "output_type": "stream",
          "name": "stdout",
          "text": [
            "Epoch 17, Current Learning Rate: 0.034928\n",
            "Epoch 17: Best model saved with accuracy: 81.7900\n"
          ]
        },
        {
          "output_type": "stream",
          "name": "stderr",
          "text": [
            "Epoch 18, Batch 100, Loss: 1.5349: 100%|██████████| 100/100 [00:31<00:00,  3.22it/s]\n"
          ]
        },
        {
          "output_type": "stream",
          "name": "stdout",
          "text": [
            "Epoch 18, Current Learning Rate: 0.032832\n",
            "Epoch 18: Best model saved with accuracy: 81.8300\n"
          ]
        },
        {
          "output_type": "stream",
          "name": "stderr",
          "text": [
            "Epoch 19, Batch 100, Loss: 1.6505: 100%|██████████| 100/100 [00:31<00:00,  3.22it/s]\n"
          ]
        },
        {
          "output_type": "stream",
          "name": "stdout",
          "text": [
            "Epoch 19, Current Learning Rate: 0.030862\n",
            "Epoch 19: Best model saved with accuracy: 82.8800\n"
          ]
        },
        {
          "output_type": "stream",
          "name": "stderr",
          "text": [
            "Epoch 20, Batch 100, Loss: 1.0408: 100%|██████████| 100/100 [00:31<00:00,  3.17it/s]\n"
          ]
        },
        {
          "output_type": "stream",
          "name": "stdout",
          "text": [
            "Epoch 20, Current Learning Rate: 0.029011\n"
          ]
        },
        {
          "output_type": "stream",
          "name": "stderr",
          "text": [
            "Epoch 21, Batch 100, Loss: 0.9433: 100%|██████████| 100/100 [00:31<00:00,  3.21it/s]\n"
          ]
        },
        {
          "output_type": "stream",
          "name": "stdout",
          "text": [
            "Epoch 21, Current Learning Rate: 0.027270\n",
            "Epoch 21: Best model saved with accuracy: 82.9000\n"
          ]
        },
        {
          "output_type": "stream",
          "name": "stderr",
          "text": [
            "Epoch 22, Batch 100, Loss: 1.2094: 100%|██████████| 100/100 [00:31<00:00,  3.22it/s]\n"
          ]
        },
        {
          "output_type": "stream",
          "name": "stdout",
          "text": [
            "Epoch 22, Current Learning Rate: 0.025634\n",
            "Epoch 22: Best model saved with accuracy: 83.3900\n"
          ]
        },
        {
          "output_type": "stream",
          "name": "stderr",
          "text": [
            "Epoch 23, Batch 100, Loss: 0.8915: 100%|██████████| 100/100 [00:30<00:00,  3.23it/s]\n"
          ]
        },
        {
          "output_type": "stream",
          "name": "stdout",
          "text": [
            "Epoch 23, Current Learning Rate: 0.024096\n",
            "Epoch 23: Best model saved with accuracy: 84.1700\n"
          ]
        },
        {
          "output_type": "stream",
          "name": "stderr",
          "text": [
            "Epoch 24, Batch 100, Loss: 1.3369: 100%|██████████| 100/100 [00:32<00:00,  3.10it/s]\n"
          ]
        },
        {
          "output_type": "stream",
          "name": "stdout",
          "text": [
            "Epoch 24, Current Learning Rate: 0.022650\n"
          ]
        },
        {
          "output_type": "stream",
          "name": "stderr",
          "text": [
            "Epoch 25, Batch 100, Loss: 1.6018: 100%|██████████| 100/100 [00:30<00:00,  3.24it/s]\n"
          ]
        },
        {
          "output_type": "stream",
          "name": "stdout",
          "text": [
            "Epoch 25, Current Learning Rate: 0.021291\n",
            "Epoch 25: Best model saved with accuracy: 85.1600\n"
          ]
        },
        {
          "output_type": "stream",
          "name": "stderr",
          "text": [
            "Epoch 26, Batch 100, Loss: 0.8113: 100%|██████████| 100/100 [00:31<00:00,  3.20it/s]\n"
          ]
        },
        {
          "output_type": "stream",
          "name": "stdout",
          "text": [
            "Epoch 26, Current Learning Rate: 0.020014\n"
          ]
        },
        {
          "output_type": "stream",
          "name": "stderr",
          "text": [
            "Epoch 27, Batch 100, Loss: 0.5822: 100%|██████████| 100/100 [00:31<00:00,  3.20it/s]\n"
          ]
        },
        {
          "output_type": "stream",
          "name": "stdout",
          "text": [
            "Epoch 27, Current Learning Rate: 0.018813\n"
          ]
        },
        {
          "output_type": "stream",
          "name": "stderr",
          "text": [
            "Epoch 28, Batch 100, Loss: 1.5711: 100%|██████████| 100/100 [00:30<00:00,  3.24it/s]\n"
          ]
        },
        {
          "output_type": "stream",
          "name": "stdout",
          "text": [
            "Epoch 28, Current Learning Rate: 0.017684\n",
            "Epoch 28: Best model saved with accuracy: 85.3000\n"
          ]
        },
        {
          "output_type": "stream",
          "name": "stderr",
          "text": [
            "Epoch 29, Batch 100, Loss: 0.7369: 100%|██████████| 100/100 [00:31<00:00,  3.21it/s]\n"
          ]
        },
        {
          "output_type": "stream",
          "name": "stdout",
          "text": [
            "Epoch 29, Current Learning Rate: 0.016623\n",
            "Epoch 29: Best model saved with accuracy: 85.4400\n"
          ]
        },
        {
          "output_type": "stream",
          "name": "stderr",
          "text": [
            "Epoch 30, Batch 100, Loss: 0.6949: 100%|██████████| 100/100 [00:31<00:00,  3.21it/s]\n"
          ]
        },
        {
          "output_type": "stream",
          "name": "stdout",
          "text": [
            "Epoch 30, Current Learning Rate: 0.015626\n",
            "Epoch 30: Best model saved with accuracy: 85.4500\n"
          ]
        },
        {
          "output_type": "stream",
          "name": "stderr",
          "text": [
            "Epoch 31, Batch 100, Loss: 1.3380: 100%|██████████| 100/100 [00:31<00:00,  3.22it/s]\n"
          ]
        },
        {
          "output_type": "stream",
          "name": "stdout",
          "text": [
            "Epoch 31, Current Learning Rate: 0.014688\n",
            "Epoch 31: Best model saved with accuracy: 85.5600\n"
          ]
        },
        {
          "output_type": "stream",
          "name": "stderr",
          "text": [
            "Epoch 32, Batch 100, Loss: 1.5031: 100%|██████████| 100/100 [00:31<00:00,  3.23it/s]\n"
          ]
        },
        {
          "output_type": "stream",
          "name": "stdout",
          "text": [
            "Epoch 32, Current Learning Rate: 0.013807\n",
            "Epoch 32: Best model saved with accuracy: 85.8100\n"
          ]
        },
        {
          "output_type": "stream",
          "name": "stderr",
          "text": [
            "Epoch 33, Batch 100, Loss: 1.0779: 100%|██████████| 100/100 [00:31<00:00,  3.20it/s]\n"
          ]
        },
        {
          "output_type": "stream",
          "name": "stdout",
          "text": [
            "Epoch 33, Current Learning Rate: 0.012978\n",
            "Epoch 33: Best model saved with accuracy: 86.2900\n"
          ]
        },
        {
          "output_type": "stream",
          "name": "stderr",
          "text": [
            "Epoch 34, Batch 100, Loss: 0.9256: 100%|██████████| 100/100 [00:31<00:00,  3.20it/s]\n"
          ]
        },
        {
          "output_type": "stream",
          "name": "stdout",
          "text": [
            "Epoch 34, Current Learning Rate: 0.012200\n",
            "Epoch 34: Best model saved with accuracy: 86.9100\n"
          ]
        },
        {
          "output_type": "stream",
          "name": "stderr",
          "text": [
            "Epoch 35, Batch 100, Loss: 0.5281: 100%|██████████| 100/100 [00:32<00:00,  3.05it/s]\n"
          ]
        },
        {
          "output_type": "stream",
          "name": "stdout",
          "text": [
            "Epoch 35, Current Learning Rate: 0.011468\n",
            "Epoch 35: Best model saved with accuracy: 87.0700\n"
          ]
        },
        {
          "output_type": "stream",
          "name": "stderr",
          "text": [
            "Epoch 36, Batch 100, Loss: 0.4499: 100%|██████████| 100/100 [00:31<00:00,  3.21it/s]\n"
          ]
        },
        {
          "output_type": "stream",
          "name": "stdout",
          "text": [
            "Epoch 36, Current Learning Rate: 0.010780\n"
          ]
        },
        {
          "output_type": "stream",
          "name": "stderr",
          "text": [
            "Epoch 37, Batch 100, Loss: 0.9885: 100%|██████████| 100/100 [00:31<00:00,  3.22it/s]\n"
          ]
        },
        {
          "output_type": "stream",
          "name": "stdout",
          "text": [
            "Epoch 37, Current Learning Rate: 0.010133\n",
            "Epoch 37: Best model saved with accuracy: 87.1600\n"
          ]
        },
        {
          "output_type": "stream",
          "name": "stderr",
          "text": [
            "Epoch 38, Batch 100, Loss: 1.2807: 100%|██████████| 100/100 [00:30<00:00,  3.23it/s]\n"
          ]
        },
        {
          "output_type": "stream",
          "name": "stdout",
          "text": [
            "Epoch 38, Current Learning Rate: 0.009525\n",
            "Epoch 38: Best model saved with accuracy: 87.4700\n"
          ]
        },
        {
          "output_type": "stream",
          "name": "stderr",
          "text": [
            "Epoch 39, Batch 100, Loss: 1.4889: 100%|██████████| 100/100 [00:30<00:00,  3.23it/s]\n"
          ]
        },
        {
          "output_type": "stream",
          "name": "stdout",
          "text": [
            "Epoch 39, Current Learning Rate: 0.008953\n",
            "Epoch 39: Best model saved with accuracy: 87.9700\n"
          ]
        },
        {
          "output_type": "stream",
          "name": "stderr",
          "text": [
            "Epoch 40, Batch 100, Loss: 1.4298: 100%|██████████| 100/100 [00:31<00:00,  3.19it/s]\n"
          ]
        },
        {
          "output_type": "stream",
          "name": "stdout",
          "text": [
            "Epoch 40, Current Learning Rate: 0.008416\n"
          ]
        },
        {
          "output_type": "stream",
          "name": "stderr",
          "text": [
            "Epoch 41, Batch 100, Loss: 1.2550: 100%|██████████| 100/100 [00:30<00:00,  3.23it/s]\n"
          ]
        },
        {
          "output_type": "stream",
          "name": "stdout",
          "text": [
            "Epoch 41, Current Learning Rate: 0.007911\n"
          ]
        },
        {
          "output_type": "stream",
          "name": "stderr",
          "text": [
            "Epoch 42, Batch 100, Loss: 1.4862: 100%|██████████| 100/100 [00:30<00:00,  3.23it/s]\n"
          ]
        },
        {
          "output_type": "stream",
          "name": "stdout",
          "text": [
            "Epoch 42, Current Learning Rate: 0.007437\n",
            "Epoch 42: Best model saved with accuracy: 88.0000\n"
          ]
        },
        {
          "output_type": "stream",
          "name": "stderr",
          "text": [
            "Epoch 43, Batch 100, Loss: 1.3117: 100%|██████████| 100/100 [00:31<00:00,  3.20it/s]\n"
          ]
        },
        {
          "output_type": "stream",
          "name": "stdout",
          "text": [
            "Epoch 43, Current Learning Rate: 0.006990\n",
            "Epoch 43: Best model saved with accuracy: 88.1600\n"
          ]
        },
        {
          "output_type": "stream",
          "name": "stderr",
          "text": [
            "Epoch 44, Batch 100, Loss: 1.1210: 100%|██████████| 100/100 [00:30<00:00,  3.23it/s]\n"
          ]
        },
        {
          "output_type": "stream",
          "name": "stdout",
          "text": [
            "Epoch 44, Current Learning Rate: 0.006571\n",
            "Epoch 44: Best model saved with accuracy: 88.5100\n"
          ]
        },
        {
          "output_type": "stream",
          "name": "stderr",
          "text": [
            "Epoch 45, Batch 100, Loss: 1.4158: 100%|██████████| 100/100 [00:31<00:00,  3.20it/s]\n"
          ]
        },
        {
          "output_type": "stream",
          "name": "stdout",
          "text": [
            "Epoch 45, Current Learning Rate: 0.006177\n"
          ]
        },
        {
          "output_type": "stream",
          "name": "stderr",
          "text": [
            "Epoch 46, Batch 100, Loss: 0.3929: 100%|██████████| 100/100 [00:32<00:00,  3.07it/s]\n"
          ]
        },
        {
          "output_type": "stream",
          "name": "stdout",
          "text": [
            "Epoch 46, Current Learning Rate: 0.005806\n"
          ]
        },
        {
          "output_type": "stream",
          "name": "stderr",
          "text": [
            "Epoch 47, Batch 100, Loss: 1.0959: 100%|██████████| 100/100 [00:30<00:00,  3.23it/s]\n"
          ]
        },
        {
          "output_type": "stream",
          "name": "stdout",
          "text": [
            "Epoch 47, Current Learning Rate: 0.005458\n"
          ]
        },
        {
          "output_type": "stream",
          "name": "stderr",
          "text": [
            "Epoch 48, Batch 100, Loss: 1.4413: 100%|██████████| 100/100 [00:30<00:00,  3.24it/s]\n"
          ]
        },
        {
          "output_type": "stream",
          "name": "stdout",
          "text": [
            "Epoch 48, Current Learning Rate: 0.005130\n",
            "Epoch 48: Best model saved with accuracy: 88.6500\n"
          ]
        },
        {
          "output_type": "stream",
          "name": "stderr",
          "text": [
            "Epoch 49, Batch 100, Loss: 1.0170: 100%|██████████| 100/100 [00:31<00:00,  3.18it/s]\n"
          ]
        },
        {
          "output_type": "stream",
          "name": "stdout",
          "text": [
            "Epoch 49, Current Learning Rate: 0.004822\n",
            "Epoch 49: Best model saved with accuracy: 89.3700\n"
          ]
        },
        {
          "output_type": "stream",
          "name": "stderr",
          "text": [
            "Epoch 50, Batch 100, Loss: 1.4039: 100%|██████████| 100/100 [00:31<00:00,  3.22it/s]\n"
          ]
        },
        {
          "output_type": "stream",
          "name": "stdout",
          "text": [
            "Epoch 50, Current Learning Rate: 0.004533\n"
          ]
        },
        {
          "output_type": "stream",
          "name": "stderr",
          "text": [
            "Epoch 51, Batch 100, Loss: 0.7528: 100%|██████████| 100/100 [00:30<00:00,  3.23it/s]\n"
          ]
        },
        {
          "output_type": "stream",
          "name": "stdout",
          "text": [
            "Epoch 51, Current Learning Rate: 0.004261\n"
          ]
        },
        {
          "output_type": "stream",
          "name": "stderr",
          "text": [
            "Epoch 52, Batch 100, Loss: 0.8616: 100%|██████████| 100/100 [00:31<00:00,  3.21it/s]\n"
          ]
        },
        {
          "output_type": "stream",
          "name": "stdout",
          "text": [
            "Epoch 52, Current Learning Rate: 0.004005\n"
          ]
        },
        {
          "output_type": "stream",
          "name": "stderr",
          "text": [
            "Epoch 53, Batch 100, Loss: 1.2301: 100%|██████████| 100/100 [00:30<00:00,  3.24it/s]\n"
          ]
        },
        {
          "output_type": "stream",
          "name": "stdout",
          "text": [
            "Epoch 53, Current Learning Rate: 0.003765\n"
          ]
        },
        {
          "output_type": "stream",
          "name": "stderr",
          "text": [
            "Epoch 54, Batch 100, Loss: 0.3669: 100%|██████████| 100/100 [00:31<00:00,  3.22it/s]\n"
          ]
        },
        {
          "output_type": "stream",
          "name": "stdout",
          "text": [
            "Epoch 54, Current Learning Rate: 0.003539\n"
          ]
        },
        {
          "output_type": "stream",
          "name": "stderr",
          "text": [
            "Epoch 55, Batch 100, Loss: 1.3774: 100%|██████████| 100/100 [00:30<00:00,  3.24it/s]\n"
          ]
        },
        {
          "output_type": "stream",
          "name": "stdout",
          "text": [
            "Epoch 55, Current Learning Rate: 0.003327\n"
          ]
        },
        {
          "output_type": "stream",
          "name": "stderr",
          "text": [
            "Epoch 56, Batch 100, Loss: 0.8495: 100%|██████████| 100/100 [00:31<00:00,  3.21it/s]\n"
          ]
        },
        {
          "output_type": "stream",
          "name": "stdout",
          "text": [
            "Epoch 56, Current Learning Rate: 0.003127\n",
            "Epoch 56: Best model saved with accuracy: 89.5400\n"
          ]
        },
        {
          "output_type": "stream",
          "name": "stderr",
          "text": [
            "Epoch 57, Batch 100, Loss: 1.2166: 100%|██████████| 100/100 [00:30<00:00,  3.24it/s]\n"
          ]
        },
        {
          "output_type": "stream",
          "name": "stdout",
          "text": [
            "Epoch 57, Current Learning Rate: 0.002940\n",
            "Epoch 57: Best model saved with accuracy: 89.5500\n"
          ]
        },
        {
          "output_type": "stream",
          "name": "stderr",
          "text": [
            "Epoch 58, Batch 100, Loss: 0.7485: 100%|██████████| 100/100 [00:31<00:00,  3.15it/s]\n"
          ]
        },
        {
          "output_type": "stream",
          "name": "stdout",
          "text": [
            "Epoch 58, Current Learning Rate: 0.002763\n"
          ]
        },
        {
          "output_type": "stream",
          "name": "stderr",
          "text": [
            "Epoch 59, Batch 100, Loss: 1.2588: 100%|██████████| 100/100 [00:31<00:00,  3.22it/s]\n"
          ]
        },
        {
          "output_type": "stream",
          "name": "stdout",
          "text": [
            "Epoch 59, Current Learning Rate: 0.002597\n",
            "Epoch 59: Best model saved with accuracy: 89.5700\n"
          ]
        },
        {
          "output_type": "stream",
          "name": "stderr",
          "text": [
            "Epoch 60, Batch 100, Loss: 0.7084: 100%|██████████| 100/100 [00:31<00:00,  3.22it/s]\n"
          ]
        },
        {
          "output_type": "stream",
          "name": "stdout",
          "text": [
            "Epoch 60, Current Learning Rate: 0.002442\n",
            "Epoch 60: Best model saved with accuracy: 89.6600\n"
          ]
        },
        {
          "output_type": "stream",
          "name": "stderr",
          "text": [
            "Epoch 61, Batch 100, Loss: 1.3193: 100%|██████████| 100/100 [00:30<00:00,  3.24it/s]\n"
          ]
        },
        {
          "output_type": "stream",
          "name": "stdout",
          "text": [
            "Epoch 61, Current Learning Rate: 0.002295\n",
            "Epoch 61: Best model saved with accuracy: 89.8400\n"
          ]
        },
        {
          "output_type": "stream",
          "name": "stderr",
          "text": [
            "Epoch 62, Batch 100, Loss: 0.6603: 100%|██████████| 100/100 [00:31<00:00,  3.20it/s]\n"
          ]
        },
        {
          "output_type": "stream",
          "name": "stdout",
          "text": [
            "Epoch 62, Current Learning Rate: 0.002157\n"
          ]
        },
        {
          "output_type": "stream",
          "name": "stderr",
          "text": [
            "Epoch 63, Batch 100, Loss: 1.3440: 100%|██████████| 100/100 [00:31<00:00,  3.21it/s]\n"
          ]
        },
        {
          "output_type": "stream",
          "name": "stdout",
          "text": [
            "Epoch 63, Current Learning Rate: 0.002028\n"
          ]
        },
        {
          "output_type": "stream",
          "name": "stderr",
          "text": [
            "Epoch 64, Batch 100, Loss: 1.3732: 100%|██████████| 100/100 [00:31<00:00,  3.18it/s]\n"
          ]
        },
        {
          "output_type": "stream",
          "name": "stdout",
          "text": [
            "Epoch 64, Current Learning Rate: 0.001906\n",
            "Epoch 64: Best model saved with accuracy: 89.9400\n"
          ]
        },
        {
          "output_type": "stream",
          "name": "stderr",
          "text": [
            "Epoch 65, Batch 100, Loss: 0.9839: 100%|██████████| 100/100 [00:31<00:00,  3.16it/s]\n"
          ]
        },
        {
          "output_type": "stream",
          "name": "stdout",
          "text": [
            "Epoch 65, Current Learning Rate: 0.001792\n"
          ]
        },
        {
          "output_type": "stream",
          "name": "stderr",
          "text": [
            "Epoch 66, Batch 100, Loss: 1.3259: 100%|██████████| 100/100 [00:31<00:00,  3.22it/s]\n"
          ]
        },
        {
          "output_type": "stream",
          "name": "stdout",
          "text": [
            "Epoch 66, Current Learning Rate: 0.001684\n",
            "Epoch 66: Best model saved with accuracy: 90.2900\n"
          ]
        },
        {
          "output_type": "stream",
          "name": "stderr",
          "text": [
            "Epoch 67, Batch 100, Loss: 1.0865: 100%|██████████| 100/100 [00:31<00:00,  3.22it/s]\n"
          ]
        },
        {
          "output_type": "stream",
          "name": "stdout",
          "text": [
            "Epoch 67, Current Learning Rate: 0.001583\n",
            "Epoch 67: Best model saved with accuracy: 90.4700\n"
          ]
        },
        {
          "output_type": "stream",
          "name": "stderr",
          "text": [
            "Epoch 68, Batch 100, Loss: 0.9913: 100%|██████████| 100/100 [00:31<00:00,  3.18it/s]\n"
          ]
        },
        {
          "output_type": "stream",
          "name": "stdout",
          "text": [
            "Epoch 68, Current Learning Rate: 0.001488\n"
          ]
        },
        {
          "output_type": "stream",
          "name": "stderr",
          "text": [
            "Epoch 69, Batch 100, Loss: 0.6855: 100%|██████████| 100/100 [00:33<00:00,  3.02it/s]\n"
          ]
        },
        {
          "output_type": "stream",
          "name": "stdout",
          "text": [
            "Epoch 69, Current Learning Rate: 0.001399\n",
            "Epoch 69: Best model saved with accuracy: 90.6300\n"
          ]
        },
        {
          "output_type": "stream",
          "name": "stderr",
          "text": [
            "Epoch 70, Batch 100, Loss: 1.1520: 100%|██████████| 100/100 [00:31<00:00,  3.21it/s]\n"
          ]
        },
        {
          "output_type": "stream",
          "name": "stdout",
          "text": [
            "Epoch 70, Current Learning Rate: 0.001315\n",
            "Epoch 70: Best model saved with accuracy: 90.7900\n"
          ]
        },
        {
          "output_type": "stream",
          "name": "stderr",
          "text": [
            "Epoch 71, Batch 100, Loss: 0.6122: 100%|██████████| 100/100 [00:31<00:00,  3.22it/s]\n"
          ]
        },
        {
          "output_type": "stream",
          "name": "stdout",
          "text": [
            "Epoch 71, Current Learning Rate: 0.001236\n"
          ]
        },
        {
          "output_type": "stream",
          "name": "stderr",
          "text": [
            "Epoch 72, Batch 100, Loss: 0.2720: 100%|██████████| 100/100 [00:31<00:00,  3.16it/s]\n"
          ]
        },
        {
          "output_type": "stream",
          "name": "stdout",
          "text": [
            "Epoch 72, Current Learning Rate: 0.001162\n"
          ]
        },
        {
          "output_type": "stream",
          "name": "stderr",
          "text": [
            "Epoch 73, Batch 100, Loss: 1.0595: 100%|██████████| 100/100 [00:31<00:00,  3.21it/s]\n"
          ]
        },
        {
          "output_type": "stream",
          "name": "stdout",
          "text": [
            "Epoch 73, Current Learning Rate: 0.001092\n"
          ]
        },
        {
          "output_type": "stream",
          "name": "stderr",
          "text": [
            "Epoch 74, Batch 100, Loss: 1.2265: 100%|██████████| 100/100 [00:31<00:00,  3.21it/s]\n"
          ]
        },
        {
          "output_type": "stream",
          "name": "stdout",
          "text": [
            "Epoch 74, Current Learning Rate: 0.001027\n"
          ]
        },
        {
          "output_type": "stream",
          "name": "stderr",
          "text": [
            "Epoch 75, Batch 100, Loss: 0.5117: 100%|██████████| 100/100 [00:31<00:00,  3.17it/s]\n"
          ]
        },
        {
          "output_type": "stream",
          "name": "stdout",
          "text": [
            "Epoch 75, Current Learning Rate: 0.000965\n"
          ]
        },
        {
          "output_type": "stream",
          "name": "stderr",
          "text": [
            "Epoch 76, Batch 100, Loss: 1.2919: 100%|██████████| 100/100 [00:31<00:00,  3.18it/s]\n"
          ]
        },
        {
          "output_type": "stream",
          "name": "stdout",
          "text": [
            "Epoch 76, Current Learning Rate: 0.000907\n"
          ]
        },
        {
          "output_type": "stream",
          "name": "stderr",
          "text": [
            "Epoch 77, Batch 100, Loss: 0.1981: 100%|██████████| 100/100 [00:31<00:00,  3.20it/s]\n"
          ]
        },
        {
          "output_type": "stream",
          "name": "stdout",
          "text": [
            "Epoch 77, Current Learning Rate: 0.000853\n"
          ]
        },
        {
          "output_type": "stream",
          "name": "stderr",
          "text": [
            "Epoch 78, Batch 100, Loss: 0.2571: 100%|██████████| 100/100 [00:31<00:00,  3.18it/s]\n"
          ]
        },
        {
          "output_type": "stream",
          "name": "stdout",
          "text": [
            "Epoch 78, Current Learning Rate: 0.000802\n"
          ]
        },
        {
          "output_type": "stream",
          "name": "stderr",
          "text": [
            "Epoch 79, Batch 100, Loss: 0.4689: 100%|██████████| 100/100 [00:31<00:00,  3.21it/s]\n"
          ]
        },
        {
          "output_type": "stream",
          "name": "stdout",
          "text": [
            "Epoch 79, Current Learning Rate: 0.000754\n"
          ]
        },
        {
          "output_type": "stream",
          "name": "stderr",
          "text": [
            "Epoch 80, Batch 100, Loss: 1.1971: 100%|██████████| 100/100 [00:32<00:00,  3.11it/s]\n"
          ]
        },
        {
          "output_type": "stream",
          "name": "stdout",
          "text": [
            "Epoch 80, Current Learning Rate: 0.000708\n"
          ]
        },
        {
          "output_type": "stream",
          "name": "stderr",
          "text": [
            "Epoch 81, Batch 100, Loss: 1.0496: 100%|██████████| 100/100 [00:31<00:00,  3.16it/s]\n"
          ]
        },
        {
          "output_type": "stream",
          "name": "stdout",
          "text": [
            "Epoch 81, Current Learning Rate: 0.000666\n"
          ]
        },
        {
          "output_type": "stream",
          "name": "stderr",
          "text": [
            "Epoch 82, Batch 100, Loss: 1.3310: 100%|██████████| 100/100 [00:31<00:00,  3.20it/s]\n"
          ]
        },
        {
          "output_type": "stream",
          "name": "stdout",
          "text": [
            "Epoch 82, Current Learning Rate: 0.000626\n"
          ]
        },
        {
          "output_type": "stream",
          "name": "stderr",
          "text": [
            "Epoch 83, Batch 100, Loss: 1.0126: 100%|██████████| 100/100 [00:31<00:00,  3.21it/s]\n"
          ]
        },
        {
          "output_type": "stream",
          "name": "stdout",
          "text": [
            "Epoch 83, Current Learning Rate: 0.000588\n"
          ]
        },
        {
          "output_type": "stream",
          "name": "stderr",
          "text": [
            "Epoch 84, Batch 100, Loss: 0.1784: 100%|██████████| 100/100 [00:31<00:00,  3.16it/s]\n"
          ]
        },
        {
          "output_type": "stream",
          "name": "stdout",
          "text": [
            "Epoch 84, Current Learning Rate: 0.000553\n",
            "Epoch 84: Best model saved with accuracy: 90.8700\n"
          ]
        },
        {
          "output_type": "stream",
          "name": "stderr",
          "text": [
            "Epoch 85, Batch 100, Loss: 1.3327: 100%|██████████| 100/100 [00:31<00:00,  3.20it/s]\n"
          ]
        },
        {
          "output_type": "stream",
          "name": "stdout",
          "text": [
            "Epoch 85, Current Learning Rate: 0.000520\n"
          ]
        },
        {
          "output_type": "stream",
          "name": "stderr",
          "text": [
            "Epoch 86, Batch 100, Loss: 1.2582: 100%|██████████| 100/100 [00:31<00:00,  3.21it/s]\n"
          ]
        },
        {
          "output_type": "stream",
          "name": "stdout",
          "text": [
            "Epoch 86, Current Learning Rate: 0.000489\n",
            "Epoch 86: Best model saved with accuracy: 90.8800\n"
          ]
        },
        {
          "output_type": "stream",
          "name": "stderr",
          "text": [
            "Epoch 87, Batch 100, Loss: 1.3691: 100%|██████████| 100/100 [00:31<00:00,  3.19it/s]\n"
          ]
        },
        {
          "output_type": "stream",
          "name": "stdout",
          "text": [
            "Epoch 87, Current Learning Rate: 0.000459\n"
          ]
        },
        {
          "output_type": "stream",
          "name": "stderr",
          "text": [
            "Epoch 88, Batch 100, Loss: 1.1618: 100%|██████████| 100/100 [00:30<00:00,  3.23it/s]\n"
          ]
        },
        {
          "output_type": "stream",
          "name": "stdout",
          "text": [
            "Epoch 88, Current Learning Rate: 0.000432\n"
          ]
        },
        {
          "output_type": "stream",
          "name": "stderr",
          "text": [
            "Epoch 89, Batch 100, Loss: 0.2129: 100%|██████████| 100/100 [00:31<00:00,  3.21it/s]\n"
          ]
        },
        {
          "output_type": "stream",
          "name": "stdout",
          "text": [
            "Epoch 89, Current Learning Rate: 0.000406\n"
          ]
        },
        {
          "output_type": "stream",
          "name": "stderr",
          "text": [
            "Epoch 90, Batch 100, Loss: 1.3220: 100%|██████████| 100/100 [00:31<00:00,  3.20it/s]\n"
          ]
        },
        {
          "output_type": "stream",
          "name": "stdout",
          "text": [
            "Epoch 90, Current Learning Rate: 0.000382\n"
          ]
        },
        {
          "output_type": "stream",
          "name": "stderr",
          "text": [
            "Epoch 91, Batch 100, Loss: 1.2410: 100%|██████████| 100/100 [00:31<00:00,  3.20it/s]\n"
          ]
        },
        {
          "output_type": "stream",
          "name": "stdout",
          "text": [
            "Epoch 91, Current Learning Rate: 0.000359\n"
          ]
        },
        {
          "output_type": "stream",
          "name": "stderr",
          "text": [
            "Epoch 92, Batch 100, Loss: 1.0003: 100%|██████████| 100/100 [00:32<00:00,  3.10it/s]\n"
          ]
        },
        {
          "output_type": "stream",
          "name": "stdout",
          "text": [
            "Epoch 92, Current Learning Rate: 0.000337\n"
          ]
        },
        {
          "output_type": "stream",
          "name": "stderr",
          "text": [
            "Epoch 93, Batch 100, Loss: 1.3056: 100%|██████████| 100/100 [00:31<00:00,  3.20it/s]\n"
          ]
        },
        {
          "output_type": "stream",
          "name": "stdout",
          "text": [
            "Epoch 93, Current Learning Rate: 0.000317\n",
            "Epoch 93: Best model saved with accuracy: 90.9100\n"
          ]
        },
        {
          "output_type": "stream",
          "name": "stderr",
          "text": [
            "Epoch 94, Batch 100, Loss: 1.1541: 100%|██████████| 100/100 [00:31<00:00,  3.19it/s]\n"
          ]
        },
        {
          "output_type": "stream",
          "name": "stdout",
          "text": [
            "Epoch 94, Current Learning Rate: 0.000298\n",
            "Epoch 94: Best model saved with accuracy: 90.9200\n"
          ]
        },
        {
          "output_type": "stream",
          "name": "stderr",
          "text": [
            "Epoch 95, Batch 100, Loss: 0.1755: 100%|██████████| 100/100 [00:31<00:00,  3.21it/s]\n"
          ]
        },
        {
          "output_type": "stream",
          "name": "stdout",
          "text": [
            "Epoch 95, Current Learning Rate: 0.000280\n",
            "Epoch 95: Best model saved with accuracy: 91.0100\n",
            "Time elapsed in training is: 3208.5350937843323\n"
          ]
        }
      ]
    },
    {
      "cell_type": "code",
      "source": [
        "import pandas as pd\n",
        "\n",
        "df = pd.DataFrame({\n",
        "    'Accuracy': accuracy_list,\n",
        "    'Test Loss': test_loss_list,\n",
        "    'Train Loss' : train_loss_list\n",
        "})\n",
        "\n",
        "df.to_csv('/content/drive/MyDrive/ML Project/CustomMobileNet_18_CustomMobileNet13 batch 500/metrics.csv', index=False)"
      ],
      "metadata": {
        "id": "BO7fZVK3tFBO"
      },
      "execution_count": null,
      "outputs": []
    },
    {
      "cell_type": "code",
      "source": [
        "import matplotlib.pyplot as plt\n",
        "\n",
        "# 데이터 로드\n",
        "df = pd.read_csv('/content/drive/MyDrive/ML Project/CustomMobileNet_18_CustomMobileNet13 batch 500/metrics.csv')\n",
        "\n",
        "# 그래프 크기 설정\n",
        "plt.figure(figsize=(12, 4))\n",
        "\n",
        "# Train Loss\n",
        "plt.subplot(1, 3, 1)\n",
        "plt.plot(df['Train Loss'], label='Train Loss', color='blue')\n",
        "plt.xlabel('Epoch')\n",
        "plt.ylabel('Loss')\n",
        "plt.title('Train Loss')\n",
        "plt.legend()\n",
        "\n",
        "# Test Loss\n",
        "plt.subplot(1, 3, 2)\n",
        "plt.plot(df['Test Loss'], label='Test Loss', color='red')\n",
        "plt.xlabel('Epoch')\n",
        "plt.ylabel('Loss')\n",
        "plt.title('Test Loss')\n",
        "plt.legend()\n",
        "\n",
        "# Accuracy\n",
        "plt.subplot(1, 3, 3)\n",
        "plt.plot(df['Accuracy'], label='Accuracy', color='green')\n",
        "plt.xlabel('Epoch')\n",
        "plt.ylabel('Accuracy (%)')\n",
        "plt.title('Accuracy')\n",
        "plt.legend()\n",
        "\n",
        "plt.tight_layout()\n",
        "plt.show()\n",
        "\n",
        "plt.savefig('/content/drive/MyDrive/ML Project/CustomMobileNet_18_CustomMobileNet13 batch 500/Loss_Accuracy_plot.png')"
      ],
      "metadata": {
        "colab": {
          "base_uri": "https://localhost:8080/",
          "height": 313
        },
        "id": "sjmNXG7_Ukjj",
        "outputId": "e80b4ece-faf8-4c5d-a5e8-c1e6b92945b8"
      },
      "execution_count": null,
      "outputs": [
        {
          "output_type": "display_data",
          "data": {
            "text/plain": [
              "<Figure size 1200x400 with 3 Axes>"
            ],
            "image/png": "[encoded data removed]"
          },
          "metadata": {}
        },
        {
          "output_type": "display_data",
          "data": {
            "text/plain": [
              "<Figure size 640x480 with 0 Axes>"
            ]
          },
          "metadata": {}
        }
      ]
    },
    {
      "cell_type": "code",
      "source": [
        "model = MobileNet().to(device)\n",
        "\n",
        "# 저장된 Best 가중치 불러오기\n",
        "model_path = '/content/drive/MyDrive/ML Project/CustomMobileNet_18_CustomMobileNet13 batch 500/model/best_model_epoch_95.pkt'\n",
        "model.load_state_dict(torch.load(model_path))"
      ],
      "metadata": {
        "colab": {
          "base_uri": "https://localhost:8080/"
        },
        "id": "lVLYgFs1o-fx",
        "outputId": "a8b3203f-7725-479e-9f40-41b2649d4809"
      },
      "execution_count": null,
      "outputs": [
        {
          "output_type": "execute_result",
          "data": {
            "text/plain": [
              "<All keys matched successfully>"
            ]
          },
          "metadata": {},
          "execution_count": 16
        }
      ]
    },
    {
      "cell_type": "code",
      "source": [
        "model.eval()\n",
        "test_loss, correct, total = 0, 0, 0\n",
        "\n",
        "test_loader = torch.utils.data.DataLoader(dataset=test_dataset, batch_size=100, shuffle=False)\n",
        "with torch.no_grad():  #using context manager\n",
        "    for images, labels in test_loader :\n",
        "        images, labels = images.to(device), labels.to(device)\n",
        "\n",
        "        output = model(images)\n",
        "        test_loss += loss_function(output, labels).item()\n",
        "\n",
        "        pred = output.max(1, keepdim=True)[1]\n",
        "        correct += pred.eq(labels.view_as(pred)).sum().item()\n",
        "\n",
        "        total += labels.size(0)\n",
        "\n",
        "print('[Test set] Average loss: {:.4f}, Accuracy: {}/{} ({:.2f}%)\\n'.format(\n",
        "        test_loss /total, correct, total,\n",
        "        100. * correct / total))"
      ],
      "metadata": {
        "colab": {
          "base_uri": "https://localhost:8080/"
        },
        "id": "12R099LFs3RJ",
        "outputId": "fa166d15-7294-4bea-e449-e61732dbb4e0"
      },
      "execution_count": null,
      "outputs": [
        {
          "output_type": "stream",
          "name": "stdout",
          "text": [
            "[Test set] Average loss: 0.0032, Accuracy: 9181/10000 (91.81%)\n",
            "\n"
          ]
        }
      ]
    },
    {
      "cell_type": "code",
      "source": [
        "# Best 가중치 상위 폴더 저장\n",
        "import shutil\n",
        "\n",
        "source_path = '/content/drive/MyDrive/ML Project/CustomMobileNet_17_()_CustomMobileNet13 batch 200/model/best_model_epoch_95.pkt'\n",
        "destination_path = '/content/drive/MyDrive/ML Project/CustomMobileNet_17_()_CustomMobileNet13 batch 200'\n",
        "\n",
        "shutil.move(source_path, destination_path)"
      ],
      "metadata": {
        "colab": {
          "base_uri": "https://localhost:8080/",
          "height": 36
        },
        "id": "4gDcy6cdvxWl",
        "outputId": "fdac5e5c-99e4-417e-f655-bd0fcb5b34cb"
      },
      "execution_count": null,
      "outputs": [
        {
          "output_type": "execute_result",
          "data": {
            "text/plain": [
              "'/content/drive/MyDrive/ML Project/CustomMobileNet_17_()_CustomMobileNet13 batch 200/best_model_epoch_95.pkt'"
            ],
            "application/vnd.google.colaboratory.intrinsic+json": {
              "type": "string"
            }
          },
          "metadata": {},
          "execution_count": 16
        }
      ]
    },
    {
      "cell_type": "markdown",
      "source": [
        "### **+10 epoch Train**"
      ],
      "metadata": {
        "id": "0XyhN6ljWvPX"
      }
    },
    {
      "cell_type": "code",
      "source": [
        "model = MobileNet().to(device)\n",
        "\n",
        "# 저장된 Best 가중치 불러오기\n",
        "model_path = '/content/drive/MyDrive/ML Project/CustomMobileNet_18_(91.81%)_CustomMobileNet13 batch 500/best_model_epoch_95.pkt'\n",
        "model.load_state_dict(torch.load(model_path))"
      ],
      "metadata": {
        "colab": {
          "base_uri": "https://localhost:8080/"
        },
        "id": "ZrjFhpHaWxDq",
        "outputId": "45d6fc28-5932-4be8-e95e-eef1ea4121a4"
      },
      "execution_count": null,
      "outputs": [
        {
          "output_type": "execute_result",
          "data": {
            "text/plain": [
              "<All keys matched successfully>"
            ]
          },
          "metadata": {},
          "execution_count": 9
        }
      ]
    },
    {
      "cell_type": "code",
      "source": [
        "loss_function = nn.CrossEntropyLoss()\n",
        "optimizer = torch.optim.SGD(model.parameters(), lr=0.000280, momentum=0.9, weight_decay=2.5e-3)\n",
        "scheduler = torch.optim.lr_scheduler.LambdaLR(optimizer, lr_lambda=lambda epoch: 0.94 ** epoch)"
      ],
      "metadata": {
        "id": "UMufRScgW9bQ"
      },
      "execution_count": null,
      "outputs": []
    },
    {
      "cell_type": "code",
      "source": [
        "model.eval()\n",
        "test_loss, correct, total = 0, 0, 0\n",
        "\n",
        "test_loader = torch.utils.data.DataLoader(dataset=test_dataset, batch_size=100, shuffle=False)\n",
        "with torch.no_grad():  #using context manager\n",
        "    for images, labels in test_loader :\n",
        "        images, labels = images.to(device), labels.to(device)\n",
        "\n",
        "        output = model(images)\n",
        "        test_loss += loss_function(output, labels).item()\n",
        "\n",
        "        pred = output.max(1, keepdim=True)[1]\n",
        "        correct += pred.eq(labels.view_as(pred)).sum().item()\n",
        "\n",
        "        total += labels.size(0)\n",
        "\n",
        "print('[Test set] Average loss: {:.4f}, Accuracy: {}/{} ({:.2f}%)\\n'.format(\n",
        "        test_loss /total, correct, total,\n",
        "        100. * correct / total))"
      ],
      "metadata": {
        "colab": {
          "base_uri": "https://localhost:8080/"
        },
        "id": "PbXAFnjGW4YQ",
        "outputId": "96b036a0-7da3-4d8b-9a6a-4d09462fa765"
      },
      "execution_count": null,
      "outputs": [
        {
          "output_type": "stream",
          "name": "stdout",
          "text": [
            "[Test set] Average loss: 0.0032, Accuracy: 9181/10000 (91.81%)\n",
            "\n"
          ]
        }
      ]
    },
    {
      "cell_type": "code",
      "source": [
        "from tqdm import tqdm\n",
        "import torch\n",
        "import os\n",
        "\n",
        "model.train()\n",
        "train_loader = torch.utils.data.DataLoader(dataset=train_dataset, batch_size=500, shuffle=True)\n",
        "test_loader = torch.utils.data.DataLoader(dataset=test_dataset, batch_size=100, shuffle=False)\n",
        "\n",
        "best_accuracy = 0.0\n",
        "accuracy_list = []\n",
        "test_loss_list = []\n",
        "train_loss_list = []\n",
        "\n",
        "import time\n",
        "start = time.time()\n",
        "\n",
        "\n",
        "for epoch in range(10):\n",
        "    # print(f\"{epoch}th epoch starting.\")\n",
        "    batch_num = len(train_loader)\n",
        "\n",
        "    train_loss_epoch, test_loss, correct = 0, 0, 0\n",
        "\n",
        "    pbar = tqdm(enumerate(train_loader), total=batch_num, dynamic_ncols=True, position=0, leave=True)\n",
        "    for i, (images, labels) in pbar:\n",
        "        images, labels = images.to(device), labels.to(device)\n",
        "\n",
        "        optimizer.zero_grad()\n",
        "\n",
        "        # MixUp을 적용하여 데이터를 섞음\n",
        "        mixed_images, target_a, target_b, lam = mixup_data(images, labels, alpha=1.0)\n",
        "\n",
        "        # 모델에 MixUp된 데이터를 입력으로 전달\n",
        "        output = model(mixed_images)\n",
        "\n",
        "        # MixUp된 데이터에 대한 손실을 계산\n",
        "        train_loss = mixup_criterion(loss_function, output, target_a, target_b, lam)\n",
        "\n",
        "        train_loss.backward()\n",
        "        optimizer.step()\n",
        "        train_loss_epoch += train_loss.item()\n",
        "\n",
        "        # 현재 배치의 Loss 값 표시\n",
        "        pbar.set_description(f\"Epoch {epoch + 1 + 95}, Batch {i + 1}, Loss: {train_loss.item():.4f}\")\n",
        "\n",
        "    train_loss_list.append(train_loss_epoch / batch_num)\n",
        "\n",
        "    scheduler.step()  # 에폭마다 스케줄러 호출\n",
        "    # 현재 에폭에서의 학습률 출력\n",
        "    current_lr = optimizer.param_groups[0]['lr']\n",
        "    print(f\"Epoch {epoch + 1 + 95}, Current Learning Rate: {current_lr:.6f}\")\n",
        "\n",
        "    with torch.no_grad():\n",
        "        total = 0\n",
        "        for images, labels in test_loader:\n",
        "            images, labels = images.to(device), labels.to(device)\n",
        "\n",
        "            output = model(images)\n",
        "            test_loss += loss_function(output, labels).item()\n",
        "\n",
        "            pred = output.max(1, keepdim=True)[1]\n",
        "            correct += pred.eq(labels.view_as(pred)).sum().item()\n",
        "\n",
        "            total += labels.size(0)\n",
        "\n",
        "    accuracy = 100. * correct / total\n",
        "    # test_loss_list.append(test_loss / total)\n",
        "    test_loss_list.append(test_loss / len(test_loader))\n",
        "    accuracy_list.append(accuracy)\n",
        "\n",
        "    # 최고 성능 모델 저장\n",
        "    if accuracy > best_accuracy:\n",
        "        best_accuracy = accuracy\n",
        "        model_filename = f\"best_model_epoch_{epoch+1 + 95}.pkt\"\n",
        "        model_save_path = os.path.join(save_path, model_filename)\n",
        "\n",
        "        torch.save(model.state_dict(), model_save_path)\n",
        "        print(f\"Epoch {epoch + 1 + 95}: Best model saved with accuracy: {accuracy:.4f}\")\n",
        "\n",
        "end = time.time()\n",
        "print(\"Time elapsed in training is: {}\".format(end - start))"
      ],
      "metadata": {
        "colab": {
          "base_uri": "https://localhost:8080/"
        },
        "id": "nPjdyl0KXHgL",
        "outputId": "6b3c4be4-0510-4ce4-e91d-ca6067edf1af"
      },
      "execution_count": null,
      "outputs": [
        {
          "output_type": "stream",
          "name": "stderr",
          "text": [
            "Epoch 96, Batch 100, Loss: 0.7734: 100%|██████████| 100/100 [00:30<00:00,  3.25it/s]\n"
          ]
        },
        {
          "output_type": "stream",
          "name": "stdout",
          "text": [
            "Epoch 96, Current Learning Rate: 0.000263\n",
            "Epoch 96: Best model saved with accuracy: 90.8300\n"
          ]
        },
        {
          "output_type": "stream",
          "name": "stderr",
          "text": [
            "Epoch 97, Batch 100, Loss: 1.1859: 100%|██████████| 100/100 [00:30<00:00,  3.23it/s]\n"
          ]
        },
        {
          "output_type": "stream",
          "name": "stdout",
          "text": [
            "Epoch 97, Current Learning Rate: 0.000247\n",
            "Epoch 97: Best model saved with accuracy: 90.9900\n"
          ]
        },
        {
          "output_type": "stream",
          "name": "stderr",
          "text": [
            "Epoch 98, Batch 100, Loss: 1.1459: 100%|██████████| 100/100 [00:32<00:00,  3.07it/s]\n"
          ]
        },
        {
          "output_type": "stream",
          "name": "stdout",
          "text": [
            "Epoch 98, Current Learning Rate: 0.000233\n"
          ]
        },
        {
          "output_type": "stream",
          "name": "stderr",
          "text": [
            "Epoch 99, Batch 100, Loss: 0.9832: 100%|██████████| 100/100 [00:30<00:00,  3.27it/s]\n"
          ]
        },
        {
          "output_type": "stream",
          "name": "stdout",
          "text": [
            "Epoch 99, Current Learning Rate: 0.000219\n",
            "Epoch 99: Best model saved with accuracy: 91.1900\n"
          ]
        },
        {
          "output_type": "stream",
          "name": "stderr",
          "text": [
            "Epoch 100, Batch 100, Loss: 1.2838: 100%|██████████| 100/100 [00:30<00:00,  3.23it/s]\n"
          ]
        },
        {
          "output_type": "stream",
          "name": "stdout",
          "text": [
            "Epoch 100, Current Learning Rate: 0.000205\n"
          ]
        },
        {
          "output_type": "stream",
          "name": "stderr",
          "text": [
            "Epoch 101, Batch 100, Loss: 0.4541: 100%|██████████| 100/100 [00:30<00:00,  3.26it/s]\n"
          ]
        },
        {
          "output_type": "stream",
          "name": "stdout",
          "text": [
            "Epoch 101, Current Learning Rate: 0.000193\n"
          ]
        },
        {
          "output_type": "stream",
          "name": "stderr",
          "text": [
            "Epoch 102, Batch 100, Loss: 0.4084: 100%|██████████| 100/100 [00:30<00:00,  3.23it/s]\n"
          ]
        },
        {
          "output_type": "stream",
          "name": "stdout",
          "text": [
            "Epoch 102, Current Learning Rate: 0.000182\n"
          ]
        },
        {
          "output_type": "stream",
          "name": "stderr",
          "text": [
            "Epoch 103, Batch 100, Loss: 0.8522: 100%|██████████| 100/100 [00:31<00:00,  3.17it/s]\n"
          ]
        },
        {
          "output_type": "stream",
          "name": "stdout",
          "text": [
            "Epoch 103, Current Learning Rate: 0.000171\n"
          ]
        },
        {
          "output_type": "stream",
          "name": "stderr",
          "text": [
            "Epoch 104, Batch 100, Loss: 1.3337: 100%|██████████| 100/100 [00:32<00:00,  3.11it/s]\n"
          ]
        },
        {
          "output_type": "stream",
          "name": "stdout",
          "text": [
            "Epoch 104, Current Learning Rate: 0.000160\n"
          ]
        },
        {
          "output_type": "stream",
          "name": "stderr",
          "text": [
            "Epoch 105, Batch 100, Loss: 0.5089: 100%|██████████| 100/100 [00:30<00:00,  3.28it/s]\n"
          ]
        },
        {
          "output_type": "stream",
          "name": "stdout",
          "text": [
            "Epoch 105, Current Learning Rate: 0.000151\n",
            "Time elapsed in training is: 336.0637662410736\n"
          ]
        }
      ]
    },
    {
      "cell_type": "code",
      "source": [
        "model = MobileNet().to(device)\n",
        "\n",
        "# 저장된 Best 가중치 불러오기\n",
        "model_path = '/content/drive/MyDrive/ML Project/CustomMobileNet_18_(91.81%)_CustomMobileNet13 batch 500/model/best_model_epoch_99.pkt'\n",
        "model.load_state_dict(torch.load(model_path))"
      ],
      "metadata": {
        "colab": {
          "base_uri": "https://localhost:8080/"
        },
        "id": "2f2a-PJ1bnQH",
        "outputId": "d58cc0b3-5a80-4134-9072-9a77f8bc2f21"
      },
      "execution_count": null,
      "outputs": [
        {
          "output_type": "execute_result",
          "data": {
            "text/plain": [
              "<All keys matched successfully>"
            ]
          },
          "metadata": {},
          "execution_count": 15
        }
      ]
    },
    {
      "cell_type": "code",
      "source": [
        "model.eval()\n",
        "test_loss, correct, total = 0, 0, 0\n",
        "\n",
        "test_loader = torch.utils.data.DataLoader(dataset=test_dataset, batch_size=100, shuffle=False)\n",
        "with torch.no_grad():  #using context manager\n",
        "    for images, labels in test_loader :\n",
        "        images, labels = images.to(device), labels.to(device)\n",
        "\n",
        "        output = model(images)\n",
        "        test_loss += loss_function(output, labels).item()\n",
        "\n",
        "        pred = output.max(1, keepdim=True)[1]\n",
        "        correct += pred.eq(labels.view_as(pred)).sum().item()\n",
        "\n",
        "        total += labels.size(0)\n",
        "\n",
        "print('[Test set] Average loss: {:.4f}, Accuracy: {}/{} ({:.2f}%)\\n'.format(\n",
        "        test_loss /total, correct, total,\n",
        "        100. * correct / total))"
      ],
      "metadata": {
        "colab": {
          "base_uri": "https://localhost:8080/"
        },
        "id": "eYU0XmvTbuRJ",
        "outputId": "3e1c72bb-6300-46ae-aa70-6c1a2d8db63f"
      },
      "execution_count": null,
      "outputs": [
        {
          "output_type": "stream",
          "name": "stdout",
          "text": [
            "[Test set] Average loss: 0.0032, Accuracy: 9185/10000 (91.85%)\n",
            "\n"
          ]
        }
      ]
    },
    {
      "cell_type": "code",
      "source": [
        "# Best 가중치 상위 폴더 저장\n",
        "import shutil\n",
        "\n",
        "source_path = '/content/drive/MyDrive/ML Project/CustomMobileNet_18_(91.81%)_CustomMobileNet13 batch 500/model/best_model_epoch_99.pkt'\n",
        "destination_path = '/content/drive/MyDrive/ML Project/Final CustomMobileNet'\n",
        "\n",
        "shutil.move(source_path, destination_path)"
      ],
      "metadata": {
        "colab": {
          "base_uri": "https://localhost:8080/",
          "height": 36
        },
        "id": "MC40_BYdcV7Q",
        "outputId": "38035ea7-d22b-4a55-aabd-616e393c72cb"
      },
      "execution_count": null,
      "outputs": [
        {
          "output_type": "execute_result",
          "data": {
            "text/plain": [
              "'/content/drive/MyDrive/ML Project/Final CustomMobileNet/best_model_epoch_99.pkt'"
            ],
            "application/vnd.google.colaboratory.intrinsic+json": {
              "type": "string"
            }
          },
          "metadata": {},
          "execution_count": 17
        }
      ]
    }
  ]
}