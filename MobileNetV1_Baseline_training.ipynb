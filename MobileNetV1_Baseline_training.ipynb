{
  "nbformat": 4,
  "nbformat_minor": 0,
  "metadata": {
    "colab": {
      "provenance": [],
      "gpuType": "T4"
    },
    "kernelspec": {
      "name": "python3",
      "display_name": "Python 3"
    },
    "language_info": {
      "name": "python"
    },
    "accelerator": "GPU"
  },
  "cells": [
    {
      "cell_type": "markdown",
      "source": [
        "### **Baseline MobileNet**\n",
        "* **Model**\n",
        "  * from: https://github.com/kuangliu/pytorch-cifar/blob/master/models/mobilenet.py\n",
        "  * ML_Week12_ResNet 코드 참고 및 일부 수정하여 기본 베이스라인 모델 성능 측정\n",
        "* **Best accuracy** : [Test set] Average loss: 0.0056, Accuracy: 8426/10000 (84.26%)\n",
        "* **FLOPS** : 48,412,672\n",
        "\n",
        "* **hyperparameter**\n",
        "  * lr=0.03\n",
        "  * weight_decay=5e-4\n",
        "  * batch size = 100\n",
        "  * epoch = 100\n",
        "  * training time : 3484.9894 sec\n",
        "\n",
        "* **optimizer**\n",
        "  * SGD\n",
        "\n",
        "* **Data augmentation**\n",
        "  *   \n",
        "          transforms.Pad(4),\n",
        "          transforms.RandomHorizontalFlip(),\n",
        "          transforms.RandomCrop(32),\n",
        "          transforms.ToTensor()"
      ],
      "metadata": {
        "id": "p1iew_TQtV2-"
      }
    },
    {
      "cell_type": "code",
      "source": [
        "from google.colab import drive\n",
        "drive.mount('/content/drive')"
      ],
      "metadata": {
        "colab": {
          "base_uri": "https://localhost:8080/"
        },
        "id": "2AI4a_dZaBSK",
        "outputId": "98abc685-3588-408b-a58d-d7108c618e0d"
      },
      "execution_count": null,
      "outputs": [
        {
          "output_type": "stream",
          "name": "stdout",
          "text": [
            "Mounted at /content/drive\n"
          ]
        }
      ]
    },
    {
      "cell_type": "code",
      "source": [
        "save_path = \"/content/drive/MyDrive/ML Project/Baseline/model\""
      ],
      "metadata": {
        "id": "cIYHQYIwadOX"
      },
      "execution_count": null,
      "outputs": []
    },
    {
      "cell_type": "code",
      "source": [
        "import torch\n",
        "import torch.nn as nn\n",
        "from torch.optim import Optimizer\n",
        "from torch.utils.data import DataLoader\n",
        "from torchvision import datasets\n",
        "from torchvision.transforms import transforms\n",
        "import torch.nn.functional as F\n",
        "\n",
        "device = torch.device(\"cuda:0\" if torch.cuda.is_available() else \"cpu\")\n",
        "\n",
        "if torch.cuda.is_available():\n",
        "    print(\"Current GPU Index:\", torch.cuda.current_device())\n",
        "    print(\"Current GPU Name:\", torch.cuda.get_device_name(torch.cuda.current_device()))"
      ],
      "metadata": {
        "colab": {
          "base_uri": "https://localhost:8080/"
        },
        "id": "o_K9X9LIsQzH",
        "outputId": "2fe47c5b-551f-4c62-d25d-f09384cdc4dc"
      },
      "execution_count": null,
      "outputs": [
        {
          "output_type": "stream",
          "name": "stdout",
          "text": [
            "Current GPU Index: 0\n",
            "Current GPU Name: Tesla T4\n"
          ]
        }
      ]
    },
    {
      "cell_type": "code",
      "source": [
        "transform = transforms.Compose([\n",
        "    transforms.Pad(4),\n",
        "    transforms.RandomHorizontalFlip(),\n",
        "    transforms.RandomCrop(32),\n",
        "    transforms.ToTensor()])\n",
        "\n",
        "train_dataset = datasets.CIFAR10(root='./cifar_10data/',\n",
        "                                 train=True,\n",
        "                                 transform=transform,\n",
        "                                 download=True)\n",
        "\n",
        "test_dataset = datasets.CIFAR10(root='./cifar_10data/',\n",
        "                                train=False,\n",
        "                                transform=transforms.ToTensor())"
      ],
      "metadata": {
        "id": "J7KM3WnqsUAs",
        "colab": {
          "base_uri": "https://localhost:8080/"
        },
        "outputId": "70599e3c-d037-4c1b-832f-ae660fd53603"
      },
      "execution_count": null,
      "outputs": [
        {
          "output_type": "stream",
          "name": "stdout",
          "text": [
            "Downloading https://www.cs.toronto.edu/~kriz/cifar-10-python.tar.gz to ./cifar_10data/cifar-10-python.tar.gz\n"
          ]
        },
        {
          "output_type": "stream",
          "name": "stderr",
          "text": [
            "100%|██████████| 170498071/170498071 [00:02<00:00, 71092429.72it/s]\n"
          ]
        },
        {
          "output_type": "stream",
          "name": "stdout",
          "text": [
            "Extracting ./cifar_10data/cifar-10-python.tar.gz to ./cifar_10data/\n"
          ]
        }
      ]
    },
    {
      "cell_type": "code",
      "execution_count": null,
      "metadata": {
        "id": "yLsbebkYr7su"
      },
      "outputs": [],
      "source": [
        "'''MobileNet in PyTorch.\n",
        "\n",
        "from: https://github.com/kuangliu/pytorch-cifar/blob/master/models/mobilenet.py\n",
        "\n",
        "See the paper \"MobileNets: Efficient Convolutional Neural Networks for Mobile Vision Applications\"\n",
        "for more details.\n",
        "'''\n",
        "\n",
        "class Block(nn.Module):\n",
        "    '''Depthwise conv + Pointwise conv'''\n",
        "    def __init__(self, in_planes, out_planes, stride=1):\n",
        "        super(Block, self).__init__()\n",
        "        self.conv1 = nn.Conv2d(in_planes, in_planes, kernel_size=3, stride=stride, padding=1, groups=in_planes, bias=False)\n",
        "        self.bn1 = nn.BatchNorm2d(in_planes)\n",
        "        self.conv2 = nn.Conv2d(in_planes, out_planes, kernel_size=1, stride=1, padding=0, bias=False)\n",
        "        self.bn2 = nn.BatchNorm2d(out_planes)\n",
        "\n",
        "    def forward(self, x):\n",
        "        out = F.relu(self.bn1(self.conv1(x)))\n",
        "        out = F.relu(self.bn2(self.conv2(out)))\n",
        "        return out\n",
        "\n",
        "\n",
        "class MobileNet(nn.Module):\n",
        "    # (128,2) means conv planes=128, conv stride=2, by default conv stride=1\n",
        "    cfg = [64, (128,2), 128, (256,2), 256, (512,2), 512, 512, 512, 512, 512, (1024,2), 1024]\n",
        "\n",
        "    def __init__(self, num_classes=10):\n",
        "        super(MobileNet, self).__init__()\n",
        "        self.conv1 = nn.Conv2d(3, 32, kernel_size=3, stride=1, padding=1, bias=False)\n",
        "        self.bn1 = nn.BatchNorm2d(32)\n",
        "        self.layers = self._make_layers(in_planes=32)\n",
        "        self.linear = nn.Linear(1024, num_classes)\n",
        "\n",
        "    def _make_layers(self, in_planes):\n",
        "        layers = []\n",
        "        for x in self.cfg:\n",
        "            out_planes = x if isinstance(x, int) else x[0]\n",
        "            stride = 1 if isinstance(x, int) else x[1]\n",
        "            layers.append(Block(in_planes, out_planes, stride))\n",
        "            in_planes = out_planes\n",
        "        return nn.Sequential(*layers)\n",
        "\n",
        "    def forward(self, x):\n",
        "        out = F.relu(self.bn1(self.conv1(x)))\n",
        "        out = self.layers(out)\n",
        "        out = F.avg_pool2d(out, 2)\n",
        "        out = out.view(out.size(0), -1)\n",
        "        out = self.linear(out)\n",
        "        return out\n",
        "\n",
        "\n",
        "def test():\n",
        "    net = MobileNet()\n",
        "    x = torch.randn(1,3,32,32)\n",
        "    y = net(x)\n",
        "    print(y.size())\n",
        "\n",
        "# test()"
      ]
    },
    {
      "cell_type": "code",
      "source": [
        "from torchsummary import summary\n",
        "\n",
        "model = MobileNet().to(device)\n",
        "\n",
        "print(\"MobileNet torchsummary\")\n",
        "summary(model, (3, 32, 32))"
      ],
      "metadata": {
        "colab": {
          "base_uri": "https://localhost:8080/"
        },
        "id": "g3FTMKk4y2LB",
        "outputId": "260f0f34-fcf2-4f55-e0bd-7222e08c048f"
      },
      "execution_count": null,
      "outputs": [
        {
          "output_type": "stream",
          "name": "stdout",
          "text": [
            "MobileNet torchsummary\n",
            "----------------------------------------------------------------\n",
            "        Layer (type)               Output Shape         Param #\n",
            "================================================================\n",
            "            Conv2d-1           [-1, 32, 32, 32]             864\n",
            "       BatchNorm2d-2           [-1, 32, 32, 32]              64\n",
            "            Conv2d-3           [-1, 32, 32, 32]             288\n",
            "       BatchNorm2d-4           [-1, 32, 32, 32]              64\n",
            "            Conv2d-5           [-1, 64, 32, 32]           2,048\n",
            "       BatchNorm2d-6           [-1, 64, 32, 32]             128\n",
            "             Block-7           [-1, 64, 32, 32]               0\n",
            "            Conv2d-8           [-1, 64, 16, 16]             576\n",
            "       BatchNorm2d-9           [-1, 64, 16, 16]             128\n",
            "           Conv2d-10          [-1, 128, 16, 16]           8,192\n",
            "      BatchNorm2d-11          [-1, 128, 16, 16]             256\n",
            "            Block-12          [-1, 128, 16, 16]               0\n",
            "           Conv2d-13          [-1, 128, 16, 16]           1,152\n",
            "      BatchNorm2d-14          [-1, 128, 16, 16]             256\n",
            "           Conv2d-15          [-1, 128, 16, 16]          16,384\n",
            "      BatchNorm2d-16          [-1, 128, 16, 16]             256\n",
            "            Block-17          [-1, 128, 16, 16]               0\n",
            "           Conv2d-18            [-1, 128, 8, 8]           1,152\n",
            "      BatchNorm2d-19            [-1, 128, 8, 8]             256\n",
            "           Conv2d-20            [-1, 256, 8, 8]          32,768\n",
            "      BatchNorm2d-21            [-1, 256, 8, 8]             512\n",
            "            Block-22            [-1, 256, 8, 8]               0\n",
            "           Conv2d-23            [-1, 256, 8, 8]           2,304\n",
            "      BatchNorm2d-24            [-1, 256, 8, 8]             512\n",
            "           Conv2d-25            [-1, 256, 8, 8]          65,536\n",
            "      BatchNorm2d-26            [-1, 256, 8, 8]             512\n",
            "            Block-27            [-1, 256, 8, 8]               0\n",
            "           Conv2d-28            [-1, 256, 4, 4]           2,304\n",
            "      BatchNorm2d-29            [-1, 256, 4, 4]             512\n",
            "           Conv2d-30            [-1, 512, 4, 4]         131,072\n",
            "      BatchNorm2d-31            [-1, 512, 4, 4]           1,024\n",
            "            Block-32            [-1, 512, 4, 4]               0\n",
            "           Conv2d-33            [-1, 512, 4, 4]           4,608\n",
            "      BatchNorm2d-34            [-1, 512, 4, 4]           1,024\n",
            "           Conv2d-35            [-1, 512, 4, 4]         262,144\n",
            "      BatchNorm2d-36            [-1, 512, 4, 4]           1,024\n",
            "            Block-37            [-1, 512, 4, 4]               0\n",
            "           Conv2d-38            [-1, 512, 4, 4]           4,608\n",
            "      BatchNorm2d-39            [-1, 512, 4, 4]           1,024\n",
            "           Conv2d-40            [-1, 512, 4, 4]         262,144\n",
            "      BatchNorm2d-41            [-1, 512, 4, 4]           1,024\n",
            "            Block-42            [-1, 512, 4, 4]               0\n",
            "           Conv2d-43            [-1, 512, 4, 4]           4,608\n",
            "      BatchNorm2d-44            [-1, 512, 4, 4]           1,024\n",
            "           Conv2d-45            [-1, 512, 4, 4]         262,144\n",
            "      BatchNorm2d-46            [-1, 512, 4, 4]           1,024\n",
            "            Block-47            [-1, 512, 4, 4]               0\n",
            "           Conv2d-48            [-1, 512, 4, 4]           4,608\n",
            "      BatchNorm2d-49            [-1, 512, 4, 4]           1,024\n",
            "           Conv2d-50            [-1, 512, 4, 4]         262,144\n",
            "      BatchNorm2d-51            [-1, 512, 4, 4]           1,024\n",
            "            Block-52            [-1, 512, 4, 4]               0\n",
            "           Conv2d-53            [-1, 512, 4, 4]           4,608\n",
            "      BatchNorm2d-54            [-1, 512, 4, 4]           1,024\n",
            "           Conv2d-55            [-1, 512, 4, 4]         262,144\n",
            "      BatchNorm2d-56            [-1, 512, 4, 4]           1,024\n",
            "            Block-57            [-1, 512, 4, 4]               0\n",
            "           Conv2d-58            [-1, 512, 2, 2]           4,608\n",
            "      BatchNorm2d-59            [-1, 512, 2, 2]           1,024\n",
            "           Conv2d-60           [-1, 1024, 2, 2]         524,288\n",
            "      BatchNorm2d-61           [-1, 1024, 2, 2]           2,048\n",
            "            Block-62           [-1, 1024, 2, 2]               0\n",
            "           Conv2d-63           [-1, 1024, 2, 2]           9,216\n",
            "      BatchNorm2d-64           [-1, 1024, 2, 2]           2,048\n",
            "           Conv2d-65           [-1, 1024, 2, 2]       1,048,576\n",
            "      BatchNorm2d-66           [-1, 1024, 2, 2]           2,048\n",
            "            Block-67           [-1, 1024, 2, 2]               0\n",
            "           Linear-68                   [-1, 10]          10,250\n",
            "================================================================\n",
            "Total params: 3,217,226\n",
            "Trainable params: 3,217,226\n",
            "Non-trainable params: 0\n",
            "----------------------------------------------------------------\n",
            "Input size (MB): 0.01\n",
            "Forward/backward pass size (MB): 7.97\n",
            "Params size (MB): 12.27\n",
            "Estimated Total Size (MB): 20.25\n",
            "----------------------------------------------------------------\n"
          ]
        }
      ]
    },
    {
      "cell_type": "code",
      "source": [
        "!pip install fvcore"
      ],
      "metadata": {
        "colab": {
          "base_uri": "https://localhost:8080/"
        },
        "id": "k98csg0QEMV4",
        "outputId": "da480cb9-3863-4d7a-d49b-dc1c55b7c85f"
      },
      "execution_count": null,
      "outputs": [
        {
          "output_type": "stream",
          "name": "stdout",
          "text": [
            "Collecting fvcore\n",
            "  Downloading fvcore-0.1.5.post20221221.tar.gz (50 kB)\n",
            "\u001b[?25l     \u001b[90m━━━━━━━━━━━━━━━━━━━━━━━━━━━━━━━━━━━━━━━━\u001b[0m \u001b[32m0.0/50.2 kB\u001b[0m \u001b[31m?\u001b[0m eta \u001b[36m-:--:--\u001b[0m\r\u001b[2K     \u001b[90m━━━━━━━━━━━━━━━━━━━━━━━━━━━━━━━━━━━━━━━━\u001b[0m \u001b[32m50.2/50.2 kB\u001b[0m \u001b[31m1.5 MB/s\u001b[0m eta \u001b[36m0:00:00\u001b[0m\n",
            "\u001b[?25h  Preparing metadata (setup.py) ... \u001b[?25l\u001b[?25hdone\n",
            "Requirement already satisfied: numpy in /usr/local/lib/python3.10/dist-packages (from fvcore) (1.23.5)\n",
            "Collecting yacs>=0.1.6 (from fvcore)\n",
            "  Downloading yacs-0.1.8-py3-none-any.whl (14 kB)\n",
            "Requirement already satisfied: pyyaml>=5.1 in /usr/local/lib/python3.10/dist-packages (from fvcore) (6.0.1)\n",
            "Requirement already satisfied: tqdm in /usr/local/lib/python3.10/dist-packages (from fvcore) (4.66.1)\n",
            "Requirement already satisfied: termcolor>=1.1 in /usr/local/lib/python3.10/dist-packages (from fvcore) (2.3.0)\n",
            "Requirement already satisfied: Pillow in /usr/local/lib/python3.10/dist-packages (from fvcore) (9.4.0)\n",
            "Requirement already satisfied: tabulate in /usr/local/lib/python3.10/dist-packages (from fvcore) (0.9.0)\n",
            "Collecting iopath>=0.1.7 (from fvcore)\n",
            "  Downloading iopath-0.1.10.tar.gz (42 kB)\n",
            "\u001b[2K     \u001b[90m━━━━━━━━━━━━━━━━━━━━━━━━━━━━━━━━━━━━━━━━\u001b[0m \u001b[32m42.2/42.2 kB\u001b[0m \u001b[31m3.6 MB/s\u001b[0m eta \u001b[36m0:00:00\u001b[0m\n",
            "\u001b[?25h  Preparing metadata (setup.py) ... \u001b[?25l\u001b[?25hdone\n",
            "Requirement already satisfied: typing_extensions in /usr/local/lib/python3.10/dist-packages (from iopath>=0.1.7->fvcore) (4.5.0)\n",
            "Collecting portalocker (from iopath>=0.1.7->fvcore)\n",
            "  Downloading portalocker-2.8.2-py3-none-any.whl (17 kB)\n",
            "Building wheels for collected packages: fvcore, iopath\n",
            "  Building wheel for fvcore (setup.py) ... \u001b[?25l\u001b[?25hdone\n",
            "  Created wheel for fvcore: filename=fvcore-0.1.5.post20221221-py3-none-any.whl size=61400 sha256=ae63ffbd3f05fced6350199afdbef21a81ce5c14ecd5e80134dfff656dc2f47f\n",
            "  Stored in directory: /root/.cache/pip/wheels/01/c0/af/77c1cf53a1be9e42a52b48e5af2169d40ec2e89f7362489dd0\n",
            "  Building wheel for iopath (setup.py) ... \u001b[?25l\u001b[?25hdone\n",
            "  Created wheel for iopath: filename=iopath-0.1.10-py3-none-any.whl size=31532 sha256=45393ed8bb476f206864c6405e867e40abc4a3db7a7be67c09ffe74680ba1e08\n",
            "  Stored in directory: /root/.cache/pip/wheels/9a/a3/b6/ac0fcd1b4ed5cfeb3db92e6a0e476cfd48ed0df92b91080c1d\n",
            "Successfully built fvcore iopath\n",
            "Installing collected packages: yacs, portalocker, iopath, fvcore\n",
            "Successfully installed fvcore-0.1.5.post20221221 iopath-0.1.10 portalocker-2.8.2 yacs-0.1.8\n"
          ]
        }
      ]
    },
    {
      "cell_type": "code",
      "source": [
        "from fvcore.nn import FlopCountAnalysis\n",
        "\n",
        "inputs = torch.randn(1, 3, 32, 32).to(device)\n",
        "\n",
        "flops = FlopCountAnalysis(model, inputs)\n",
        "print(flops.total())  # 총 FLOPS 출력"
      ],
      "metadata": {
        "colab": {
          "base_uri": "https://localhost:8080/"
        },
        "id": "IMgSJYacEPh9",
        "outputId": "09a4768c-4ea1-49ff-8c6c-0cb921dab153"
      },
      "execution_count": null,
      "outputs": [
        {
          "output_type": "stream",
          "name": "stderr",
          "text": [
            "WARNING:fvcore.nn.jit_analysis:Unsupported operator aten::add_ encountered 27 time(s)\n",
            "WARNING:fvcore.nn.jit_analysis:Unsupported operator aten::avg_pool2d encountered 1 time(s)\n"
          ]
        },
        {
          "output_type": "stream",
          "name": "stdout",
          "text": [
            "48412672\n"
          ]
        }
      ]
    },
    {
      "cell_type": "code",
      "source": [
        "loss_function = torch.nn.CrossEntropyLoss()\n",
        "optimizer = torch.optim.SGD(model.parameters(), lr=0.03, weight_decay=5e-4)"
      ],
      "metadata": {
        "id": "p4eTvfE-sULa"
      },
      "execution_count": null,
      "outputs": []
    },
    {
      "cell_type": "code",
      "source": [
        "from tqdm import tqdm\n",
        "import torch\n",
        "import os\n",
        "\n",
        "model.train()\n",
        "train_loader = torch.utils.data.DataLoader(dataset=train_dataset, batch_size=100, shuffle=True)\n",
        "test_loader = torch.utils.data.DataLoader(dataset=test_dataset, batch_size=100, shuffle=False)\n",
        "\n",
        "best_accuracy = 0.0\n",
        "accuracy_list = []\n",
        "test_loss_list = []\n",
        "train_loss_list = []\n",
        "\n",
        "import time\n",
        "start = time.time()\n",
        "\n",
        "\n",
        "for epoch in range(100):\n",
        "    print(f\"{epoch}th epoch starting.\")\n",
        "    batch_num = len(train_loader)\n",
        "\n",
        "    train_loss_epoch, test_loss, correct, total = 0, 0, 0, 0\n",
        "\n",
        "\n",
        "    pbar = tqdm(enumerate(train_loader), total=batch_num, dynamic_ncols=True, position=0, leave=True)\n",
        "    for i, (images, labels) in pbar:\n",
        "        images, labels = images.to(device), labels.to(device)\n",
        "\n",
        "        optimizer.zero_grad()\n",
        "        train_loss = loss_function(model(images), labels)\n",
        "        train_loss.backward()\n",
        "\n",
        "        optimizer.step()\n",
        "        train_loss_epoch += train_loss.item()\n",
        "\n",
        "        # 현재 배치의 Loss 값 표시\n",
        "        pbar.set_description(f\"Epoch {epoch + 1}, Batch {i + 1}, Loss: {train_loss.item():.4f}\")\n",
        "\n",
        "    train_loss_list.append(train_loss_epoch / batch_num)\n",
        "\n",
        "    with torch.no_grad():\n",
        "        for images, labels in test_loader:\n",
        "            images, labels = images.to(device), labels.to(device)\n",
        "\n",
        "            output = model(images)\n",
        "            test_loss += loss_function(output, labels).item()\n",
        "\n",
        "            pred = output.max(1, keepdim=True)[1]\n",
        "            correct += pred.eq(labels.view_as(pred)).sum().item()\n",
        "\n",
        "            # total += labels.size(0)\n",
        "\n",
        "    accuracy = 100. * correct / total\n",
        "    # test_loss_list.append(test_loss / total)\n",
        "    test_loss_list.append(test_loss / batch_num)\n",
        "    accuracy_list.append(accuracy)\n",
        "\n",
        "    # 최고 성능 모델 저장\n",
        "    if accuracy > best_accuracy:\n",
        "        best_accuracy = accuracy\n",
        "        model_filename = f\"best_model_epoch_{epoch+1}.pkt\"\n",
        "        model_save_path = os.path.join(save_path, model_filename)\n",
        "\n",
        "        torch.save(model.state_dict(), model_save_path)\n",
        "        # print(f\"Epoch {epoch + 1}: Best model saved with accuracy: {accuracy:.4f}\")\n",
        "\n",
        "end = time.time()\n",
        "print(\"Time elapsed in training is: {}\".format(end - start))"
      ],
      "metadata": {
        "id": "ki74sNzbsUVQ",
        "colab": {
          "base_uri": "https://localhost:8080/"
        },
        "outputId": "4ce5000e-10ec-4c55-f62e-b5a7c2fda437"
      },
      "execution_count": null,
      "outputs": [
        {
          "output_type": "stream",
          "name": "stdout",
          "text": [
            "0th epoch starting.\n"
          ]
        },
        {
          "output_type": "stream",
          "name": "stderr",
          "text": [
            "Epoch 1, Batch 500, Loss: 1.8365: 100%|██████████| 500/500 [00:36<00:00, 13.74it/s]\n"
          ]
        },
        {
          "output_type": "stream",
          "name": "stdout",
          "text": [
            "1th epoch starting.\n"
          ]
        },
        {
          "output_type": "stream",
          "name": "stderr",
          "text": [
            "Epoch 2, Batch 500, Loss: 1.4914: 100%|██████████| 500/500 [00:33<00:00, 15.04it/s]\n"
          ]
        },
        {
          "output_type": "stream",
          "name": "stdout",
          "text": [
            "2th epoch starting.\n"
          ]
        },
        {
          "output_type": "stream",
          "name": "stderr",
          "text": [
            "Epoch 3, Batch 500, Loss: 1.3453: 100%|██████████| 500/500 [00:33<00:00, 14.94it/s]\n"
          ]
        },
        {
          "output_type": "stream",
          "name": "stdout",
          "text": [
            "3th epoch starting.\n"
          ]
        },
        {
          "output_type": "stream",
          "name": "stderr",
          "text": [
            "Epoch 4, Batch 500, Loss: 1.3192: 100%|██████████| 500/500 [00:32<00:00, 15.36it/s]\n"
          ]
        },
        {
          "output_type": "stream",
          "name": "stdout",
          "text": [
            "4th epoch starting.\n"
          ]
        },
        {
          "output_type": "stream",
          "name": "stderr",
          "text": [
            "Epoch 5, Batch 500, Loss: 1.2510: 100%|██████████| 500/500 [00:34<00:00, 14.62it/s]\n"
          ]
        },
        {
          "output_type": "stream",
          "name": "stdout",
          "text": [
            "5th epoch starting.\n"
          ]
        },
        {
          "output_type": "stream",
          "name": "stderr",
          "text": [
            "Epoch 6, Batch 500, Loss: 1.1506: 100%|██████████| 500/500 [00:32<00:00, 15.21it/s]\n"
          ]
        },
        {
          "output_type": "stream",
          "name": "stdout",
          "text": [
            "6th epoch starting.\n"
          ]
        },
        {
          "output_type": "stream",
          "name": "stderr",
          "text": [
            "Epoch 7, Batch 500, Loss: 1.0460: 100%|██████████| 500/500 [00:32<00:00, 15.36it/s]\n"
          ]
        },
        {
          "output_type": "stream",
          "name": "stdout",
          "text": [
            "7th epoch starting.\n"
          ]
        },
        {
          "output_type": "stream",
          "name": "stderr",
          "text": [
            "Epoch 8, Batch 500, Loss: 1.0093: 100%|██████████| 500/500 [00:32<00:00, 15.38it/s]\n"
          ]
        },
        {
          "output_type": "stream",
          "name": "stdout",
          "text": [
            "8th epoch starting.\n"
          ]
        },
        {
          "output_type": "stream",
          "name": "stderr",
          "text": [
            "Epoch 9, Batch 500, Loss: 0.8766: 100%|██████████| 500/500 [00:32<00:00, 15.23it/s]\n"
          ]
        },
        {
          "output_type": "stream",
          "name": "stdout",
          "text": [
            "9th epoch starting.\n"
          ]
        },
        {
          "output_type": "stream",
          "name": "stderr",
          "text": [
            "Epoch 10, Batch 500, Loss: 1.2148: 100%|██████████| 500/500 [00:32<00:00, 15.41it/s]\n"
          ]
        },
        {
          "output_type": "stream",
          "name": "stdout",
          "text": [
            "10th epoch starting.\n"
          ]
        },
        {
          "output_type": "stream",
          "name": "stderr",
          "text": [
            "Epoch 11, Batch 500, Loss: 0.6998: 100%|██████████| 500/500 [00:32<00:00, 15.39it/s]\n"
          ]
        },
        {
          "output_type": "stream",
          "name": "stdout",
          "text": [
            "11th epoch starting.\n"
          ]
        },
        {
          "output_type": "stream",
          "name": "stderr",
          "text": [
            "Epoch 12, Batch 500, Loss: 0.7555: 100%|██████████| 500/500 [00:32<00:00, 15.39it/s]\n"
          ]
        },
        {
          "output_type": "stream",
          "name": "stdout",
          "text": [
            "12th epoch starting.\n"
          ]
        },
        {
          "output_type": "stream",
          "name": "stderr",
          "text": [
            "Epoch 13, Batch 500, Loss: 0.8812: 100%|██████████| 500/500 [00:32<00:00, 15.25it/s]\n"
          ]
        },
        {
          "output_type": "stream",
          "name": "stdout",
          "text": [
            "13th epoch starting.\n"
          ]
        },
        {
          "output_type": "stream",
          "name": "stderr",
          "text": [
            "Epoch 14, Batch 500, Loss: 0.7538: 100%|██████████| 500/500 [00:32<00:00, 15.28it/s]\n"
          ]
        },
        {
          "output_type": "stream",
          "name": "stdout",
          "text": [
            "14th epoch starting.\n"
          ]
        },
        {
          "output_type": "stream",
          "name": "stderr",
          "text": [
            "Epoch 15, Batch 500, Loss: 0.7929: 100%|██████████| 500/500 [00:32<00:00, 15.37it/s]\n"
          ]
        },
        {
          "output_type": "stream",
          "name": "stdout",
          "text": [
            "15th epoch starting.\n"
          ]
        },
        {
          "output_type": "stream",
          "name": "stderr",
          "text": [
            "Epoch 16, Batch 500, Loss: 0.5969: 100%|██████████| 500/500 [00:32<00:00, 15.39it/s]\n"
          ]
        },
        {
          "output_type": "stream",
          "name": "stdout",
          "text": [
            "16th epoch starting.\n"
          ]
        },
        {
          "output_type": "stream",
          "name": "stderr",
          "text": [
            "Epoch 17, Batch 500, Loss: 0.6699: 100%|██████████| 500/500 [00:32<00:00, 15.48it/s]\n"
          ]
        },
        {
          "output_type": "stream",
          "name": "stdout",
          "text": [
            "17th epoch starting.\n"
          ]
        },
        {
          "output_type": "stream",
          "name": "stderr",
          "text": [
            "Epoch 18, Batch 500, Loss: 0.5915: 100%|██████████| 500/500 [00:32<00:00, 15.34it/s]\n"
          ]
        },
        {
          "output_type": "stream",
          "name": "stdout",
          "text": [
            "18th epoch starting.\n"
          ]
        },
        {
          "output_type": "stream",
          "name": "stderr",
          "text": [
            "Epoch 19, Batch 500, Loss: 0.5256: 100%|██████████| 500/500 [00:32<00:00, 15.30it/s]\n"
          ]
        },
        {
          "output_type": "stream",
          "name": "stdout",
          "text": [
            "19th epoch starting.\n"
          ]
        },
        {
          "output_type": "stream",
          "name": "stderr",
          "text": [
            "Epoch 20, Batch 500, Loss: 0.5734: 100%|██████████| 500/500 [00:32<00:00, 15.42it/s]\n"
          ]
        },
        {
          "output_type": "stream",
          "name": "stdout",
          "text": [
            "20th epoch starting.\n"
          ]
        },
        {
          "output_type": "stream",
          "name": "stderr",
          "text": [
            "Epoch 21, Batch 500, Loss: 0.6614: 100%|██████████| 500/500 [00:32<00:00, 15.38it/s]\n"
          ]
        },
        {
          "output_type": "stream",
          "name": "stdout",
          "text": [
            "21th epoch starting.\n"
          ]
        },
        {
          "output_type": "stream",
          "name": "stderr",
          "text": [
            "Epoch 22, Batch 500, Loss: 0.5309: 100%|██████████| 500/500 [00:32<00:00, 15.38it/s]\n"
          ]
        },
        {
          "output_type": "stream",
          "name": "stdout",
          "text": [
            "22th epoch starting.\n"
          ]
        },
        {
          "output_type": "stream",
          "name": "stderr",
          "text": [
            "Epoch 23, Batch 500, Loss: 0.4904: 100%|██████████| 500/500 [00:32<00:00, 15.29it/s]\n"
          ]
        },
        {
          "output_type": "stream",
          "name": "stdout",
          "text": [
            "23th epoch starting.\n"
          ]
        },
        {
          "output_type": "stream",
          "name": "stderr",
          "text": [
            "Epoch 24, Batch 500, Loss: 0.5366: 100%|██████████| 500/500 [00:32<00:00, 15.32it/s]\n"
          ]
        },
        {
          "output_type": "stream",
          "name": "stdout",
          "text": [
            "24th epoch starting.\n"
          ]
        },
        {
          "output_type": "stream",
          "name": "stderr",
          "text": [
            "Epoch 25, Batch 500, Loss: 0.6037: 100%|██████████| 500/500 [00:32<00:00, 15.28it/s]\n"
          ]
        },
        {
          "output_type": "stream",
          "name": "stdout",
          "text": [
            "25th epoch starting.\n"
          ]
        },
        {
          "output_type": "stream",
          "name": "stderr",
          "text": [
            "Epoch 26, Batch 500, Loss: 0.4773: 100%|██████████| 500/500 [00:32<00:00, 15.36it/s]\n"
          ]
        },
        {
          "output_type": "stream",
          "name": "stdout",
          "text": [
            "26th epoch starting.\n"
          ]
        },
        {
          "output_type": "stream",
          "name": "stderr",
          "text": [
            "Epoch 27, Batch 500, Loss: 0.6072: 100%|██████████| 500/500 [00:32<00:00, 15.40it/s]\n"
          ]
        },
        {
          "output_type": "stream",
          "name": "stdout",
          "text": [
            "27th epoch starting.\n"
          ]
        },
        {
          "output_type": "stream",
          "name": "stderr",
          "text": [
            "Epoch 28, Batch 500, Loss: 0.5124: 100%|██████████| 500/500 [00:32<00:00, 15.22it/s]\n"
          ]
        },
        {
          "output_type": "stream",
          "name": "stdout",
          "text": [
            "28th epoch starting.\n"
          ]
        },
        {
          "output_type": "stream",
          "name": "stderr",
          "text": [
            "Epoch 29, Batch 500, Loss: 0.5088: 100%|██████████| 500/500 [00:32<00:00, 15.38it/s]\n"
          ]
        },
        {
          "output_type": "stream",
          "name": "stdout",
          "text": [
            "29th epoch starting.\n"
          ]
        },
        {
          "output_type": "stream",
          "name": "stderr",
          "text": [
            "Epoch 30, Batch 500, Loss: 0.3075: 100%|██████████| 500/500 [00:32<00:00, 15.39it/s]\n"
          ]
        },
        {
          "output_type": "stream",
          "name": "stdout",
          "text": [
            "30th epoch starting.\n"
          ]
        },
        {
          "output_type": "stream",
          "name": "stderr",
          "text": [
            "Epoch 31, Batch 500, Loss: 0.4562: 100%|██████████| 500/500 [00:32<00:00, 15.36it/s]\n"
          ]
        },
        {
          "output_type": "stream",
          "name": "stdout",
          "text": [
            "31th epoch starting.\n"
          ]
        },
        {
          "output_type": "stream",
          "name": "stderr",
          "text": [
            "Epoch 32, Batch 500, Loss: 0.3230: 100%|██████████| 500/500 [00:32<00:00, 15.41it/s]\n"
          ]
        },
        {
          "output_type": "stream",
          "name": "stdout",
          "text": [
            "32th epoch starting.\n"
          ]
        },
        {
          "output_type": "stream",
          "name": "stderr",
          "text": [
            "Epoch 33, Batch 500, Loss: 0.4031: 100%|██████████| 500/500 [00:32<00:00, 15.50it/s]\n"
          ]
        },
        {
          "output_type": "stream",
          "name": "stdout",
          "text": [
            "33th epoch starting.\n"
          ]
        },
        {
          "output_type": "stream",
          "name": "stderr",
          "text": [
            "Epoch 34, Batch 500, Loss: 0.3614: 100%|██████████| 500/500 [00:32<00:00, 15.24it/s]\n"
          ]
        },
        {
          "output_type": "stream",
          "name": "stdout",
          "text": [
            "34th epoch starting.\n"
          ]
        },
        {
          "output_type": "stream",
          "name": "stderr",
          "text": [
            "Epoch 35, Batch 500, Loss: 0.4214: 100%|██████████| 500/500 [00:32<00:00, 15.41it/s]\n"
          ]
        },
        {
          "output_type": "stream",
          "name": "stdout",
          "text": [
            "35th epoch starting.\n"
          ]
        },
        {
          "output_type": "stream",
          "name": "stderr",
          "text": [
            "Epoch 36, Batch 500, Loss: 0.2908: 100%|██████████| 500/500 [00:32<00:00, 15.42it/s]\n"
          ]
        },
        {
          "output_type": "stream",
          "name": "stdout",
          "text": [
            "36th epoch starting.\n"
          ]
        },
        {
          "output_type": "stream",
          "name": "stderr",
          "text": [
            "Epoch 37, Batch 500, Loss: 0.3119: 100%|██████████| 500/500 [00:32<00:00, 15.49it/s]\n"
          ]
        },
        {
          "output_type": "stream",
          "name": "stdout",
          "text": [
            "37th epoch starting.\n"
          ]
        },
        {
          "output_type": "stream",
          "name": "stderr",
          "text": [
            "Epoch 38, Batch 500, Loss: 0.2821: 100%|██████████| 500/500 [00:32<00:00, 15.47it/s]\n"
          ]
        },
        {
          "output_type": "stream",
          "name": "stdout",
          "text": [
            "38th epoch starting.\n"
          ]
        },
        {
          "output_type": "stream",
          "name": "stderr",
          "text": [
            "Epoch 39, Batch 500, Loss: 0.3778: 100%|██████████| 500/500 [00:32<00:00, 15.40it/s]\n"
          ]
        },
        {
          "output_type": "stream",
          "name": "stdout",
          "text": [
            "39th epoch starting.\n"
          ]
        },
        {
          "output_type": "stream",
          "name": "stderr",
          "text": [
            "Epoch 40, Batch 500, Loss: 0.4427: 100%|██████████| 500/500 [00:32<00:00, 15.41it/s]\n"
          ]
        },
        {
          "output_type": "stream",
          "name": "stdout",
          "text": [
            "40th epoch starting.\n"
          ]
        },
        {
          "output_type": "stream",
          "name": "stderr",
          "text": [
            "Epoch 41, Batch 500, Loss: 0.2373: 100%|██████████| 500/500 [00:32<00:00, 15.52it/s]\n"
          ]
        },
        {
          "output_type": "stream",
          "name": "stdout",
          "text": [
            "41th epoch starting.\n"
          ]
        },
        {
          "output_type": "stream",
          "name": "stderr",
          "text": [
            "Epoch 42, Batch 500, Loss: 0.3101: 100%|██████████| 500/500 [00:32<00:00, 15.38it/s]\n"
          ]
        },
        {
          "output_type": "stream",
          "name": "stdout",
          "text": [
            "42th epoch starting.\n"
          ]
        },
        {
          "output_type": "stream",
          "name": "stderr",
          "text": [
            "Epoch 43, Batch 500, Loss: 0.2892: 100%|██████████| 500/500 [00:32<00:00, 15.40it/s]\n"
          ]
        },
        {
          "output_type": "stream",
          "name": "stdout",
          "text": [
            "43th epoch starting.\n"
          ]
        },
        {
          "output_type": "stream",
          "name": "stderr",
          "text": [
            "Epoch 44, Batch 500, Loss: 0.2240: 100%|██████████| 500/500 [00:32<00:00, 15.35it/s]\n"
          ]
        },
        {
          "output_type": "stream",
          "name": "stdout",
          "text": [
            "44th epoch starting.\n"
          ]
        },
        {
          "output_type": "stream",
          "name": "stderr",
          "text": [
            "Epoch 45, Batch 500, Loss: 0.2421: 100%|██████████| 500/500 [00:32<00:00, 15.40it/s]\n"
          ]
        },
        {
          "output_type": "stream",
          "name": "stdout",
          "text": [
            "45th epoch starting.\n"
          ]
        },
        {
          "output_type": "stream",
          "name": "stderr",
          "text": [
            "Epoch 46, Batch 500, Loss: 0.3697: 100%|██████████| 500/500 [00:32<00:00, 15.37it/s]\n"
          ]
        },
        {
          "output_type": "stream",
          "name": "stdout",
          "text": [
            "46th epoch starting.\n"
          ]
        },
        {
          "output_type": "stream",
          "name": "stderr",
          "text": [
            "Epoch 47, Batch 500, Loss: 0.2709: 100%|██████████| 500/500 [00:32<00:00, 15.46it/s]\n"
          ]
        },
        {
          "output_type": "stream",
          "name": "stdout",
          "text": [
            "47th epoch starting.\n"
          ]
        },
        {
          "output_type": "stream",
          "name": "stderr",
          "text": [
            "Epoch 48, Batch 500, Loss: 0.1884: 100%|██████████| 500/500 [00:32<00:00, 15.49it/s]\n"
          ]
        },
        {
          "output_type": "stream",
          "name": "stdout",
          "text": [
            "48th epoch starting.\n"
          ]
        },
        {
          "output_type": "stream",
          "name": "stderr",
          "text": [
            "Epoch 49, Batch 500, Loss: 0.2128: 100%|██████████| 500/500 [00:32<00:00, 15.49it/s]\n"
          ]
        },
        {
          "output_type": "stream",
          "name": "stdout",
          "text": [
            "49th epoch starting.\n"
          ]
        },
        {
          "output_type": "stream",
          "name": "stderr",
          "text": [
            "Epoch 50, Batch 500, Loss: 0.2960: 100%|██████████| 500/500 [00:32<00:00, 15.31it/s]\n"
          ]
        },
        {
          "output_type": "stream",
          "name": "stdout",
          "text": [
            "50th epoch starting.\n"
          ]
        },
        {
          "output_type": "stream",
          "name": "stderr",
          "text": [
            "Epoch 51, Batch 500, Loss: 0.2941: 100%|██████████| 500/500 [00:32<00:00, 15.42it/s]\n"
          ]
        },
        {
          "output_type": "stream",
          "name": "stdout",
          "text": [
            "51th epoch starting.\n"
          ]
        },
        {
          "output_type": "stream",
          "name": "stderr",
          "text": [
            "Epoch 52, Batch 500, Loss: 0.3900: 100%|██████████| 500/500 [00:32<00:00, 15.42it/s]\n"
          ]
        },
        {
          "output_type": "stream",
          "name": "stdout",
          "text": [
            "52th epoch starting.\n"
          ]
        },
        {
          "output_type": "stream",
          "name": "stderr",
          "text": [
            "Epoch 53, Batch 500, Loss: 0.3030: 100%|██████████| 500/500 [00:32<00:00, 15.43it/s]\n"
          ]
        },
        {
          "output_type": "stream",
          "name": "stdout",
          "text": [
            "53th epoch starting.\n"
          ]
        },
        {
          "output_type": "stream",
          "name": "stderr",
          "text": [
            "Epoch 54, Batch 500, Loss: 0.2544: 100%|██████████| 500/500 [00:32<00:00, 15.43it/s]\n"
          ]
        },
        {
          "output_type": "stream",
          "name": "stdout",
          "text": [
            "54th epoch starting.\n"
          ]
        },
        {
          "output_type": "stream",
          "name": "stderr",
          "text": [
            "Epoch 55, Batch 500, Loss: 0.2783: 100%|██████████| 500/500 [00:32<00:00, 15.31it/s]\n"
          ]
        },
        {
          "output_type": "stream",
          "name": "stdout",
          "text": [
            "55th epoch starting.\n"
          ]
        },
        {
          "output_type": "stream",
          "name": "stderr",
          "text": [
            "Epoch 56, Batch 500, Loss: 0.3315: 100%|██████████| 500/500 [00:32<00:00, 15.35it/s]\n"
          ]
        },
        {
          "output_type": "stream",
          "name": "stdout",
          "text": [
            "56th epoch starting.\n"
          ]
        },
        {
          "output_type": "stream",
          "name": "stderr",
          "text": [
            "Epoch 57, Batch 500, Loss: 0.2973: 100%|██████████| 500/500 [00:32<00:00, 15.44it/s]\n"
          ]
        },
        {
          "output_type": "stream",
          "name": "stdout",
          "text": [
            "57th epoch starting.\n"
          ]
        },
        {
          "output_type": "stream",
          "name": "stderr",
          "text": [
            "Epoch 58, Batch 500, Loss: 0.2641: 100%|██████████| 500/500 [00:32<00:00, 15.42it/s]\n"
          ]
        },
        {
          "output_type": "stream",
          "name": "stdout",
          "text": [
            "58th epoch starting.\n"
          ]
        },
        {
          "output_type": "stream",
          "name": "stderr",
          "text": [
            "Epoch 59, Batch 500, Loss: 0.2378: 100%|██████████| 500/500 [00:32<00:00, 15.39it/s]\n"
          ]
        },
        {
          "output_type": "stream",
          "name": "stdout",
          "text": [
            "59th epoch starting.\n"
          ]
        },
        {
          "output_type": "stream",
          "name": "stderr",
          "text": [
            "Epoch 60, Batch 500, Loss: 0.2521: 100%|██████████| 500/500 [00:32<00:00, 15.34it/s]\n"
          ]
        },
        {
          "output_type": "stream",
          "name": "stdout",
          "text": [
            "60th epoch starting.\n"
          ]
        },
        {
          "output_type": "stream",
          "name": "stderr",
          "text": [
            "Epoch 61, Batch 500, Loss: 0.2055: 100%|██████████| 500/500 [00:32<00:00, 15.40it/s]\n"
          ]
        },
        {
          "output_type": "stream",
          "name": "stdout",
          "text": [
            "61th epoch starting.\n"
          ]
        },
        {
          "output_type": "stream",
          "name": "stderr",
          "text": [
            "Epoch 62, Batch 500, Loss: 0.2252: 100%|██████████| 500/500 [00:32<00:00, 15.34it/s]\n"
          ]
        },
        {
          "output_type": "stream",
          "name": "stdout",
          "text": [
            "62th epoch starting.\n"
          ]
        },
        {
          "output_type": "stream",
          "name": "stderr",
          "text": [
            "Epoch 63, Batch 500, Loss: 0.1740: 100%|██████████| 500/500 [00:32<00:00, 15.37it/s]\n"
          ]
        },
        {
          "output_type": "stream",
          "name": "stdout",
          "text": [
            "63th epoch starting.\n"
          ]
        },
        {
          "output_type": "stream",
          "name": "stderr",
          "text": [
            "Epoch 64, Batch 500, Loss: 0.3262: 100%|██████████| 500/500 [00:32<00:00, 15.31it/s]\n"
          ]
        },
        {
          "output_type": "stream",
          "name": "stdout",
          "text": [
            "64th epoch starting.\n"
          ]
        },
        {
          "output_type": "stream",
          "name": "stderr",
          "text": [
            "Epoch 65, Batch 500, Loss: 0.1915: 100%|██████████| 500/500 [00:32<00:00, 15.37it/s]\n"
          ]
        },
        {
          "output_type": "stream",
          "name": "stdout",
          "text": [
            "65th epoch starting.\n"
          ]
        },
        {
          "output_type": "stream",
          "name": "stderr",
          "text": [
            "Epoch 66, Batch 500, Loss: 0.2696: 100%|██████████| 500/500 [00:32<00:00, 15.26it/s]\n"
          ]
        },
        {
          "output_type": "stream",
          "name": "stdout",
          "text": [
            "66th epoch starting.\n"
          ]
        },
        {
          "output_type": "stream",
          "name": "stderr",
          "text": [
            "Epoch 67, Batch 500, Loss: 0.1520: 100%|██████████| 500/500 [00:32<00:00, 15.43it/s]\n"
          ]
        },
        {
          "output_type": "stream",
          "name": "stdout",
          "text": [
            "67th epoch starting.\n"
          ]
        },
        {
          "output_type": "stream",
          "name": "stderr",
          "text": [
            "Epoch 68, Batch 500, Loss: 0.1602: 100%|██████████| 500/500 [00:32<00:00, 15.29it/s]\n"
          ]
        },
        {
          "output_type": "stream",
          "name": "stdout",
          "text": [
            "68th epoch starting.\n"
          ]
        },
        {
          "output_type": "stream",
          "name": "stderr",
          "text": [
            "Epoch 69, Batch 500, Loss: 0.2271: 100%|██████████| 500/500 [00:32<00:00, 15.41it/s]\n"
          ]
        },
        {
          "output_type": "stream",
          "name": "stdout",
          "text": [
            "69th epoch starting.\n"
          ]
        },
        {
          "output_type": "stream",
          "name": "stderr",
          "text": [
            "Epoch 70, Batch 500, Loss: 0.1878: 100%|██████████| 500/500 [00:32<00:00, 15.40it/s]\n"
          ]
        },
        {
          "output_type": "stream",
          "name": "stdout",
          "text": [
            "70th epoch starting.\n"
          ]
        },
        {
          "output_type": "stream",
          "name": "stderr",
          "text": [
            "Epoch 71, Batch 500, Loss: 0.1353: 100%|██████████| 500/500 [00:32<00:00, 15.22it/s]\n"
          ]
        },
        {
          "output_type": "stream",
          "name": "stdout",
          "text": [
            "71th epoch starting.\n"
          ]
        },
        {
          "output_type": "stream",
          "name": "stderr",
          "text": [
            "Epoch 72, Batch 500, Loss: 0.2070: 100%|██████████| 500/500 [00:32<00:00, 15.31it/s]\n"
          ]
        },
        {
          "output_type": "stream",
          "name": "stdout",
          "text": [
            "72th epoch starting.\n"
          ]
        },
        {
          "output_type": "stream",
          "name": "stderr",
          "text": [
            "Epoch 73, Batch 500, Loss: 0.1843: 100%|██████████| 500/500 [00:32<00:00, 15.35it/s]\n"
          ]
        },
        {
          "output_type": "stream",
          "name": "stdout",
          "text": [
            "73th epoch starting.\n"
          ]
        },
        {
          "output_type": "stream",
          "name": "stderr",
          "text": [
            "Epoch 74, Batch 500, Loss: 0.1770: 100%|██████████| 500/500 [00:32<00:00, 15.31it/s]\n"
          ]
        },
        {
          "output_type": "stream",
          "name": "stdout",
          "text": [
            "74th epoch starting.\n"
          ]
        },
        {
          "output_type": "stream",
          "name": "stderr",
          "text": [
            "Epoch 75, Batch 500, Loss: 0.1501: 100%|██████████| 500/500 [00:32<00:00, 15.36it/s]\n"
          ]
        },
        {
          "output_type": "stream",
          "name": "stdout",
          "text": [
            "75th epoch starting.\n"
          ]
        },
        {
          "output_type": "stream",
          "name": "stderr",
          "text": [
            "Epoch 76, Batch 500, Loss: 0.0957: 100%|██████████| 500/500 [00:32<00:00, 15.31it/s]\n"
          ]
        },
        {
          "output_type": "stream",
          "name": "stdout",
          "text": [
            "76th epoch starting.\n"
          ]
        },
        {
          "output_type": "stream",
          "name": "stderr",
          "text": [
            "Epoch 77, Batch 500, Loss: 0.2234: 100%|██████████| 500/500 [00:32<00:00, 15.29it/s]\n"
          ]
        },
        {
          "output_type": "stream",
          "name": "stdout",
          "text": [
            "77th epoch starting.\n"
          ]
        },
        {
          "output_type": "stream",
          "name": "stderr",
          "text": [
            "Epoch 78, Batch 500, Loss: 0.1782: 100%|██████████| 500/500 [00:32<00:00, 15.43it/s]\n"
          ]
        },
        {
          "output_type": "stream",
          "name": "stdout",
          "text": [
            "78th epoch starting.\n"
          ]
        },
        {
          "output_type": "stream",
          "name": "stderr",
          "text": [
            "Epoch 79, Batch 500, Loss: 0.1843: 100%|██████████| 500/500 [00:32<00:00, 15.35it/s]\n"
          ]
        },
        {
          "output_type": "stream",
          "name": "stdout",
          "text": [
            "79th epoch starting.\n"
          ]
        },
        {
          "output_type": "stream",
          "name": "stderr",
          "text": [
            "Epoch 80, Batch 500, Loss: 0.1566: 100%|██████████| 500/500 [00:32<00:00, 15.34it/s]\n"
          ]
        },
        {
          "output_type": "stream",
          "name": "stdout",
          "text": [
            "80th epoch starting.\n"
          ]
        },
        {
          "output_type": "stream",
          "name": "stderr",
          "text": [
            "Epoch 81, Batch 500, Loss: 0.2358: 100%|██████████| 500/500 [00:32<00:00, 15.33it/s]\n"
          ]
        },
        {
          "output_type": "stream",
          "name": "stdout",
          "text": [
            "81th epoch starting.\n"
          ]
        },
        {
          "output_type": "stream",
          "name": "stderr",
          "text": [
            "Epoch 82, Batch 500, Loss: 0.2570: 100%|██████████| 500/500 [00:32<00:00, 15.22it/s]\n"
          ]
        },
        {
          "output_type": "stream",
          "name": "stdout",
          "text": [
            "82th epoch starting.\n"
          ]
        },
        {
          "output_type": "stream",
          "name": "stderr",
          "text": [
            "Epoch 83, Batch 500, Loss: 0.1833: 100%|██████████| 500/500 [00:32<00:00, 15.40it/s]\n"
          ]
        },
        {
          "output_type": "stream",
          "name": "stdout",
          "text": [
            "83th epoch starting.\n"
          ]
        },
        {
          "output_type": "stream",
          "name": "stderr",
          "text": [
            "Epoch 84, Batch 500, Loss: 0.3140: 100%|██████████| 500/500 [00:32<00:00, 15.27it/s]\n"
          ]
        },
        {
          "output_type": "stream",
          "name": "stdout",
          "text": [
            "84th epoch starting.\n"
          ]
        },
        {
          "output_type": "stream",
          "name": "stderr",
          "text": [
            "Epoch 85, Batch 500, Loss: 0.2273: 100%|██████████| 500/500 [00:32<00:00, 15.31it/s]\n"
          ]
        },
        {
          "output_type": "stream",
          "name": "stdout",
          "text": [
            "85th epoch starting.\n"
          ]
        },
        {
          "output_type": "stream",
          "name": "stderr",
          "text": [
            "Epoch 86, Batch 500, Loss: 0.1471: 100%|██████████| 500/500 [00:32<00:00, 15.27it/s]\n"
          ]
        },
        {
          "output_type": "stream",
          "name": "stdout",
          "text": [
            "86th epoch starting.\n"
          ]
        },
        {
          "output_type": "stream",
          "name": "stderr",
          "text": [
            "Epoch 87, Batch 500, Loss: 0.0820: 100%|██████████| 500/500 [00:32<00:00, 15.17it/s]\n"
          ]
        },
        {
          "output_type": "stream",
          "name": "stdout",
          "text": [
            "87th epoch starting.\n"
          ]
        },
        {
          "output_type": "stream",
          "name": "stderr",
          "text": [
            "Epoch 88, Batch 500, Loss: 0.1939: 100%|██████████| 500/500 [00:32<00:00, 15.35it/s]\n"
          ]
        },
        {
          "output_type": "stream",
          "name": "stdout",
          "text": [
            "88th epoch starting.\n"
          ]
        },
        {
          "output_type": "stream",
          "name": "stderr",
          "text": [
            "Epoch 89, Batch 500, Loss: 0.1479: 100%|██████████| 500/500 [00:32<00:00, 15.31it/s]\n"
          ]
        },
        {
          "output_type": "stream",
          "name": "stdout",
          "text": [
            "89th epoch starting.\n"
          ]
        },
        {
          "output_type": "stream",
          "name": "stderr",
          "text": [
            "Epoch 90, Batch 500, Loss: 0.0625: 100%|██████████| 500/500 [00:32<00:00, 15.48it/s]\n"
          ]
        },
        {
          "output_type": "stream",
          "name": "stdout",
          "text": [
            "90th epoch starting.\n"
          ]
        },
        {
          "output_type": "stream",
          "name": "stderr",
          "text": [
            "Epoch 91, Batch 500, Loss: 0.0387: 100%|██████████| 500/500 [00:32<00:00, 15.40it/s]\n"
          ]
        },
        {
          "output_type": "stream",
          "name": "stdout",
          "text": [
            "91th epoch starting.\n"
          ]
        },
        {
          "output_type": "stream",
          "name": "stderr",
          "text": [
            "Epoch 92, Batch 500, Loss: 0.2613: 100%|██████████| 500/500 [00:32<00:00, 15.41it/s]\n"
          ]
        },
        {
          "output_type": "stream",
          "name": "stdout",
          "text": [
            "92th epoch starting.\n"
          ]
        },
        {
          "output_type": "stream",
          "name": "stderr",
          "text": [
            "Epoch 93, Batch 500, Loss: 0.1299: 100%|██████████| 500/500 [00:32<00:00, 15.34it/s]\n"
          ]
        },
        {
          "output_type": "stream",
          "name": "stdout",
          "text": [
            "93th epoch starting.\n"
          ]
        },
        {
          "output_type": "stream",
          "name": "stderr",
          "text": [
            "Epoch 94, Batch 500, Loss: 0.1635: 100%|██████████| 500/500 [00:32<00:00, 15.43it/s]\n"
          ]
        },
        {
          "output_type": "stream",
          "name": "stdout",
          "text": [
            "94th epoch starting.\n"
          ]
        },
        {
          "output_type": "stream",
          "name": "stderr",
          "text": [
            "Epoch 95, Batch 500, Loss: 0.0881: 100%|██████████| 500/500 [00:32<00:00, 15.46it/s]\n"
          ]
        },
        {
          "output_type": "stream",
          "name": "stdout",
          "text": [
            "95th epoch starting.\n"
          ]
        },
        {
          "output_type": "stream",
          "name": "stderr",
          "text": [
            "Epoch 96, Batch 500, Loss: 0.1754: 100%|██████████| 500/500 [00:32<00:00, 15.42it/s]\n"
          ]
        },
        {
          "output_type": "stream",
          "name": "stdout",
          "text": [
            "96th epoch starting.\n"
          ]
        },
        {
          "output_type": "stream",
          "name": "stderr",
          "text": [
            "Epoch 97, Batch 500, Loss: 0.1337: 100%|██████████| 500/500 [00:32<00:00, 15.47it/s]\n"
          ]
        },
        {
          "output_type": "stream",
          "name": "stdout",
          "text": [
            "97th epoch starting.\n"
          ]
        },
        {
          "output_type": "stream",
          "name": "stderr",
          "text": [
            "Epoch 98, Batch 500, Loss: 0.1036: 100%|██████████| 500/500 [00:32<00:00, 15.36it/s]\n"
          ]
        },
        {
          "output_type": "stream",
          "name": "stdout",
          "text": [
            "98th epoch starting.\n"
          ]
        },
        {
          "output_type": "stream",
          "name": "stderr",
          "text": [
            "Epoch 99, Batch 500, Loss: 0.1190: 100%|██████████| 500/500 [00:32<00:00, 15.45it/s]\n"
          ]
        },
        {
          "output_type": "stream",
          "name": "stdout",
          "text": [
            "99th epoch starting.\n"
          ]
        },
        {
          "output_type": "stream",
          "name": "stderr",
          "text": [
            "Epoch 100, Batch 500, Loss: 0.1284: 100%|██████████| 500/500 [00:32<00:00, 15.32it/s]\n"
          ]
        },
        {
          "output_type": "stream",
          "name": "stdout",
          "text": [
            "Time elapsed in training is: 3484.9894104003906\n"
          ]
        }
      ]
    },
    {
      "cell_type": "code",
      "source": [
        "import pandas as pd\n",
        "\n",
        "df = pd.DataFrame({\n",
        "    'Accuracy': accuracy_list,\n",
        "    'Test Loss': test_loss_list,\n",
        "    'Train Loss' : train_loss_list\n",
        "})\n",
        "\n",
        "df.to_csv('/content/drive/MyDrive/ML Project/Baseline/metrics.csv', index=False)"
      ],
      "metadata": {
        "id": "BO7fZVK3tFBO"
      },
      "execution_count": null,
      "outputs": []
    },
    {
      "cell_type": "code",
      "source": [
        "df.tail()"
      ],
      "metadata": {
        "colab": {
          "base_uri": "https://localhost:8080/",
          "height": 206
        },
        "id": "KcjbhxMuo9ot",
        "outputId": "093ab98d-9253-4dc9-a727-39e051718ac9"
      },
      "execution_count": null,
      "outputs": [
        {
          "output_type": "execute_result",
          "data": {
            "text/plain": [
              "    Accuracy  Test Loss  Train Loss\n",
              "95     83.20   0.006082    0.132644\n",
              "96     83.31   0.006107    0.130926\n",
              "97     83.45   0.006025    0.127933\n",
              "98     82.71   0.006301    0.126466\n",
              "99     82.86   0.006491    0.121240"
            ],
            "text/html": [
              "\n",
              "  <div id=\"df-6fcc8762-64d5-4b59-b610-b57916745fee\" class=\"colab-df-container\">\n",
              "    <div>\n",
              "<style scoped>\n",
              "    .dataframe tbody tr th:only-of-type {\n",
              "        vertical-align: middle;\n",
              "    }\n",
              "\n",
              "    .dataframe tbody tr th {\n",
              "        vertical-align: top;\n",
              "    }\n",
              "\n",
              "    .dataframe thead th {\n",
              "        text-align: right;\n",
              "    }\n",
              "</style>\n",
              "<table border=\"1\" class=\"dataframe\">\n",
              "  <thead>\n",
              "    <tr style=\"text-align: right;\">\n",
              "      <th></th>\n",
              "      <th>Accuracy</th>\n",
              "      <th>Test Loss</th>\n",
              "      <th>Train Loss</th>\n",
              "    </tr>\n",
              "  </thead>\n",
              "  <tbody>\n",
              "    <tr>\n",
              "      <th>95</th>\n",
              "      <td>83.20</td>\n",
              "      <td>0.006082</td>\n",
              "      <td>0.132644</td>\n",
              "    </tr>\n",
              "    <tr>\n",
              "      <th>96</th>\n",
              "      <td>83.31</td>\n",
              "      <td>0.006107</td>\n",
              "      <td>0.130926</td>\n",
              "    </tr>\n",
              "    <tr>\n",
              "      <th>97</th>\n",
              "      <td>83.45</td>\n",
              "      <td>0.006025</td>\n",
              "      <td>0.127933</td>\n",
              "    </tr>\n",
              "    <tr>\n",
              "      <th>98</th>\n",
              "      <td>82.71</td>\n",
              "      <td>0.006301</td>\n",
              "      <td>0.126466</td>\n",
              "    </tr>\n",
              "    <tr>\n",
              "      <th>99</th>\n",
              "      <td>82.86</td>\n",
              "      <td>0.006491</td>\n",
              "      <td>0.121240</td>\n",
              "    </tr>\n",
              "  </tbody>\n",
              "</table>\n",
              "</div>\n",
              "    <div class=\"colab-df-buttons\">\n",
              "\n",
              "  <div class=\"colab-df-container\">\n",
              "    <button class=\"colab-df-convert\" onclick=\"convertToInteractive('df-6fcc8762-64d5-4b59-b610-b57916745fee')\"\n",
              "            title=\"Convert this dataframe to an interactive table.\"\n",
              "            style=\"display:none;\">\n",
              "\n",
              "  <svg xmlns=\"http://www.w3.org/2000/svg\" height=\"24px\" viewBox=\"0 -960 960 960\">\n",
              "    <path d=\"M120-120v-720h720v720H120Zm60-500h600v-160H180v160Zm220 220h160v-160H400v160Zm0 220h160v-160H400v160ZM180-400h160v-160H180v160Zm440 0h160v-160H620v160ZM180-180h160v-160H180v160Zm440 0h160v-160H620v160Z\"/>\n",
              "  </svg>\n",
              "    </button>\n",
              "\n",
              "  <style>\n",
              "    .colab-df-container {\n",
              "      display:flex;\n",
              "      gap: 12px;\n",
              "    }\n",
              "\n",
              "    .colab-df-convert {\n",
              "      background-color: #E8F0FE;\n",
              "      border: none;\n",
              "      border-radius: 50%;\n",
              "      cursor: pointer;\n",
              "      display: none;\n",
              "      fill: #1967D2;\n",
              "      height: 32px;\n",
              "      padding: 0 0 0 0;\n",
              "      width: 32px;\n",
              "    }\n",
              "\n",
              "    .colab-df-convert:hover {\n",
              "      background-color: #E2EBFA;\n",
              "      box-shadow: 0px 1px 2px rgba(60, 64, 67, 0.3), 0px 1px 3px 1px rgba(60, 64, 67, 0.15);\n",
              "      fill: #174EA6;\n",
              "    }\n",
              "\n",
              "    .colab-df-buttons div {\n",
              "      margin-bottom: 4px;\n",
              "    }\n",
              "\n",
              "    [theme=dark] .colab-df-convert {\n",
              "      background-color: #3B4455;\n",
              "      fill: #D2E3FC;\n",
              "    }\n",
              "\n",
              "    [theme=dark] .colab-df-convert:hover {\n",
              "      background-color: #434B5C;\n",
              "      box-shadow: 0px 1px 3px 1px rgba(0, 0, 0, 0.15);\n",
              "      filter: drop-shadow(0px 1px 2px rgba(0, 0, 0, 0.3));\n",
              "      fill: #FFFFFF;\n",
              "    }\n",
              "  </style>\n",
              "\n",
              "    <script>\n",
              "      const buttonEl =\n",
              "        document.querySelector('#df-6fcc8762-64d5-4b59-b610-b57916745fee button.colab-df-convert');\n",
              "      buttonEl.style.display =\n",
              "        google.colab.kernel.accessAllowed ? 'block' : 'none';\n",
              "\n",
              "      async function convertToInteractive(key) {\n",
              "        const element = document.querySelector('#df-6fcc8762-64d5-4b59-b610-b57916745fee');\n",
              "        const dataTable =\n",
              "          await google.colab.kernel.invokeFunction('convertToInteractive',\n",
              "                                                    [key], {});\n",
              "        if (!dataTable) return;\n",
              "\n",
              "        const docLinkHtml = 'Like what you see? Visit the ' +\n",
              "          '<a target=\"_blank\" href=https://colab.research.google.com/notebooks/data_table.ipynb>data table notebook</a>'\n",
              "          + ' to learn more about interactive tables.';\n",
              "        element.innerHTML = '';\n",
              "        dataTable['output_type'] = 'display_data';\n",
              "        await google.colab.output.renderOutput(dataTable, element);\n",
              "        const docLink = document.createElement('div');\n",
              "        docLink.innerHTML = docLinkHtml;\n",
              "        element.appendChild(docLink);\n",
              "      }\n",
              "    </script>\n",
              "  </div>\n",
              "\n",
              "\n",
              "<div id=\"df-10d18331-099d-45ab-b59a-c3b564d77396\">\n",
              "  <button class=\"colab-df-quickchart\" onclick=\"quickchart('df-10d18331-099d-45ab-b59a-c3b564d77396')\"\n",
              "            title=\"Suggest charts\"\n",
              "            style=\"display:none;\">\n",
              "\n",
              "<svg xmlns=\"http://www.w3.org/2000/svg\" height=\"24px\"viewBox=\"0 0 24 24\"\n",
              "     width=\"24px\">\n",
              "    <g>\n",
              "        <path d=\"M19 3H5c-1.1 0-2 .9-2 2v14c0 1.1.9 2 2 2h14c1.1 0 2-.9 2-2V5c0-1.1-.9-2-2-2zM9 17H7v-7h2v7zm4 0h-2V7h2v10zm4 0h-2v-4h2v4z\"/>\n",
              "    </g>\n",
              "</svg>\n",
              "  </button>\n",
              "\n",
              "<style>\n",
              "  .colab-df-quickchart {\n",
              "      --bg-color: #E8F0FE;\n",
              "      --fill-color: #1967D2;\n",
              "      --hover-bg-color: #E2EBFA;\n",
              "      --hover-fill-color: #174EA6;\n",
              "      --disabled-fill-color: #AAA;\n",
              "      --disabled-bg-color: #DDD;\n",
              "  }\n",
              "\n",
              "  [theme=dark] .colab-df-quickchart {\n",
              "      --bg-color: #3B4455;\n",
              "      --fill-color: #D2E3FC;\n",
              "      --hover-bg-color: #434B5C;\n",
              "      --hover-fill-color: #FFFFFF;\n",
              "      --disabled-bg-color: #3B4455;\n",
              "      --disabled-fill-color: #666;\n",
              "  }\n",
              "\n",
              "  .colab-df-quickchart {\n",
              "    background-color: var(--bg-color);\n",
              "    border: none;\n",
              "    border-radius: 50%;\n",
              "    cursor: pointer;\n",
              "    display: none;\n",
              "    fill: var(--fill-color);\n",
              "    height: 32px;\n",
              "    padding: 0;\n",
              "    width: 32px;\n",
              "  }\n",
              "\n",
              "  .colab-df-quickchart:hover {\n",
              "    background-color: var(--hover-bg-color);\n",
              "    box-shadow: 0 1px 2px rgba(60, 64, 67, 0.3), 0 1px 3px 1px rgba(60, 64, 67, 0.15);\n",
              "    fill: var(--button-hover-fill-color);\n",
              "  }\n",
              "\n",
              "  .colab-df-quickchart-complete:disabled,\n",
              "  .colab-df-quickchart-complete:disabled:hover {\n",
              "    background-color: var(--disabled-bg-color);\n",
              "    fill: var(--disabled-fill-color);\n",
              "    box-shadow: none;\n",
              "  }\n",
              "\n",
              "  .colab-df-spinner {\n",
              "    border: 2px solid var(--fill-color);\n",
              "    border-color: transparent;\n",
              "    border-bottom-color: var(--fill-color);\n",
              "    animation:\n",
              "      spin 1s steps(1) infinite;\n",
              "  }\n",
              "\n",
              "  @keyframes spin {\n",
              "    0% {\n",
              "      border-color: transparent;\n",
              "      border-bottom-color: var(--fill-color);\n",
              "      border-left-color: var(--fill-color);\n",
              "    }\n",
              "    20% {\n",
              "      border-color: transparent;\n",
              "      border-left-color: var(--fill-color);\n",
              "      border-top-color: var(--fill-color);\n",
              "    }\n",
              "    30% {\n",
              "      border-color: transparent;\n",
              "      border-left-color: var(--fill-color);\n",
              "      border-top-color: var(--fill-color);\n",
              "      border-right-color: var(--fill-color);\n",
              "    }\n",
              "    40% {\n",
              "      border-color: transparent;\n",
              "      border-right-color: var(--fill-color);\n",
              "      border-top-color: var(--fill-color);\n",
              "    }\n",
              "    60% {\n",
              "      border-color: transparent;\n",
              "      border-right-color: var(--fill-color);\n",
              "    }\n",
              "    80% {\n",
              "      border-color: transparent;\n",
              "      border-right-color: var(--fill-color);\n",
              "      border-bottom-color: var(--fill-color);\n",
              "    }\n",
              "    90% {\n",
              "      border-color: transparent;\n",
              "      border-bottom-color: var(--fill-color);\n",
              "    }\n",
              "  }\n",
              "</style>\n",
              "\n",
              "  <script>\n",
              "    async function quickchart(key) {\n",
              "      const quickchartButtonEl =\n",
              "        document.querySelector('#' + key + ' button');\n",
              "      quickchartButtonEl.disabled = true;  // To prevent multiple clicks.\n",
              "      quickchartButtonEl.classList.add('colab-df-spinner');\n",
              "      try {\n",
              "        const charts = await google.colab.kernel.invokeFunction(\n",
              "            'suggestCharts', [key], {});\n",
              "      } catch (error) {\n",
              "        console.error('Error during call to suggestCharts:', error);\n",
              "      }\n",
              "      quickchartButtonEl.classList.remove('colab-df-spinner');\n",
              "      quickchartButtonEl.classList.add('colab-df-quickchart-complete');\n",
              "    }\n",
              "    (() => {\n",
              "      let quickchartButtonEl =\n",
              "        document.querySelector('#df-10d18331-099d-45ab-b59a-c3b564d77396 button');\n",
              "      quickchartButtonEl.style.display =\n",
              "        google.colab.kernel.accessAllowed ? 'block' : 'none';\n",
              "    })();\n",
              "  </script>\n",
              "</div>\n",
              "\n",
              "    </div>\n",
              "  </div>\n"
            ]
          },
          "metadata": {},
          "execution_count": 20
        }
      ]
    },
    {
      "cell_type": "code",
      "source": [
        "import matplotlib.pyplot as plt\n",
        "\n",
        "# 데이터 로드\n",
        "df = pd.read_csv('/content/drive/MyDrive/ML Project/Baseline/metrics.csv')\n",
        "\n",
        "# 그래프 크기 설정\n",
        "plt.figure(figsize=(12, 4))\n",
        "\n",
        "# Train Loss\n",
        "plt.subplot(1, 3, 1)\n",
        "plt.plot(df['Train Loss'], label='Train Loss', color='blue')\n",
        "plt.xlabel('Epoch')\n",
        "plt.ylabel('Loss')\n",
        "plt.title('Train Loss')\n",
        "plt.legend()\n",
        "\n",
        "# Test Loss\n",
        "plt.subplot(1, 3, 2)\n",
        "plt.plot(df['Test Loss'] * 200, label='Test Loss', color='red')\n",
        "plt.xlabel('Epoch')\n",
        "plt.ylabel('Loss')\n",
        "plt.title('Test Loss')\n",
        "plt.legend()\n",
        "\n",
        "# Accuracy\n",
        "plt.subplot(1, 3, 3)\n",
        "plt.plot(df['Accuracy'], label='Accuracy', color='green')\n",
        "plt.xlabel('Epoch')\n",
        "plt.ylabel('Accuracy (%)')\n",
        "plt.title('Accuracy')\n",
        "plt.legend()\n",
        "\n",
        "plt.tight_layout()\n",
        "plt.show()"
      ],
      "metadata": {
        "colab": {
          "base_uri": "https://localhost:8080/",
          "height": 407
        },
        "id": "sjmNXG7_Ukjj",
        "outputId": "c8293f22-b905-4f50-f94b-9975c73b172d"
      },
      "execution_count": null,
      "outputs": [
        {
          "output_type": "display_data",
          "data": {
            "text/plain": [
              "<Figure size 1200x400 with 3 Axes>"
            ],
            "image/png": "[encoded data removed]"
          },
          "metadata": {}
        }
      ]
    },
    {
      "cell_type": "code",
      "source": [
        "model = MobileNet().to(device)\n",
        "\n",
        "# 저장된 Best 가중치 불러오기\n",
        "model_path = '/content/drive/MyDrive/ML Project/Baseline/model/best_model_epoch_90.pkt'\n",
        "model.load_state_dict(torch.load(model_path))"
      ],
      "metadata": {
        "colab": {
          "base_uri": "https://localhost:8080/"
        },
        "id": "lVLYgFs1o-fx",
        "outputId": "f115f9e6-c7ce-401d-a035-bdeb29256f3d"
      },
      "execution_count": null,
      "outputs": [
        {
          "output_type": "execute_result",
          "data": {
            "text/plain": [
              "<All keys matched successfully>"
            ]
          },
          "metadata": {},
          "execution_count": 29
        }
      ]
    },
    {
      "cell_type": "code",
      "source": [
        "model.eval()\n",
        "test_loss, correct, total = 0, 0, 0\n",
        "\n",
        "test_loader = torch.utils.data.DataLoader(dataset=test_dataset, batch_size=100, shuffle=False)\n",
        "with torch.no_grad():  #using context manager\n",
        "    for images, labels in test_loader :\n",
        "        images, labels = images.to(device), labels.to(device)\n",
        "\n",
        "        output = model(images)\n",
        "        test_loss += loss_function(output, labels).item()\n",
        "\n",
        "        pred = output.max(1, keepdim=True)[1]\n",
        "        correct += pred.eq(labels.view_as(pred)).sum().item()\n",
        "\n",
        "        total += labels.size(0)\n",
        "\n",
        "print('[Test set] Average loss: {:.4f}, Accuracy: {}/{} ({:.2f}%)\\n'.format(\n",
        "        test_loss /total, correct, total,\n",
        "        100. * correct / total))"
      ],
      "metadata": {
        "colab": {
          "base_uri": "https://localhost:8080/"
        },
        "id": "12R099LFs3RJ",
        "outputId": "623b9f4e-7a85-479d-bb93-782cc4aac499"
      },
      "execution_count": null,
      "outputs": [
        {
          "output_type": "stream",
          "name": "stdout",
          "text": [
            "[Test set] Average loss: 0.0056, Accuracy: 8426/10000 (84.26%)\n",
            "\n"
          ]
        }
      ]
    },
    {
      "cell_type": "code",
      "source": [
        "# Best 가중치 상위 폴더 저장\n",
        "import shutil\n",
        "\n",
        "source_path = '/content/drive/MyDrive/ML Project/Baseline/model/best_model_epoch_90.pkt'\n",
        "destination_path = '/content/drive/MyDrive/ML Project/Baseline/'\n",
        "\n",
        "shutil.move(source_path, destination_path)"
      ],
      "metadata": {
        "colab": {
          "base_uri": "https://localhost:8080/",
          "height": 35
        },
        "id": "4gDcy6cdvxWl",
        "outputId": "a0519456-dc86-48be-a6c9-2aa5f58e1df9"
      },
      "execution_count": null,
      "outputs": [
        {
          "output_type": "execute_result",
          "data": {
            "text/plain": [
              "'/content/drive/MyDrive/ML Project/Baseline/best_model_epoch_90.pkt'"
            ],
            "application/vnd.google.colaboratory.intrinsic+json": {
              "type": "string"
            }
          },
          "metadata": {},
          "execution_count": 31
        }
      ]
    }
  ]
}